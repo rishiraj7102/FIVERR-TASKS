{
 "cells": [
  {
   "cell_type": "markdown",
   "metadata": {
    "id": "2TK5OkATJ--D"
   },
   "source": [
    "## Assignment 4 - MGOD30, Business Data Analytics, Summer 2021\n",
    "\n",
    "## Accountable Receivable Analysis\n",
    "\n",
    "You are a business manager hired to analyze real data on accounts receivable for a two-year period at a firm. The firm would like to get further insights on the invoice amounts, how often they were late, and whether they were disputed. They also would like to know more how data analytics could be an useful tool for their process. Results will be presented in financial meetings with the CEO and CFO at the company. \n",
    "\n",
    "Please answer the following managerial questions in the appropriate cells below. Your analysis, plots, and predictive models will help managers gain insights and improve their decision-making process.\n",
    "\n",
    "This is a real dataset provided by an Informations Technology firm that offers international services across many countries. It is composed by the following columns:\n",
    "\n",
    "- <i>countryCode</i>: country code of the customer the invoice refers to;\n",
    "- <i>customerID</i>: customer unique identifier;\n",
    "- <i>invoiceNumber</i>: invoice unique identifier;\n",
    "- <i>InvoiceDate</i>: invoice date;\n",
    "- <i>InvoiceAmount</i>: total amount of the invoice;\n",
    "- <i>Disputed</i>: if the invoice was disputed by the customer;\n",
    "- <i>PaperlessBill</i>:\tif the invoice was done by paper or electronic;\n",
    "- <i>DaysLate</i>: days the invoice payment is late (empty if zero).\n",
    "\n",
    "This assignment is worth <i>7 (out of 25) points.</i> Recall to answer both quantitative and qualitative questions."
   ]
  },
  {
   "cell_type": "code",
   "execution_count": 1,
   "metadata": {
    "id": "SaeZHvFQJ--G"
   },
   "outputs": [],
   "source": [
    "# Import modules\n",
    "import pandas as pd\n",
    "import numpy as np\n",
    "import matplotlib.pyplot as plt\n",
    "import scipy.stats as stats"
   ]
  },
  {
   "cell_type": "markdown",
   "metadata": {
    "id": "bPME7JFiJ--H"
   },
   "source": [
    "### Data Reading"
   ]
  },
  {
   "cell_type": "code",
   "execution_count": 2,
   "metadata": {
    "id": "VYatHnk5J--H",
    "outputId": "fb2cfa21-19ad-46ef-85f5-5bb983052575"
   },
   "outputs": [
    {
     "data": {
      "text/html": [
       "<div>\n",
       "<style scoped>\n",
       "    .dataframe tbody tr th:only-of-type {\n",
       "        vertical-align: middle;\n",
       "    }\n",
       "\n",
       "    .dataframe tbody tr th {\n",
       "        vertical-align: top;\n",
       "    }\n",
       "\n",
       "    .dataframe thead th {\n",
       "        text-align: right;\n",
       "    }\n",
       "</style>\n",
       "<table border=\"1\" class=\"dataframe\">\n",
       "  <thead>\n",
       "    <tr style=\"text-align: right;\">\n",
       "      <th></th>\n",
       "      <th>countryCode</th>\n",
       "      <th>customerID</th>\n",
       "      <th>invoiceNumber</th>\n",
       "      <th>InvoiceDate</th>\n",
       "      <th>InvoiceAmount</th>\n",
       "      <th>Disputed</th>\n",
       "      <th>PaperlessBill</th>\n",
       "      <th>DaysLate</th>\n",
       "    </tr>\n",
       "  </thead>\n",
       "  <tbody>\n",
       "    <tr>\n",
       "      <th>0</th>\n",
       "      <td>391</td>\n",
       "      <td>0379-NEVHP</td>\n",
       "      <td>611365</td>\n",
       "      <td>1/2/2013</td>\n",
       "      <td>55.94</td>\n",
       "      <td>No</td>\n",
       "      <td>Paper</td>\n",
       "      <td>1.0</td>\n",
       "    </tr>\n",
       "    <tr>\n",
       "      <th>1</th>\n",
       "      <td>406</td>\n",
       "      <td>8976-AMJEO</td>\n",
       "      <td>7900770</td>\n",
       "      <td>1/26/2013</td>\n",
       "      <td>61.74</td>\n",
       "      <td>Yes</td>\n",
       "      <td>Electronic</td>\n",
       "      <td>6.0</td>\n",
       "    </tr>\n",
       "    <tr>\n",
       "      <th>2</th>\n",
       "      <td>391</td>\n",
       "      <td>2820-XGXSB</td>\n",
       "      <td>9231909</td>\n",
       "      <td>7/3/2013</td>\n",
       "      <td>65.88</td>\n",
       "      <td>No</td>\n",
       "      <td>Electronic</td>\n",
       "      <td>2.0</td>\n",
       "    </tr>\n",
       "    <tr>\n",
       "      <th>3</th>\n",
       "      <td>406</td>\n",
       "      <td>9322-YCTQO</td>\n",
       "      <td>9888306</td>\n",
       "      <td>2/10/2013</td>\n",
       "      <td>105.92</td>\n",
       "      <td>No</td>\n",
       "      <td>Electronic</td>\n",
       "      <td>5.0</td>\n",
       "    </tr>\n",
       "    <tr>\n",
       "      <th>4</th>\n",
       "      <td>818</td>\n",
       "      <td>6627-ELFBK</td>\n",
       "      <td>15752855</td>\n",
       "      <td>10/25/2012</td>\n",
       "      <td>72.27</td>\n",
       "      <td>Yes</td>\n",
       "      <td>Paper</td>\n",
       "      <td>4.0</td>\n",
       "    </tr>\n",
       "  </tbody>\n",
       "</table>\n",
       "</div>"
      ],
      "text/plain": [
       "   countryCode  customerID  invoiceNumber InvoiceDate InvoiceAmount Disputed  \\\n",
       "0          391  0379-NEVHP         611365    1/2/2013         55.94       No   \n",
       "1          406  8976-AMJEO        7900770   1/26/2013         61.74      Yes   \n",
       "2          391  2820-XGXSB        9231909    7/3/2013         65.88       No   \n",
       "3          406  9322-YCTQO        9888306   2/10/2013        105.92       No   \n",
       "4          818  6627-ELFBK       15752855  10/25/2012         72.27      Yes   \n",
       "\n",
       "  PaperlessBill  DaysLate  \n",
       "0         Paper       1.0  \n",
       "1    Electronic       6.0  \n",
       "2    Electronic       2.0  \n",
       "3    Electronic       5.0  \n",
       "4         Paper       4.0  "
      ]
     },
     "execution_count": 2,
     "metadata": {},
     "output_type": "execute_result"
    }
   ],
   "source": [
    "# Read data\n",
    "dfInvoice = pd.read_csv(\"accounts.csv\")\n",
    "dfInvoice.head(5)"
   ]
  },
  {
   "cell_type": "code",
   "execution_count": 3,
   "metadata": {},
   "outputs": [
    {
     "data": {
      "text/html": [
       "<div>\n",
       "<style scoped>\n",
       "    .dataframe tbody tr th:only-of-type {\n",
       "        vertical-align: middle;\n",
       "    }\n",
       "\n",
       "    .dataframe tbody tr th {\n",
       "        vertical-align: top;\n",
       "    }\n",
       "\n",
       "    .dataframe thead th {\n",
       "        text-align: right;\n",
       "    }\n",
       "</style>\n",
       "<table border=\"1\" class=\"dataframe\">\n",
       "  <thead>\n",
       "    <tr style=\"text-align: right;\">\n",
       "      <th></th>\n",
       "      <th>countryCode</th>\n",
       "      <th>invoiceNumber</th>\n",
       "      <th>DaysLate</th>\n",
       "    </tr>\n",
       "  </thead>\n",
       "  <tbody>\n",
       "    <tr>\n",
       "      <th>count</th>\n",
       "      <td>2466.000000</td>\n",
       "      <td>2.466000e+03</td>\n",
       "      <td>882.000000</td>\n",
       "    </tr>\n",
       "    <tr>\n",
       "      <th>mean</th>\n",
       "      <td>620.446067</td>\n",
       "      <td>4.978431e+09</td>\n",
       "      <td>9.632653</td>\n",
       "    </tr>\n",
       "    <tr>\n",
       "      <th>std</th>\n",
       "      <td>215.933610</td>\n",
       "      <td>2.884272e+09</td>\n",
       "      <td>7.142063</td>\n",
       "    </tr>\n",
       "    <tr>\n",
       "      <th>min</th>\n",
       "      <td>391.000000</td>\n",
       "      <td>6.113650e+05</td>\n",
       "      <td>1.000000</td>\n",
       "    </tr>\n",
       "    <tr>\n",
       "      <th>25%</th>\n",
       "      <td>406.000000</td>\n",
       "      <td>2.528854e+09</td>\n",
       "      <td>4.000000</td>\n",
       "    </tr>\n",
       "    <tr>\n",
       "      <th>50%</th>\n",
       "      <td>770.000000</td>\n",
       "      <td>4.964228e+09</td>\n",
       "      <td>8.000000</td>\n",
       "    </tr>\n",
       "    <tr>\n",
       "      <th>75%</th>\n",
       "      <td>818.000000</td>\n",
       "      <td>7.494512e+09</td>\n",
       "      <td>14.000000</td>\n",
       "    </tr>\n",
       "    <tr>\n",
       "      <th>max</th>\n",
       "      <td>897.000000</td>\n",
       "      <td>9.990244e+09</td>\n",
       "      <td>45.000000</td>\n",
       "    </tr>\n",
       "  </tbody>\n",
       "</table>\n",
       "</div>"
      ],
      "text/plain": [
       "       countryCode  invoiceNumber    DaysLate\n",
       "count  2466.000000   2.466000e+03  882.000000\n",
       "mean    620.446067   4.978431e+09    9.632653\n",
       "std     215.933610   2.884272e+09    7.142063\n",
       "min     391.000000   6.113650e+05    1.000000\n",
       "25%     406.000000   2.528854e+09    4.000000\n",
       "50%     770.000000   4.964228e+09    8.000000\n",
       "75%     818.000000   7.494512e+09   14.000000\n",
       "max     897.000000   9.990244e+09   45.000000"
      ]
     },
     "execution_count": 3,
     "metadata": {},
     "output_type": "execute_result"
    }
   ],
   "source": [
    "dfInvoice.describe()"
   ]
  },
  {
   "cell_type": "markdown",
   "metadata": {},
   "source": [
    "# Data Cleaning"
   ]
  },
  {
   "cell_type": "code",
   "execution_count": 4,
   "metadata": {},
   "outputs": [
    {
     "name": "stdout",
     "output_type": "stream",
     "text": [
      "<class 'pandas.core.frame.DataFrame'>\n",
      "RangeIndex: 2466 entries, 0 to 2465\n",
      "Data columns (total 8 columns):\n",
      " #   Column         Non-Null Count  Dtype  \n",
      "---  ------         --------------  -----  \n",
      " 0   countryCode    2466 non-null   int64  \n",
      " 1   customerID     2466 non-null   object \n",
      " 2   invoiceNumber  2466 non-null   int64  \n",
      " 3   InvoiceDate    2466 non-null   object \n",
      " 4   InvoiceAmount  2463 non-null   object \n",
      " 5   Disputed       2466 non-null   object \n",
      " 6   PaperlessBill  2466 non-null   object \n",
      " 7   DaysLate       882 non-null    float64\n",
      "dtypes: float64(1), int64(2), object(5)\n",
      "memory usage: 154.2+ KB\n"
     ]
    }
   ],
   "source": [
    "dfInvoice.info()"
   ]
  },
  {
   "cell_type": "markdown",
   "metadata": {},
   "source": [
    "We have been told that nan values in Days Late show no Delay. So we can replace the nan values in DaysLate with 0"
   ]
  },
  {
   "cell_type": "code",
   "execution_count": 5,
   "metadata": {},
   "outputs": [],
   "source": [
    "dfInvoice.DaysLate=dfInvoice.DaysLate.fillna(0)"
   ]
  },
  {
   "cell_type": "code",
   "execution_count": 6,
   "metadata": {},
   "outputs": [
    {
     "name": "stdout",
     "output_type": "stream",
     "text": [
      "<class 'pandas.core.frame.DataFrame'>\n",
      "RangeIndex: 2466 entries, 0 to 2465\n",
      "Data columns (total 8 columns):\n",
      " #   Column         Non-Null Count  Dtype  \n",
      "---  ------         --------------  -----  \n",
      " 0   countryCode    2466 non-null   int64  \n",
      " 1   customerID     2466 non-null   object \n",
      " 2   invoiceNumber  2466 non-null   int64  \n",
      " 3   InvoiceDate    2466 non-null   object \n",
      " 4   InvoiceAmount  2463 non-null   object \n",
      " 5   Disputed       2466 non-null   object \n",
      " 6   PaperlessBill  2466 non-null   object \n",
      " 7   DaysLate       2466 non-null   float64\n",
      "dtypes: float64(1), int64(2), object(5)\n",
      "memory usage: 154.2+ KB\n"
     ]
    }
   ],
   "source": [
    "dfInvoice.info()"
   ]
  },
  {
   "cell_type": "markdown",
   "metadata": {},
   "source": [
    "Now lets handle Null values in InvoiceAmount"
   ]
  },
  {
   "cell_type": "code",
   "execution_count": 7,
   "metadata": {},
   "outputs": [
    {
     "data": {
      "text/plain": [
       "countryCode        int64\n",
       "customerID        object\n",
       "invoiceNumber      int64\n",
       "InvoiceDate       object\n",
       "InvoiceAmount     object\n",
       "Disputed          object\n",
       "PaperlessBill     object\n",
       "DaysLate         float64\n",
       "dtype: object"
      ]
     },
     "execution_count": 7,
     "metadata": {},
     "output_type": "execute_result"
    }
   ],
   "source": [
    "dfInvoice.dtypes"
   ]
  },
  {
   "cell_type": "markdown",
   "metadata": {},
   "source": [
    "Here out of 2466 entries only 3 entries have null values for InvoiceAmount. So We drop these three entries."
   ]
  },
  {
   "cell_type": "code",
   "execution_count": 8,
   "metadata": {},
   "outputs": [],
   "source": [
    "dfInvoice.dropna(inplace=True)"
   ]
  },
  {
   "cell_type": "code",
   "execution_count": 9,
   "metadata": {},
   "outputs": [
    {
     "name": "stdout",
     "output_type": "stream",
     "text": [
      "<class 'pandas.core.frame.DataFrame'>\n",
      "Int64Index: 2463 entries, 0 to 2465\n",
      "Data columns (total 8 columns):\n",
      " #   Column         Non-Null Count  Dtype  \n",
      "---  ------         --------------  -----  \n",
      " 0   countryCode    2463 non-null   int64  \n",
      " 1   customerID     2463 non-null   object \n",
      " 2   invoiceNumber  2463 non-null   int64  \n",
      " 3   InvoiceDate    2463 non-null   object \n",
      " 4   InvoiceAmount  2463 non-null   object \n",
      " 5   Disputed       2463 non-null   object \n",
      " 6   PaperlessBill  2463 non-null   object \n",
      " 7   DaysLate       2463 non-null   float64\n",
      "dtypes: float64(1), int64(2), object(5)\n",
      "memory usage: 173.2+ KB\n"
     ]
    }
   ],
   "source": [
    "dfInvoice.info()"
   ]
  },
  {
   "cell_type": "markdown",
   "metadata": {},
   "source": [
    "So here we successfully have gotten rid of null values"
   ]
  },
  {
   "cell_type": "markdown",
   "metadata": {
    "id": "MVvq_XrjJ--J"
   },
   "source": [
    "### Question 1 <font color=grey>[1 pt]</font>\n",
    "\n",
    "What are the top-3 country codes that had the largest <b>average</b> invoice amounts? \n",
    "\n",
    "A manager stated that these average amounts should not be significantly different. Is that correct? Use at least two visualization pieces in your analysis to confirm or refuse this hypothesis."
   ]
  },
  {
   "cell_type": "code",
   "execution_count": 10,
   "metadata": {},
   "outputs": [
    {
     "data": {
      "text/plain": [
       "array([391, 406, 818, 897, 770], dtype=int64)"
      ]
     },
     "execution_count": 10,
     "metadata": {},
     "output_type": "execute_result"
    }
   ],
   "source": [
    "#checking unique country codes\n",
    "dfInvoice.countryCode.unique()"
   ]
  },
  {
   "cell_type": "code",
   "execution_count": 11,
   "metadata": {},
   "outputs": [],
   "source": [
    "# Creating separate datasets for each country\n",
    "df1=dfInvoice[dfInvoice.countryCode==391]\n",
    "df2=dfInvoice[dfInvoice.countryCode==406]\n",
    "df3=dfInvoice[dfInvoice.countryCode==818]\n",
    "df4=dfInvoice[dfInvoice.countryCode==897]\n",
    "df5=dfInvoice[dfInvoice.countryCode==770]"
   ]
  },
  {
   "cell_type": "code",
   "execution_count": 12,
   "metadata": {},
   "outputs": [],
   "source": [
    "def is_number(x):\n",
    "    try:\n",
    "        float(x)\n",
    "    except ValueError:\n",
    "        return False\n",
    "    else:\n",
    "        return True"
   ]
  },
  {
   "cell_type": "code",
   "execution_count": 13,
   "metadata": {},
   "outputs": [
    {
     "data": {
      "text/plain": [
       "True"
      ]
     },
     "execution_count": 13,
     "metadata": {},
     "output_type": "execute_result"
    }
   ],
   "source": [
    "is_number(dfInvoice.InvoiceAmount[0])"
   ]
  },
  {
   "cell_type": "code",
   "execution_count": 14,
   "metadata": {},
   "outputs": [],
   "source": [
    "dfInvoice['IsNumber']=dfInvoice.InvoiceAmount.apply(is_number)"
   ]
  },
  {
   "cell_type": "code",
   "execution_count": 17,
   "metadata": {},
   "outputs": [
    {
     "data": {
      "text/html": [
       "<div>\n",
       "<style scoped>\n",
       "    .dataframe tbody tr th:only-of-type {\n",
       "        vertical-align: middle;\n",
       "    }\n",
       "\n",
       "    .dataframe tbody tr th {\n",
       "        vertical-align: top;\n",
       "    }\n",
       "\n",
       "    .dataframe thead th {\n",
       "        text-align: right;\n",
       "    }\n",
       "</style>\n",
       "<table border=\"1\" class=\"dataframe\">\n",
       "  <thead>\n",
       "    <tr style=\"text-align: right;\">\n",
       "      <th></th>\n",
       "      <th>countryCode</th>\n",
       "      <th>customerID</th>\n",
       "      <th>invoiceNumber</th>\n",
       "      <th>InvoiceDate</th>\n",
       "      <th>InvoiceAmount</th>\n",
       "      <th>Disputed</th>\n",
       "      <th>PaperlessBill</th>\n",
       "      <th>DaysLate</th>\n",
       "      <th>IsNumber</th>\n",
       "    </tr>\n",
       "  </thead>\n",
       "  <tbody>\n",
       "    <tr>\n",
       "      <th>1440</th>\n",
       "      <td>770</td>\n",
       "      <td>7050-KQLDO</td>\n",
       "      <td>5865665884</td>\n",
       "      <td>1/28/2012</td>\n",
       "      <td>not reported</td>\n",
       "      <td>No</td>\n",
       "      <td>Paper</td>\n",
       "      <td>0.0</td>\n",
       "      <td>False</td>\n",
       "    </tr>\n",
       "    <tr>\n",
       "      <th>2060</th>\n",
       "      <td>770</td>\n",
       "      <td>0465-DTULQ</td>\n",
       "      <td>8301711992</td>\n",
       "      <td>7/29/2013</td>\n",
       "      <td>missing</td>\n",
       "      <td>Yes</td>\n",
       "      <td>Electronic</td>\n",
       "      <td>0.0</td>\n",
       "      <td>False</td>\n",
       "    </tr>\n",
       "  </tbody>\n",
       "</table>\n",
       "</div>"
      ],
      "text/plain": [
       "      countryCode  customerID  invoiceNumber InvoiceDate InvoiceAmount  \\\n",
       "1440          770  7050-KQLDO     5865665884   1/28/2012  not reported   \n",
       "2060          770  0465-DTULQ     8301711992   7/29/2013       missing   \n",
       "\n",
       "     Disputed PaperlessBill  DaysLate  IsNumber  \n",
       "1440       No         Paper       0.0     False  \n",
       "2060      Yes    Electronic       0.0     False  "
      ]
     },
     "execution_count": 17,
     "metadata": {},
     "output_type": "execute_result"
    }
   ],
   "source": [
    "dfInvoice[dfInvoice.IsNumber==False]"
   ]
  },
  {
   "cell_type": "markdown",
   "metadata": {},
   "source": [
    "# D"
   ]
  },
  {
   "cell_type": "markdown",
   "metadata": {},
   "source": [
    "# Here we got a dataframe in which there are strings  \"not reported\" and \"missing\" in InvoiceAmount. Hence we avoid these datapoints."
   ]
  },
  {
   "cell_type": "code",
   "execution_count": 18,
   "metadata": {},
   "outputs": [],
   "source": [
    "dfInvoice=dfInvoice[dfInvoice.InvoiceAmount!='not reported']"
   ]
  },
  {
   "cell_type": "code",
   "execution_count": 19,
   "metadata": {},
   "outputs": [],
   "source": [
    "dfInvoice=dfInvoice[dfInvoice.InvoiceAmount!='missing']"
   ]
  },
  {
   "cell_type": "code",
   "execution_count": 20,
   "metadata": {},
   "outputs": [],
   "source": [
    "df1=dfInvoice[dfInvoice.countryCode==391]\n",
    "df2=dfInvoice[dfInvoice.countryCode==406]\n",
    "df3=dfInvoice[dfInvoice.countryCode==818]\n",
    "df4=dfInvoice[dfInvoice.countryCode==897]\n",
    "df5=dfInvoice[dfInvoice.countryCode==770]"
   ]
  },
  {
   "cell_type": "code",
   "execution_count": 21,
   "metadata": {},
   "outputs": [],
   "source": [
    "df1=pd.to_numeric(df1.InvoiceAmount)\n",
    "df2=pd.to_numeric(df2.InvoiceAmount)\n",
    "df3=pd.to_numeric(df3.InvoiceAmount)\n",
    "df4=pd.to_numeric(df4.InvoiceAmount)\n",
    "df5=pd.to_numeric(df5.InvoiceAmount)"
   ]
  },
  {
   "cell_type": "markdown",
   "metadata": {},
   "source": [
    "Now as the code has successfully worked we can say that the InvoiceAmount column has successfully been converted to Float data type"
   ]
  },
  {
   "cell_type": "code",
   "execution_count": 22,
   "metadata": {},
   "outputs": [
    {
     "name": "stdout",
     "output_type": "stream",
     "text": [
      "mean of country 1 is 65.01454545454544\n",
      "mean of country 2 is 70.2725668449198\n",
      "mean of country 3 is 63.31281653746768\n",
      "mean of country 4 is 41.279518987341746\n",
      "mean of country 5 is 53.98942231075697\n"
     ]
    }
   ],
   "source": [
    "print(\"mean of country 1 is\",df1.mean())\n",
    "print(\"mean of country 2 is\",df2.mean())\n",
    "print(\"mean of country 3 is\",df3.mean())\n",
    "print(\"mean of country 4 is\",df4.mean())\n",
    "print(\"mean of country 5 is\",df5.mean())"
   ]
  },
  {
   "cell_type": "markdown",
   "metadata": {},
   "source": [
    "We can see that the highest averages for the InvoiceAmount are for countries 2,1,3 in order"
   ]
  },
  {
   "cell_type": "markdown",
   "metadata": {},
   "source": [
    "#### Exploratory Data analysis"
   ]
  },
  {
   "cell_type": "code",
   "execution_count": 348,
   "metadata": {
    "scrolled": false
   },
   "outputs": [
    {
     "data": {
      "image/png": "[encoded data removed]",
      "text/plain": [
       "<Figure size 432x432 with 1 Axes>"
      ]
     },
     "metadata": {
      "needs_background": "light"
     },
     "output_type": "display_data"
    },
    {
     "data": {
      "image/png": "[encoded data removed]",
      "text/plain": [
       "<Figure size 432x432 with 1 Axes>"
      ]
     },
     "metadata": {
      "needs_background": "light"
     },
     "output_type": "display_data"
    },
    {
     "data": {
      "image/png": "[encoded data removed]",
      "text/plain": [
       "<Figure size 432x432 with 1 Axes>"
      ]
     },
     "metadata": {
      "needs_background": "light"
     },
     "output_type": "display_data"
    }
   ],
   "source": [
    "plt.figure(figsize=(6,6))\n",
    "plt.hist(df1,bins=100)\n",
    "plt.xlabel(\" Invoice Amount-Country 1\")\n",
    "plt.ylabel(\"Frequency\")\n",
    "plt.show()\n",
    "\n",
    "plt.figure(figsize=(6,6))\n",
    "plt.hist(df2,bins=100)\n",
    "plt.xlabel(\" Invoice Amount-Country 2\")\n",
    "plt.ylabel(\"Frequency\")\n",
    "plt.show()\n",
    "\n",
    "plt.figure(figsize=(6,6))\n",
    "plt.hist(df3,bins=100)\n",
    "plt.xlabel(\" Invoice Amount-Country 3\")\n",
    "plt.ylabel(\"Frequency\")\n",
    "plt.show()\n"
   ]
  },
  {
   "cell_type": "code",
   "execution_count": 25,
   "metadata": {},
   "outputs": [
    {
     "data": {
      "text/plain": [
       "0       55.94\n",
       "2       65.88\n",
       "15      61.96\n",
       "23      26.44\n",
       "25      72.70\n",
       "        ...  \n",
       "2453    68.07\n",
       "2454    65.19\n",
       "2458    38.95\n",
       "2461    79.61\n",
       "2462    38.25\n",
       "Name: InvoiceAmount, Length: 616, dtype: float64"
      ]
     },
     "execution_count": 25,
     "metadata": {},
     "output_type": "execute_result"
    }
   ],
   "source": [
    "df1"
   ]
  },
  {
   "cell_type": "code",
   "execution_count": 24,
   "metadata": {},
   "outputs": [],
   "source": [
    "import seaborn as sns"
   ]
  },
  {
   "cell_type": "code",
   "execution_count": 42,
   "metadata": {
    "scrolled": false
   },
   "outputs": [
    {
     "data": {
      "image/png": "[encoded data removed]",
      "text/plain": [
       "<Figure size 720x576 with 1 Axes>"
      ]
     },
     "metadata": {
      "needs_background": "light"
     },
     "output_type": "display_data"
    },
    {
     "data": {
      "image/png": "[encoded data removed]",
      "text/plain": [
       "<Figure size 720x576 with 1 Axes>"
      ]
     },
     "metadata": {
      "needs_background": "light"
     },
     "output_type": "display_data"
    },
    {
     "data": {
      "image/png": "[encoded data removed]",
      "text/plain": [
       "<Figure size 720x576 with 1 Axes>"
      ]
     },
     "metadata": {
      "needs_background": "light"
     },
     "output_type": "display_data"
    }
   ],
   "source": [
    "plt.figure(figsize=(10,8))\n",
    "sns.distplot(\n",
    "  df1,\n",
    "  rug=True,\n",
    "  kde=True,\n",
    "  hist=False,\n",
    "  axlabel=\"country1\"\n",
    ")\n",
    "plt.show()\n",
    "\n",
    "plt.figure(figsize=(10,8))\n",
    "sns.distplot(\n",
    "  df2,\n",
    "    rug=True,\n",
    "  kde=True,\n",
    "  hist=False,\n",
    "  axlabel=\"Country2\"\n",
    ")\n",
    "plt.show()\n",
    "\n",
    "plt.figure(figsize=(10,8))\n",
    "sns.distplot(\n",
    "  df3,\n",
    "    rug=True,\n",
    "  kde=True,\n",
    "  hist=False,\n",
    "  axlabel=\"Country3\"\n",
    ")\n",
    "plt.show()"
   ]
  },
  {
   "cell_type": "code",
   "execution_count": 46,
   "metadata": {},
   "outputs": [
    {
     "data": {
      "text/plain": [
       "<matplotlib.collections.PathCollection at 0x22203b74670>"
      ]
     },
     "execution_count": 46,
     "metadata": {},
     "output_type": "execute_result"
    },
    {
     "data": {
      "image/png": "[encoded data removed]",
      "text/plain": [
       "<Figure size 936x936 with 1 Axes>"
      ]
     },
     "metadata": {
      "needs_background": "light"
     },
     "output_type": "display_data"
    }
   ],
   "source": [
    "plt.figure(figsize=(13,13))\n",
    "plt.scatter(df1.index,df1.values)\n",
    "plt.scatter(df2.index,df2.values)\n",
    "plt.scatter(df3.index,df3.values)"
   ]
  },
  {
   "cell_type": "markdown",
   "metadata": {},
   "source": [
    "#### So yes there is not  much variation in the average invoice amounts of the top3 countries. We can see that by the distribution shown by the histogram. Pretty much all the three graphs are Gaussian distribution"
   ]
  },
  {
   "cell_type": "markdown",
   "metadata": {
    "id": "0-tuXbXXJ--L"
   },
   "source": [
    "### Question 2 <font color=grey>[1 pt]</font>\n",
    "\n",
    "Does the invoice type (paper or electronic) have any impact on the number of days an invoice is paid late? Use one or more plots and at least one statistical measure to better present your conclusions.\n",
    "\n",
    "Moreover, how would your conclusions in this question help management?"
   ]
  },
  {
   "cell_type": "code",
   "execution_count": 349,
   "metadata": {
    "id": "736qTiF1J--L"
   },
   "outputs": [],
   "source": [
    "#CREATING DATAFRAME WITH INVOICE TYPE PAPER \n",
    "df_paper=dfInvoice[dfInvoice.PaperlessBill=='Paper']"
   ]
  },
  {
   "cell_type": "code",
   "execution_count": 350,
   "metadata": {},
   "outputs": [],
   "source": [
    "#CREATING DATAFRAME WITH INVOICE TYPE ELECTRONIC \n",
    "df_electronic=dfInvoice[dfInvoice.PaperlessBill=='Electronic']"
   ]
  },
  {
   "cell_type": "code",
   "execution_count": 351,
   "metadata": {
    "scrolled": false
   },
   "outputs": [
    {
     "data": {
      "image/png": "[encoded data removed]",
      "text/plain": [
       "<Figure size 1440x360 with 1 Axes>"
      ]
     },
     "metadata": {
      "needs_background": "light"
     },
     "output_type": "display_data"
    },
    {
     "data": {
      "image/png": "[encoded data removed]",
      "text/plain": [
       "<Figure size 1440x360 with 1 Axes>"
      ]
     },
     "metadata": {
      "needs_background": "light"
     },
     "output_type": "display_data"
    }
   ],
   "source": [
    "plt.figure(figsize=(20,5))\n",
    "plt.hist(df_paper.DaysLate,bins=100)\n",
    "plt.title(\"Paper type Invoice\")\n",
    "plt.xlabel(\"No of days late\")\n",
    "plt.ylabel(\"freq of the no of days late\")\n",
    "plt.show()\n",
    "\n",
    "plt.figure(figsize=(20,5))\n",
    "plt.hist(df_electronic.DaysLate,bins=100)\n",
    "plt.title(\"Electronic type Invoice\")\n",
    "plt.xlabel(\"No of days late\")\n",
    "plt.ylabel(\"freq of the no of days late\")\n",
    "plt.show()"
   ]
  },
  {
   "cell_type": "code",
   "execution_count": 352,
   "metadata": {},
   "outputs": [
    {
     "data": {
      "text/plain": [
       "0.0     712\n",
       "2.0      45\n",
       "1.0      39\n",
       "5.0      38\n",
       "7.0      33\n",
       "6.0      31\n",
       "8.0      31\n",
       "4.0      29\n",
       "12.0     29\n",
       "11.0     28\n",
       "3.0      24\n",
       "9.0      24\n",
       "13.0     23\n",
       "16.0     21\n",
       "10.0     19\n",
       "14.0     18\n",
       "17.0     17\n",
       "15.0     13\n",
       "19.0     13\n",
       "18.0     11\n",
       "24.0     10\n",
       "21.0      8\n",
       "23.0      8\n",
       "22.0      7\n",
       "20.0      6\n",
       "30.0      5\n",
       "27.0      4\n",
       "25.0      3\n",
       "34.0      3\n",
       "26.0      2\n",
       "28.0      2\n",
       "29.0      2\n",
       "33.0      1\n",
       "31.0      1\n",
       "37.0      1\n",
       "Name: DaysLate, dtype: int64"
      ]
     },
     "execution_count": 352,
     "metadata": {},
     "output_type": "execute_result"
    }
   ],
   "source": [
    "df_paper.DaysLate.value_counts()"
   ]
  },
  {
   "cell_type": "code",
   "execution_count": 353,
   "metadata": {},
   "outputs": [
    {
     "data": {
      "image/png": "[encoded data removed]",
      "text/plain": [
       "<Figure size 1440x360 with 1 Axes>"
      ]
     },
     "metadata": {
      "needs_background": "light"
     },
     "output_type": "display_data"
    }
   ],
   "source": [
    "plt.figure(figsize=(20,5))\n",
    "plt.scatter(df_paper.DaysLate.value_counts().index,df_paper.DaysLate.value_counts(),label='Paper',s=100,alpha=0.4)\n",
    "plt.scatter(df_electronic.DaysLate.value_counts().index,df_electronic.DaysLate.value_counts(),label=\"Electronic\",s=100,alpha=0.4)\n",
    "plt.xlabel('No of days late')\n",
    "plt.ylabel(\"frequency\")\n",
    "plt.legend()\n",
    "plt.show()"
   ]
  },
  {
   "cell_type": "markdown",
   "metadata": {},
   "source": [
    "From the graphs it seems that there is a little improvement of performance in Electronic type Invoice. The delays are less as seen from the graph"
   ]
  },
  {
   "cell_type": "code",
   "execution_count": 354,
   "metadata": {},
   "outputs": [
    {
     "data": {
      "text/plain": [
       "0.0    712\n",
       "2.0     45\n",
       "1.0     39\n",
       "5.0     38\n",
       "7.0     33\n",
       "Name: DaysLate, dtype: int64"
      ]
     },
     "execution_count": 354,
     "metadata": {},
     "output_type": "execute_result"
    }
   ],
   "source": [
    "df_paper.DaysLate.value_counts().head()"
   ]
  },
  {
   "cell_type": "code",
   "execution_count": 355,
   "metadata": {},
   "outputs": [
    {
     "data": {
      "text/plain": [
       "0.0    869\n",
       "4.0     33\n",
       "5.0     31\n",
       "3.0     27\n",
       "6.0     25\n",
       "Name: DaysLate, dtype: int64"
      ]
     },
     "execution_count": 355,
     "metadata": {},
     "output_type": "execute_result"
    }
   ],
   "source": [
    "df_electronic.DaysLate.value_counts().head()"
   ]
  },
  {
   "cell_type": "markdown",
   "metadata": {},
   "source": [
    "Lets make a Dataframe to compare these values"
   ]
  },
  {
   "cell_type": "code",
   "execution_count": 356,
   "metadata": {},
   "outputs": [],
   "source": [
    "df_comparison = pd.concat([df_electronic.DaysLate.value_counts(),df_paper.DaysLate.value_counts()],axis=1)"
   ]
  },
  {
   "cell_type": "code",
   "execution_count": 357,
   "metadata": {},
   "outputs": [],
   "source": [
    "df_comparison.columns=['Electronic','Paper']"
   ]
  },
  {
   "cell_type": "code",
   "execution_count": 358,
   "metadata": {},
   "outputs": [
    {
     "data": {
      "text/html": [
       "<div>\n",
       "<style scoped>\n",
       "    .dataframe tbody tr th:only-of-type {\n",
       "        vertical-align: middle;\n",
       "    }\n",
       "\n",
       "    .dataframe tbody tr th {\n",
       "        vertical-align: top;\n",
       "    }\n",
       "\n",
       "    .dataframe thead th {\n",
       "        text-align: right;\n",
       "    }\n",
       "</style>\n",
       "<table border=\"1\" class=\"dataframe\">\n",
       "  <thead>\n",
       "    <tr style=\"text-align: right;\">\n",
       "      <th></th>\n",
       "      <th>Electronic</th>\n",
       "      <th>Paper</th>\n",
       "    </tr>\n",
       "  </thead>\n",
       "  <tbody>\n",
       "    <tr>\n",
       "      <th>0.0</th>\n",
       "      <td>869.0</td>\n",
       "      <td>712.0</td>\n",
       "    </tr>\n",
       "    <tr>\n",
       "      <th>1.0</th>\n",
       "      <td>25.0</td>\n",
       "      <td>39.0</td>\n",
       "    </tr>\n",
       "    <tr>\n",
       "      <th>2.0</th>\n",
       "      <td>22.0</td>\n",
       "      <td>45.0</td>\n",
       "    </tr>\n",
       "    <tr>\n",
       "      <th>3.0</th>\n",
       "      <td>27.0</td>\n",
       "      <td>24.0</td>\n",
       "    </tr>\n",
       "    <tr>\n",
       "      <th>4.0</th>\n",
       "      <td>33.0</td>\n",
       "      <td>29.0</td>\n",
       "    </tr>\n",
       "    <tr>\n",
       "      <th>5.0</th>\n",
       "      <td>31.0</td>\n",
       "      <td>38.0</td>\n",
       "    </tr>\n",
       "    <tr>\n",
       "      <th>6.0</th>\n",
       "      <td>25.0</td>\n",
       "      <td>31.0</td>\n",
       "    </tr>\n",
       "    <tr>\n",
       "      <th>7.0</th>\n",
       "      <td>22.0</td>\n",
       "      <td>33.0</td>\n",
       "    </tr>\n",
       "    <tr>\n",
       "      <th>8.0</th>\n",
       "      <td>18.0</td>\n",
       "      <td>31.0</td>\n",
       "    </tr>\n",
       "    <tr>\n",
       "      <th>9.0</th>\n",
       "      <td>14.0</td>\n",
       "      <td>24.0</td>\n",
       "    </tr>\n",
       "    <tr>\n",
       "      <th>10.0</th>\n",
       "      <td>14.0</td>\n",
       "      <td>19.0</td>\n",
       "    </tr>\n",
       "    <tr>\n",
       "      <th>11.0</th>\n",
       "      <td>18.0</td>\n",
       "      <td>28.0</td>\n",
       "    </tr>\n",
       "    <tr>\n",
       "      <th>12.0</th>\n",
       "      <td>4.0</td>\n",
       "      <td>29.0</td>\n",
       "    </tr>\n",
       "    <tr>\n",
       "      <th>13.0</th>\n",
       "      <td>9.0</td>\n",
       "      <td>23.0</td>\n",
       "    </tr>\n",
       "    <tr>\n",
       "      <th>14.0</th>\n",
       "      <td>13.0</td>\n",
       "      <td>18.0</td>\n",
       "    </tr>\n",
       "    <tr>\n",
       "      <th>15.0</th>\n",
       "      <td>9.0</td>\n",
       "      <td>13.0</td>\n",
       "    </tr>\n",
       "    <tr>\n",
       "      <th>16.0</th>\n",
       "      <td>6.0</td>\n",
       "      <td>21.0</td>\n",
       "    </tr>\n",
       "    <tr>\n",
       "      <th>17.0</th>\n",
       "      <td>4.0</td>\n",
       "      <td>17.0</td>\n",
       "    </tr>\n",
       "    <tr>\n",
       "      <th>18.0</th>\n",
       "      <td>8.0</td>\n",
       "      <td>11.0</td>\n",
       "    </tr>\n",
       "    <tr>\n",
       "      <th>19.0</th>\n",
       "      <td>2.0</td>\n",
       "      <td>13.0</td>\n",
       "    </tr>\n",
       "    <tr>\n",
       "      <th>20.0</th>\n",
       "      <td>4.0</td>\n",
       "      <td>6.0</td>\n",
       "    </tr>\n",
       "    <tr>\n",
       "      <th>21.0</th>\n",
       "      <td>6.0</td>\n",
       "      <td>8.0</td>\n",
       "    </tr>\n",
       "    <tr>\n",
       "      <th>22.0</th>\n",
       "      <td>NaN</td>\n",
       "      <td>7.0</td>\n",
       "    </tr>\n",
       "    <tr>\n",
       "      <th>23.0</th>\n",
       "      <td>5.0</td>\n",
       "      <td>8.0</td>\n",
       "    </tr>\n",
       "    <tr>\n",
       "      <th>24.0</th>\n",
       "      <td>1.0</td>\n",
       "      <td>10.0</td>\n",
       "    </tr>\n",
       "    <tr>\n",
       "      <th>25.0</th>\n",
       "      <td>5.0</td>\n",
       "      <td>3.0</td>\n",
       "    </tr>\n",
       "    <tr>\n",
       "      <th>26.0</th>\n",
       "      <td>2.0</td>\n",
       "      <td>2.0</td>\n",
       "    </tr>\n",
       "    <tr>\n",
       "      <th>27.0</th>\n",
       "      <td>2.0</td>\n",
       "      <td>4.0</td>\n",
       "    </tr>\n",
       "    <tr>\n",
       "      <th>28.0</th>\n",
       "      <td>NaN</td>\n",
       "      <td>2.0</td>\n",
       "    </tr>\n",
       "    <tr>\n",
       "      <th>29.0</th>\n",
       "      <td>NaN</td>\n",
       "      <td>2.0</td>\n",
       "    </tr>\n",
       "    <tr>\n",
       "      <th>30.0</th>\n",
       "      <td>NaN</td>\n",
       "      <td>5.0</td>\n",
       "    </tr>\n",
       "    <tr>\n",
       "      <th>31.0</th>\n",
       "      <td>NaN</td>\n",
       "      <td>1.0</td>\n",
       "    </tr>\n",
       "    <tr>\n",
       "      <th>32.0</th>\n",
       "      <td>1.0</td>\n",
       "      <td>NaN</td>\n",
       "    </tr>\n",
       "    <tr>\n",
       "      <th>33.0</th>\n",
       "      <td>NaN</td>\n",
       "      <td>1.0</td>\n",
       "    </tr>\n",
       "    <tr>\n",
       "      <th>34.0</th>\n",
       "      <td>NaN</td>\n",
       "      <td>3.0</td>\n",
       "    </tr>\n",
       "    <tr>\n",
       "      <th>37.0</th>\n",
       "      <td>NaN</td>\n",
       "      <td>1.0</td>\n",
       "    </tr>\n",
       "    <tr>\n",
       "      <th>45.0</th>\n",
       "      <td>1.0</td>\n",
       "      <td>NaN</td>\n",
       "    </tr>\n",
       "  </tbody>\n",
       "</table>\n",
       "</div>"
      ],
      "text/plain": [
       "      Electronic  Paper\n",
       "0.0        869.0  712.0\n",
       "1.0         25.0   39.0\n",
       "2.0         22.0   45.0\n",
       "3.0         27.0   24.0\n",
       "4.0         33.0   29.0\n",
       "5.0         31.0   38.0\n",
       "6.0         25.0   31.0\n",
       "7.0         22.0   33.0\n",
       "8.0         18.0   31.0\n",
       "9.0         14.0   24.0\n",
       "10.0        14.0   19.0\n",
       "11.0        18.0   28.0\n",
       "12.0         4.0   29.0\n",
       "13.0         9.0   23.0\n",
       "14.0        13.0   18.0\n",
       "15.0         9.0   13.0\n",
       "16.0         6.0   21.0\n",
       "17.0         4.0   17.0\n",
       "18.0         8.0   11.0\n",
       "19.0         2.0   13.0\n",
       "20.0         4.0    6.0\n",
       "21.0         6.0    8.0\n",
       "22.0         NaN    7.0\n",
       "23.0         5.0    8.0\n",
       "24.0         1.0   10.0\n",
       "25.0         5.0    3.0\n",
       "26.0         2.0    2.0\n",
       "27.0         2.0    4.0\n",
       "28.0         NaN    2.0\n",
       "29.0         NaN    2.0\n",
       "30.0         NaN    5.0\n",
       "31.0         NaN    1.0\n",
       "32.0         1.0    NaN\n",
       "33.0         NaN    1.0\n",
       "34.0         NaN    3.0\n",
       "37.0         NaN    1.0\n",
       "45.0         1.0    NaN"
      ]
     },
     "execution_count": 358,
     "metadata": {},
     "output_type": "execute_result"
    }
   ],
   "source": [
    "df_comparison"
   ]
  },
  {
   "cell_type": "markdown",
   "metadata": {},
   "source": [
    "From the above dataframe we can compare the delays shown for particular days.\n",
    "Lets check using mean to see average days of delay"
   ]
  },
  {
   "cell_type": "code",
   "execution_count": 359,
   "metadata": {},
   "outputs": [
    {
     "data": {
      "text/plain": [
       "4"
      ]
     },
     "execution_count": 359,
     "metadata": {},
     "output_type": "execute_result"
    }
   ],
   "source": [
    "int(df_paper.DaysLate.mean())"
   ]
  },
  {
   "cell_type": "code",
   "execution_count": 360,
   "metadata": {},
   "outputs": [
    {
     "data": {
      "text/plain": [
       "2"
      ]
     },
     "execution_count": 360,
     "metadata": {},
     "output_type": "execute_result"
    }
   ],
   "source": [
    "int(df_electronic.DaysLate.mean())"
   ]
  },
  {
   "cell_type": "markdown",
   "metadata": {},
   "source": [
    "So we can see that Avg delay in Electronic was 2 whereas that in Paper was 4"
   ]
  },
  {
   "cell_type": "markdown",
   "metadata": {},
   "source": [
    "#### From the above plots and comparisons we can see that the delays were less in electronic invoice type. There were rarely any delays of more than 25 days in electronic mails"
   ]
  },
  {
   "cell_type": "markdown",
   "metadata": {},
   "source": [
    "#### So we can see the mean delay in electronic invoice type was lower by around 2 days. The most delays in paper type were 2 days whereas in electronic it was 4 days. Overall electronic invoice type performed really well."
   ]
  },
  {
   "cell_type": "markdown",
   "metadata": {},
   "source": [
    "#### We can take help from this insight and tell that Electronic Invoice is more effecient as it takes half days on average to be delayed"
   ]
  },
  {
   "cell_type": "markdown",
   "metadata": {
    "id": "ERTcHoRNJ--M"
   },
   "source": [
    "### Question 3 <font color=grey>[2 pts]</font>\n",
    "\n",
    "Create a linear regression model to predict <b>whether an invoice will be late or not</b>. Use as many features as possible for the problem (i.e., no need to check for correlation or colinearity).\n",
    "\n",
    "Calculate and discuss the resulting precision, recall, and accuracy. Would this model be useful in practice based on your evaluation?\n",
    "\n",
    "<i>Note:</i> You can assume that the firm will not generate invoices for any other country codes."
   ]
  },
  {
   "cell_type": "code",
   "execution_count": 361,
   "metadata": {},
   "outputs": [],
   "source": [
    "from sklearn.linear_model import LinearRegression\n",
    "from sklearn.model_selection import train_test_split\n",
    "from sklearn.metrics import classification_report"
   ]
  },
  {
   "cell_type": "code",
   "execution_count": 362,
   "metadata": {},
   "outputs": [
    {
     "data": {
      "text/html": [
       "<div>\n",
       "<style scoped>\n",
       "    .dataframe tbody tr th:only-of-type {\n",
       "        vertical-align: middle;\n",
       "    }\n",
       "\n",
       "    .dataframe tbody tr th {\n",
       "        vertical-align: top;\n",
       "    }\n",
       "\n",
       "    .dataframe thead th {\n",
       "        text-align: right;\n",
       "    }\n",
       "</style>\n",
       "<table border=\"1\" class=\"dataframe\">\n",
       "  <thead>\n",
       "    <tr style=\"text-align: right;\">\n",
       "      <th></th>\n",
       "      <th>countryCode</th>\n",
       "      <th>customerID</th>\n",
       "      <th>invoiceNumber</th>\n",
       "      <th>InvoiceDate</th>\n",
       "      <th>InvoiceAmount</th>\n",
       "      <th>Disputed</th>\n",
       "      <th>PaperlessBill</th>\n",
       "      <th>DaysLate</th>\n",
       "    </tr>\n",
       "  </thead>\n",
       "  <tbody>\n",
       "    <tr>\n",
       "      <th>0</th>\n",
       "      <td>391</td>\n",
       "      <td>0379-NEVHP</td>\n",
       "      <td>611365</td>\n",
       "      <td>1/2/2013</td>\n",
       "      <td>55.94</td>\n",
       "      <td>No</td>\n",
       "      <td>Paper</td>\n",
       "      <td>1.0</td>\n",
       "    </tr>\n",
       "    <tr>\n",
       "      <th>1</th>\n",
       "      <td>406</td>\n",
       "      <td>8976-AMJEO</td>\n",
       "      <td>7900770</td>\n",
       "      <td>1/26/2013</td>\n",
       "      <td>61.74</td>\n",
       "      <td>Yes</td>\n",
       "      <td>Electronic</td>\n",
       "      <td>6.0</td>\n",
       "    </tr>\n",
       "    <tr>\n",
       "      <th>2</th>\n",
       "      <td>391</td>\n",
       "      <td>2820-XGXSB</td>\n",
       "      <td>9231909</td>\n",
       "      <td>7/3/2013</td>\n",
       "      <td>65.88</td>\n",
       "      <td>No</td>\n",
       "      <td>Electronic</td>\n",
       "      <td>2.0</td>\n",
       "    </tr>\n",
       "    <tr>\n",
       "      <th>3</th>\n",
       "      <td>406</td>\n",
       "      <td>9322-YCTQO</td>\n",
       "      <td>9888306</td>\n",
       "      <td>2/10/2013</td>\n",
       "      <td>105.92</td>\n",
       "      <td>No</td>\n",
       "      <td>Electronic</td>\n",
       "      <td>5.0</td>\n",
       "    </tr>\n",
       "    <tr>\n",
       "      <th>4</th>\n",
       "      <td>818</td>\n",
       "      <td>6627-ELFBK</td>\n",
       "      <td>15752855</td>\n",
       "      <td>10/25/2012</td>\n",
       "      <td>72.27</td>\n",
       "      <td>Yes</td>\n",
       "      <td>Paper</td>\n",
       "      <td>4.0</td>\n",
       "    </tr>\n",
       "  </tbody>\n",
       "</table>\n",
       "</div>"
      ],
      "text/plain": [
       "   countryCode  customerID  invoiceNumber InvoiceDate InvoiceAmount Disputed  \\\n",
       "0          391  0379-NEVHP         611365    1/2/2013         55.94       No   \n",
       "1          406  8976-AMJEO        7900770   1/26/2013         61.74      Yes   \n",
       "2          391  2820-XGXSB        9231909    7/3/2013         65.88       No   \n",
       "3          406  9322-YCTQO        9888306   2/10/2013        105.92       No   \n",
       "4          818  6627-ELFBK       15752855  10/25/2012         72.27      Yes   \n",
       "\n",
       "  PaperlessBill  DaysLate  \n",
       "0         Paper       1.0  \n",
       "1    Electronic       6.0  \n",
       "2    Electronic       2.0  \n",
       "3    Electronic       5.0  \n",
       "4         Paper       4.0  "
      ]
     },
     "execution_count": 362,
     "metadata": {},
     "output_type": "execute_result"
    }
   ],
   "source": [
    "dfInvoice.head()"
   ]
  },
  {
   "cell_type": "markdown",
   "metadata": {},
   "source": [
    "Now as we are dealing with categorical variables, we need to convert them into integers so as to be trained by the model"
   ]
  },
  {
   "cell_type": "code",
   "execution_count": 363,
   "metadata": {},
   "outputs": [
    {
     "data": {
      "text/plain": [
       "array([391, 406, 818, 897, 770], dtype=int64)"
      ]
     },
     "execution_count": 363,
     "metadata": {},
     "output_type": "execute_result"
    }
   ],
   "source": [
    "dfInvoice.countryCode.unique()"
   ]
  },
  {
   "cell_type": "code",
   "execution_count": 364,
   "metadata": {},
   "outputs": [],
   "source": [
    "#Lets initialize a new column with any random value\n",
    "dfInvoice['Countries']=0\n",
    "#Now based on Country code we will alter the value in countries columns"
   ]
  },
  {
   "cell_type": "code",
   "execution_count": 365,
   "metadata": {},
   "outputs": [],
   "source": [
    "dfInvoice.Countries=np.where(dfInvoice.countryCode==391,1,dfInvoice.Countries)\n",
    "dfInvoice.Countries=np.where(dfInvoice.countryCode==406,2,dfInvoice.Countries)\n",
    "dfInvoice.Countries=np.where(dfInvoice.countryCode==818,3,dfInvoice.Countries)\n",
    "dfInvoice.Countries=np.where(dfInvoice.countryCode==897,4,dfInvoice.Countries)\n",
    "dfInvoice.Countries=np.where(dfInvoice.countryCode==770,5,dfInvoice.Countries)"
   ]
  },
  {
   "cell_type": "code",
   "execution_count": 366,
   "metadata": {},
   "outputs": [
    {
     "data": {
      "text/html": [
       "<div>\n",
       "<style scoped>\n",
       "    .dataframe tbody tr th:only-of-type {\n",
       "        vertical-align: middle;\n",
       "    }\n",
       "\n",
       "    .dataframe tbody tr th {\n",
       "        vertical-align: top;\n",
       "    }\n",
       "\n",
       "    .dataframe thead th {\n",
       "        text-align: right;\n",
       "    }\n",
       "</style>\n",
       "<table border=\"1\" class=\"dataframe\">\n",
       "  <thead>\n",
       "    <tr style=\"text-align: right;\">\n",
       "      <th></th>\n",
       "      <th>countryCode</th>\n",
       "      <th>customerID</th>\n",
       "      <th>invoiceNumber</th>\n",
       "      <th>InvoiceDate</th>\n",
       "      <th>InvoiceAmount</th>\n",
       "      <th>Disputed</th>\n",
       "      <th>PaperlessBill</th>\n",
       "      <th>DaysLate</th>\n",
       "      <th>Countries</th>\n",
       "    </tr>\n",
       "  </thead>\n",
       "  <tbody>\n",
       "    <tr>\n",
       "      <th>0</th>\n",
       "      <td>391</td>\n",
       "      <td>0379-NEVHP</td>\n",
       "      <td>611365</td>\n",
       "      <td>1/2/2013</td>\n",
       "      <td>55.94</td>\n",
       "      <td>No</td>\n",
       "      <td>Paper</td>\n",
       "      <td>1.0</td>\n",
       "      <td>1</td>\n",
       "    </tr>\n",
       "    <tr>\n",
       "      <th>1</th>\n",
       "      <td>406</td>\n",
       "      <td>8976-AMJEO</td>\n",
       "      <td>7900770</td>\n",
       "      <td>1/26/2013</td>\n",
       "      <td>61.74</td>\n",
       "      <td>Yes</td>\n",
       "      <td>Electronic</td>\n",
       "      <td>6.0</td>\n",
       "      <td>2</td>\n",
       "    </tr>\n",
       "    <tr>\n",
       "      <th>2</th>\n",
       "      <td>391</td>\n",
       "      <td>2820-XGXSB</td>\n",
       "      <td>9231909</td>\n",
       "      <td>7/3/2013</td>\n",
       "      <td>65.88</td>\n",
       "      <td>No</td>\n",
       "      <td>Electronic</td>\n",
       "      <td>2.0</td>\n",
       "      <td>1</td>\n",
       "    </tr>\n",
       "    <tr>\n",
       "      <th>3</th>\n",
       "      <td>406</td>\n",
       "      <td>9322-YCTQO</td>\n",
       "      <td>9888306</td>\n",
       "      <td>2/10/2013</td>\n",
       "      <td>105.92</td>\n",
       "      <td>No</td>\n",
       "      <td>Electronic</td>\n",
       "      <td>5.0</td>\n",
       "      <td>2</td>\n",
       "    </tr>\n",
       "    <tr>\n",
       "      <th>4</th>\n",
       "      <td>818</td>\n",
       "      <td>6627-ELFBK</td>\n",
       "      <td>15752855</td>\n",
       "      <td>10/25/2012</td>\n",
       "      <td>72.27</td>\n",
       "      <td>Yes</td>\n",
       "      <td>Paper</td>\n",
       "      <td>4.0</td>\n",
       "      <td>3</td>\n",
       "    </tr>\n",
       "  </tbody>\n",
       "</table>\n",
       "</div>"
      ],
      "text/plain": [
       "   countryCode  customerID  invoiceNumber InvoiceDate InvoiceAmount Disputed  \\\n",
       "0          391  0379-NEVHP         611365    1/2/2013         55.94       No   \n",
       "1          406  8976-AMJEO        7900770   1/26/2013         61.74      Yes   \n",
       "2          391  2820-XGXSB        9231909    7/3/2013         65.88       No   \n",
       "3          406  9322-YCTQO        9888306   2/10/2013        105.92       No   \n",
       "4          818  6627-ELFBK       15752855  10/25/2012         72.27      Yes   \n",
       "\n",
       "  PaperlessBill  DaysLate  Countries  \n",
       "0         Paper       1.0          1  \n",
       "1    Electronic       6.0          2  \n",
       "2    Electronic       2.0          1  \n",
       "3    Electronic       5.0          2  \n",
       "4         Paper       4.0          3  "
      ]
     },
     "execution_count": 366,
     "metadata": {},
     "output_type": "execute_result"
    }
   ],
   "source": [
    "dfInvoice.head()"
   ]
  },
  {
   "cell_type": "markdown",
   "metadata": {},
   "source": [
    "Similarly for Disputed, Paperless and DaysLate column, we will do the same work"
   ]
  },
  {
   "cell_type": "code",
   "execution_count": 367,
   "metadata": {},
   "outputs": [],
   "source": [
    "# if there is a dispute then we assign 1 else 0\n",
    "dfInvoice['Dispute']=np.where(dfInvoice.Disputed=='Yes',1,0)\n",
    "\n",
    "# if invoice type is paper then we assign 1 else 0\n",
    "dfInvoice['Paper']=np.where(dfInvoice.PaperlessBill==\"Paper\",1,0)\n",
    "\n",
    "#if the invoice is delayed then we assign 1 else 0\n",
    "dfInvoice['Late']=np.where(dfInvoice.DaysLate>0,1,0)"
   ]
  },
  {
   "cell_type": "code",
   "execution_count": 368,
   "metadata": {},
   "outputs": [
    {
     "data": {
      "text/html": [
       "<div>\n",
       "<style scoped>\n",
       "    .dataframe tbody tr th:only-of-type {\n",
       "        vertical-align: middle;\n",
       "    }\n",
       "\n",
       "    .dataframe tbody tr th {\n",
       "        vertical-align: top;\n",
       "    }\n",
       "\n",
       "    .dataframe thead th {\n",
       "        text-align: right;\n",
       "    }\n",
       "</style>\n",
       "<table border=\"1\" class=\"dataframe\">\n",
       "  <thead>\n",
       "    <tr style=\"text-align: right;\">\n",
       "      <th></th>\n",
       "      <th>countryCode</th>\n",
       "      <th>customerID</th>\n",
       "      <th>invoiceNumber</th>\n",
       "      <th>InvoiceDate</th>\n",
       "      <th>InvoiceAmount</th>\n",
       "      <th>Disputed</th>\n",
       "      <th>PaperlessBill</th>\n",
       "      <th>DaysLate</th>\n",
       "      <th>Countries</th>\n",
       "      <th>Dispute</th>\n",
       "      <th>Paper</th>\n",
       "      <th>Late</th>\n",
       "    </tr>\n",
       "  </thead>\n",
       "  <tbody>\n",
       "    <tr>\n",
       "      <th>0</th>\n",
       "      <td>391</td>\n",
       "      <td>0379-NEVHP</td>\n",
       "      <td>611365</td>\n",
       "      <td>1/2/2013</td>\n",
       "      <td>55.94</td>\n",
       "      <td>No</td>\n",
       "      <td>Paper</td>\n",
       "      <td>1.0</td>\n",
       "      <td>1</td>\n",
       "      <td>0</td>\n",
       "      <td>1</td>\n",
       "      <td>1</td>\n",
       "    </tr>\n",
       "    <tr>\n",
       "      <th>1</th>\n",
       "      <td>406</td>\n",
       "      <td>8976-AMJEO</td>\n",
       "      <td>7900770</td>\n",
       "      <td>1/26/2013</td>\n",
       "      <td>61.74</td>\n",
       "      <td>Yes</td>\n",
       "      <td>Electronic</td>\n",
       "      <td>6.0</td>\n",
       "      <td>2</td>\n",
       "      <td>1</td>\n",
       "      <td>0</td>\n",
       "      <td>1</td>\n",
       "    </tr>\n",
       "    <tr>\n",
       "      <th>2</th>\n",
       "      <td>391</td>\n",
       "      <td>2820-XGXSB</td>\n",
       "      <td>9231909</td>\n",
       "      <td>7/3/2013</td>\n",
       "      <td>65.88</td>\n",
       "      <td>No</td>\n",
       "      <td>Electronic</td>\n",
       "      <td>2.0</td>\n",
       "      <td>1</td>\n",
       "      <td>0</td>\n",
       "      <td>0</td>\n",
       "      <td>1</td>\n",
       "    </tr>\n",
       "    <tr>\n",
       "      <th>3</th>\n",
       "      <td>406</td>\n",
       "      <td>9322-YCTQO</td>\n",
       "      <td>9888306</td>\n",
       "      <td>2/10/2013</td>\n",
       "      <td>105.92</td>\n",
       "      <td>No</td>\n",
       "      <td>Electronic</td>\n",
       "      <td>5.0</td>\n",
       "      <td>2</td>\n",
       "      <td>0</td>\n",
       "      <td>0</td>\n",
       "      <td>1</td>\n",
       "    </tr>\n",
       "    <tr>\n",
       "      <th>4</th>\n",
       "      <td>818</td>\n",
       "      <td>6627-ELFBK</td>\n",
       "      <td>15752855</td>\n",
       "      <td>10/25/2012</td>\n",
       "      <td>72.27</td>\n",
       "      <td>Yes</td>\n",
       "      <td>Paper</td>\n",
       "      <td>4.0</td>\n",
       "      <td>3</td>\n",
       "      <td>1</td>\n",
       "      <td>1</td>\n",
       "      <td>1</td>\n",
       "    </tr>\n",
       "    <tr>\n",
       "      <th>...</th>\n",
       "      <td>...</td>\n",
       "      <td>...</td>\n",
       "      <td>...</td>\n",
       "      <td>...</td>\n",
       "      <td>...</td>\n",
       "      <td>...</td>\n",
       "      <td>...</td>\n",
       "      <td>...</td>\n",
       "      <td>...</td>\n",
       "      <td>...</td>\n",
       "      <td>...</td>\n",
       "      <td>...</td>\n",
       "    </tr>\n",
       "    <tr>\n",
       "      <th>2461</th>\n",
       "      <td>391</td>\n",
       "      <td>6708-DPYTF</td>\n",
       "      <td>9982796720</td>\n",
       "      <td>10/18/2013</td>\n",
       "      <td>79.61</td>\n",
       "      <td>No</td>\n",
       "      <td>Electronic</td>\n",
       "      <td>14.0</td>\n",
       "      <td>1</td>\n",
       "      <td>0</td>\n",
       "      <td>0</td>\n",
       "      <td>1</td>\n",
       "    </tr>\n",
       "    <tr>\n",
       "      <th>2462</th>\n",
       "      <td>391</td>\n",
       "      <td>9841-XLGBV</td>\n",
       "      <td>9983237240</td>\n",
       "      <td>9/19/2012</td>\n",
       "      <td>38.25</td>\n",
       "      <td>No</td>\n",
       "      <td>Paper</td>\n",
       "      <td>0.0</td>\n",
       "      <td>1</td>\n",
       "      <td>0</td>\n",
       "      <td>1</td>\n",
       "      <td>0</td>\n",
       "    </tr>\n",
       "    <tr>\n",
       "      <th>2463</th>\n",
       "      <td>770</td>\n",
       "      <td>7856-ODQFO</td>\n",
       "      <td>9986249860</td>\n",
       "      <td>7/2/2012</td>\n",
       "      <td>67.59</td>\n",
       "      <td>No</td>\n",
       "      <td>Paper</td>\n",
       "      <td>0.0</td>\n",
       "      <td>5</td>\n",
       "      <td>0</td>\n",
       "      <td>1</td>\n",
       "      <td>0</td>\n",
       "    </tr>\n",
       "    <tr>\n",
       "      <th>2464</th>\n",
       "      <td>770</td>\n",
       "      <td>7050-KQLDO</td>\n",
       "      <td>9989225541</td>\n",
       "      <td>4/27/2012</td>\n",
       "      <td>53.16</td>\n",
       "      <td>No</td>\n",
       "      <td>Paper</td>\n",
       "      <td>0.0</td>\n",
       "      <td>5</td>\n",
       "      <td>0</td>\n",
       "      <td>1</td>\n",
       "      <td>0</td>\n",
       "    </tr>\n",
       "    <tr>\n",
       "      <th>2465</th>\n",
       "      <td>406</td>\n",
       "      <td>9758-AIEIK</td>\n",
       "      <td>9990243864</td>\n",
       "      <td>7/4/2013</td>\n",
       "      <td>68.66</td>\n",
       "      <td>No</td>\n",
       "      <td>Electronic</td>\n",
       "      <td>0.0</td>\n",
       "      <td>2</td>\n",
       "      <td>0</td>\n",
       "      <td>0</td>\n",
       "      <td>0</td>\n",
       "    </tr>\n",
       "  </tbody>\n",
       "</table>\n",
       "<p>2461 rows × 12 columns</p>\n",
       "</div>"
      ],
      "text/plain": [
       "      countryCode  customerID  invoiceNumber InvoiceDate InvoiceAmount  \\\n",
       "0             391  0379-NEVHP         611365    1/2/2013         55.94   \n",
       "1             406  8976-AMJEO        7900770   1/26/2013         61.74   \n",
       "2             391  2820-XGXSB        9231909    7/3/2013         65.88   \n",
       "3             406  9322-YCTQO        9888306   2/10/2013        105.92   \n",
       "4             818  6627-ELFBK       15752855  10/25/2012         72.27   \n",
       "...           ...         ...            ...         ...           ...   \n",
       "2461          391  6708-DPYTF     9982796720  10/18/2013         79.61   \n",
       "2462          391  9841-XLGBV     9983237240   9/19/2012         38.25   \n",
       "2463          770  7856-ODQFO     9986249860    7/2/2012         67.59   \n",
       "2464          770  7050-KQLDO     9989225541   4/27/2012         53.16   \n",
       "2465          406  9758-AIEIK     9990243864    7/4/2013         68.66   \n",
       "\n",
       "     Disputed PaperlessBill  DaysLate  Countries  Dispute  Paper  Late  \n",
       "0          No         Paper       1.0          1        0      1     1  \n",
       "1         Yes    Electronic       6.0          2        1      0     1  \n",
       "2          No    Electronic       2.0          1        0      0     1  \n",
       "3          No    Electronic       5.0          2        0      0     1  \n",
       "4         Yes         Paper       4.0          3        1      1     1  \n",
       "...       ...           ...       ...        ...      ...    ...   ...  \n",
       "2461       No    Electronic      14.0          1        0      0     1  \n",
       "2462       No         Paper       0.0          1        0      1     0  \n",
       "2463       No         Paper       0.0          5        0      1     0  \n",
       "2464       No         Paper       0.0          5        0      1     0  \n",
       "2465       No    Electronic       0.0          2        0      0     0  \n",
       "\n",
       "[2461 rows x 12 columns]"
      ]
     },
     "execution_count": 368,
     "metadata": {},
     "output_type": "execute_result"
    }
   ],
   "source": [
    "dfInvoice"
   ]
  },
  {
   "cell_type": "markdown",
   "metadata": {},
   "source": [
    "Now lets proceed to create X and Y "
   ]
  },
  {
   "cell_type": "code",
   "execution_count": 369,
   "metadata": {},
   "outputs": [],
   "source": [
    "X=dfInvoice[['Countries','Dispute','Paper','InvoiceAmount']]"
   ]
  },
  {
   "cell_type": "code",
   "execution_count": 370,
   "metadata": {},
   "outputs": [],
   "source": [
    "Y=dfInvoice.Late"
   ]
  },
  {
   "cell_type": "markdown",
   "metadata": {},
   "source": [
    "Splitting data in Training and testing"
   ]
  },
  {
   "cell_type": "code",
   "execution_count": 371,
   "metadata": {},
   "outputs": [],
   "source": [
    "x_train,x_test,y_train,y_test=train_test_split(X,Y,test_size=0.2)"
   ]
  },
  {
   "cell_type": "markdown",
   "metadata": {},
   "source": [
    "Lets begin making our model"
   ]
  },
  {
   "cell_type": "code",
   "execution_count": 372,
   "metadata": {},
   "outputs": [],
   "source": [
    "model=LinearRegression()"
   ]
  },
  {
   "cell_type": "code",
   "execution_count": 373,
   "metadata": {},
   "outputs": [
    {
     "data": {
      "text/plain": [
       "LinearRegression()"
      ]
     },
     "execution_count": 373,
     "metadata": {},
     "output_type": "execute_result"
    }
   ],
   "source": [
    "model.fit(x_train,y_train)"
   ]
  },
  {
   "cell_type": "code",
   "execution_count": 374,
   "metadata": {},
   "outputs": [],
   "source": [
    "y_pred=model.predict(x_test)"
   ]
  },
  {
   "cell_type": "code",
   "execution_count": 375,
   "metadata": {
    "scrolled": true
   },
   "outputs": [
    {
     "data": {
      "text/plain": [
       "array([0.10593424, 0.34457724, 0.11678564, 0.1125475 , 0.16399239,\n",
       "       0.19722211, 0.17019067, 0.16489076, 0.36901494, 0.72824919,\n",
       "       0.1807573 , 0.13078916, 0.35507323, 0.38236072, 0.20682856,\n",
       "       0.23808484, 0.33977402, 0.31177793, 0.23356416, 0.78439135,\n",
       "       0.74680212, 0.35638446, 0.22676547, 0.20470949, 0.36816296,\n",
       "       0.71837786, 0.18445248, 0.38712863, 0.61966868, 0.33033969,\n",
       "       0.28876837, 0.3057121 , 0.2926445 , 0.1376055 , 0.36773914,\n",
       "       0.36437512, 0.40885792, 0.15882492, 0.29000449, 0.3316023 ,\n",
       "       0.1562114 , 0.32579252, 0.36028261, 0.11848973, 0.40272145,\n",
       "       0.61741717, 0.58269751, 0.6269883 , 0.30489319, 0.12775183,\n",
       "       0.32679248, 0.72935511, 0.22712748, 0.29730645, 0.28870656,\n",
       "       0.57468695, 0.60284409, 0.12275436, 0.12033509, 0.18498661,\n",
       "       0.33310331, 0.16566999, 0.12837872, 0.78113988, 0.19333491,\n",
       "       0.35199175, 0.33774984, 0.80180751, 0.57052828, 0.36268869,\n",
       "       0.75817446, 0.40500828, 0.29486952, 0.1948889 , 0.1533396 ,\n",
       "       0.17246644, 0.20737598, 0.56681108, 0.32931547, 0.18654506,\n",
       "       0.58714532, 0.58407043, 0.33463527, 0.64042014, 0.29526685,\n",
       "       0.75258541, 0.79232244, 0.17538239, 0.15671032, 0.81172076,\n",
       "       0.29056958, 0.37087136, 0.21946128, 0.77107653, 0.33643201,\n",
       "       0.59056891, 0.73731928, 0.31251961, 0.11505507, 0.64356119,\n",
       "       0.1765766 , 0.74565429, 0.33892639, 0.6175695 , 0.33930159,\n",
       "       0.1328376 , 0.31216643, 0.12579169, 0.30143864, 0.29517855,\n",
       "       0.2335465 , 0.370335  , 0.76776325, 0.11160275, 0.30305443,\n",
       "       0.10410654, 0.17347746, 0.60192583, 0.38850603, 0.74355288,\n",
       "       0.21435126, 0.16082921, 0.17556558, 0.19989297, 0.31689242,\n",
       "       0.29053426, 0.31123051, 0.23754624, 0.32619867, 0.34250891,\n",
       "       0.11746551, 0.22740119, 0.327735  , 0.29251206, 0.24212873,\n",
       "       0.35336255, 0.15373916, 0.75045528, 0.29934829, 0.16865658,\n",
       "       0.09728137, 0.34573166, 0.1136865 , 0.14792937, 0.21272664,\n",
       "       0.2986397 , 0.39705294, 0.76791559, 0.31212452, 0.3792152 ,\n",
       "       0.39457186, 0.19877386, 0.11561133, 0.16941144, 0.15579642,\n",
       "       0.19976935, 0.29236196, 0.412478  , 0.13362342, 0.35633808,\n",
       "       0.33472357, 0.83543009, 0.1559245 , 0.20237628, 0.18968388,\n",
       "       0.31289491, 0.11864866, 0.16067688, 0.26212745, 0.15708552,\n",
       "       0.390837  , 0.60316195, 0.16209182, 0.29174389, 0.37689965,\n",
       "       0.3208127 , 0.35805982, 0.32216808, 0.40937886, 0.28048634,\n",
       "       0.38606027, 0.16916869, 0.38753479, 0.22729524, 0.12698367,\n",
       "       0.76741231, 0.33389136, 0.30165054, 0.36499978, 0.31687253,\n",
       "       0.77965876, 0.31940882, 0.13068321, 0.63605392, 0.65502406,\n",
       "       0.35595618, 0.3925146 , 0.57847479, 0.30681578, 0.33830609,\n",
       "       0.78183741, 0.14744375, 0.20490374, 0.32336005, 0.61032488,\n",
       "       0.17259005, 0.14001595, 0.12668346, 0.35634691, 0.36811434,\n",
       "       0.18088091, 0.78489687, 0.24495416, 0.73788213, 0.32321655,\n",
       "       0.67518171, 0.78837344, 0.33346978, 0.11859568, 0.18614773,\n",
       "       0.34277603, 0.29283875, 0.58099119, 0.58952044, 0.78585045,\n",
       "       0.56998968, 0.11394256, 0.1992815 , 0.15251186, 0.39093413,\n",
       "       0.19935884, 0.36153639, 0.70228176, 0.76034651, 0.32654961,\n",
       "       0.63569191, 0.62813389, 0.30877592, 0.15560664, 0.23510048,\n",
       "       0.31384626, 0.5673585 , 0.77043858, 0.18593359, 0.12081188,\n",
       "       0.72518537, 0.38070961, 0.34279805, 0.74238739, 0.29963743,\n",
       "       0.1768768 , 0.39490738, 0.12898795, 0.15426892, 0.266059  ,\n",
       "       0.12904093, 0.82378403, 0.30213616, 0.60702926, 0.10493651,\n",
       "       0.65085656, 0.17929608, 0.10514842, 0.32612804, 0.18621177,\n",
       "       0.28720555, 0.73335485, 0.78466507, 0.32351898, 0.75190554,\n",
       "       0.29188516, 0.18268435, 0.21255005, 0.11162924, 0.1932113 ,\n",
       "       0.30689524, 0.18151003, 0.16680675, 0.21157881, 0.15371926,\n",
       "       0.18819617, 0.29311246, 0.74287301, 0.7656795 , 0.19097745,\n",
       "       0.1355593 , 0.68433786, 0.16074539, 0.17739774, 0.1464372 ,\n",
       "       0.36115013, 0.16016924, 0.18288743, 0.30678929, 0.16229714,\n",
       "       0.41543587, 0.14513703, 0.12718674, 0.39734431, 0.36041729,\n",
       "       0.2938453 , 0.17047321, 0.19968329, 0.8004632 , 0.38788796,\n",
       "       0.22616507, 0.33977402, 0.162977  , 0.24565168, 0.34496127,\n",
       "       0.63546894, 0.29529334, 0.44488211, 0.59976485, 0.19048959,\n",
       "       0.32796456, 0.18017019, 0.17019067, 0.30695705, 0.18667527,\n",
       "       0.32972162, 0.36446777, 0.17938437, 0.36011709, 0.32904399,\n",
       "       0.29595554, 0.15568164, 0.17898704, 0.64388128, 0.20497214,\n",
       "       0.29147901, 0.61408399, 0.56099246, 0.2155344 , 0.22765725,\n",
       "       0.28640207, 0.14023668, 0.32055665, 0.37948892, 0.34347792,\n",
       "       0.35838651, 0.12259543, 0.37051159, 0.60400075, 0.20383537,\n",
       "       0.76047012, 0.21096957, 0.39967529, 0.14648794, 0.62346311,\n",
       "       0.58918492, 0.11751849, 0.30150927, 0.62875855, 0.16033253,\n",
       "       0.3506784 , 0.17670681, 0.29938137, 0.32145725, 0.34426597,\n",
       "       0.37478058, 0.29608799, 0.20231671, 0.13795868, 0.35152155,\n",
       "       0.29146135, 0.80704774, 0.18763108, 0.58347226, 0.36618069,\n",
       "       0.77015603, 0.2159229 , 0.14010647, 0.18813436, 0.3546075 ,\n",
       "       0.34190191, 0.3327413 , 0.35018831, 0.21869535, 0.29064904,\n",
       "       0.21529601, 0.11173519, 0.58243922, 0.33938552, 0.1676897 ,\n",
       "       0.13564536, 0.32358079, 0.11396905, 0.34137651, 0.21140222,\n",
       "       0.39110189, 0.39689401, 0.33684264, 0.38755244, 0.27628351,\n",
       "       0.15717382, 0.25235324, 0.33222036, 0.39705294, 0.3293861 ,\n",
       "       0.13463881, 0.18457609, 0.19466816, 0.37708071, 0.57492758,\n",
       "       0.33456464, 0.37411401, 0.16544925, 0.7557287 , 0.36136204,\n",
       "       0.1716453 , 0.13804698, 0.2926445 , 0.60559005, 0.33261109,\n",
       "       0.5300783 , 0.09691053, 0.65085656, 0.33826854, 0.31034756,\n",
       "       0.75466034, 0.36595995, 0.2936334 , 0.15623789, 0.74975116,\n",
       "       0.35108455, 0.34153991, 0.13832069, 0.79462916, 0.18459811,\n",
       "       0.1623082 , 0.77058208, 0.17968893, 0.11736839, 0.28242882,\n",
       "       0.36087642, 0.36428682, 0.27856151, 0.15344555, 0.30786648,\n",
       "       0.22467289, 0.77000593, 0.16021115, 0.40698608, 0.79787393,\n",
       "       0.28634909, 0.30645377, 0.17291897, 0.60843537, 0.1909399 ,\n",
       "       0.32206648, 0.59511832, 0.58997074, 0.31590129, 0.60775551,\n",
       "       0.61053019, 0.30998555, 0.22205054, 0.35541758, 0.35404678,\n",
       "       0.33847609, 0.59263288, 0.74786165, 0.801909  , 0.36893771,\n",
       "       0.12295743, 0.75189448, 0.1313101 , 0.30065728, 0.17759635,\n",
       "       0.32239094, 0.30854635, 0.29335085, 0.1247145 , 0.21878364,\n",
       "       0.36011049, 0.19778496, 0.16016041, 0.15482965, 0.61507513,\n",
       "       0.1125475 , 0.76979626, 0.76699073, 0.15616726, 0.33015874,\n",
       "       0.39843917, 0.15124925, 0.35176878, 0.18086548, 0.59305222,\n",
       "       0.74609576, 0.40324239, 0.35629393])"
      ]
     },
     "execution_count": 375,
     "metadata": {},
     "output_type": "execute_result"
    }
   ],
   "source": [
    "y_pred"
   ]
  },
  {
   "cell_type": "markdown",
   "metadata": {},
   "source": [
    "y_pred has continuous values. We have to convert it to 0 and 1 for checking how good our model is"
   ]
  },
  {
   "cell_type": "code",
   "execution_count": 376,
   "metadata": {},
   "outputs": [],
   "source": [
    "# if the value predicted is greater than 0.5, we save it as 1 and else 0\n",
    "updated_pred=[]\n",
    "for i in y_pred:\n",
    "    if i>0.5:\n",
    "        updated_pred.append(1)\n",
    "    else:\n",
    "        updated_pred.append(0)\n",
    "    "
   ]
  },
  {
   "cell_type": "code",
   "execution_count": 377,
   "metadata": {},
   "outputs": [
    {
     "name": "stdout",
     "output_type": "stream",
     "text": [
      "              precision    recall  f1-score   support\n",
      "\n",
      "           0       0.89      0.72      0.80       386\n",
      "           1       0.40      0.66      0.50       107\n",
      "\n",
      "    accuracy                           0.71       493\n",
      "   macro avg       0.64      0.69      0.65       493\n",
      "weighted avg       0.78      0.71      0.73       493\n",
      "\n"
     ]
    }
   ],
   "source": [
    "print(classification_report(updated_pred,y_test))"
   ]
  },
  {
   "cell_type": "markdown",
   "metadata": {},
   "source": [
    "#### The model works pretty good as we can see from the above stats. But in my opinion Using classification algorithms would be much  better"
   ]
  },
  {
   "cell_type": "markdown",
   "metadata": {},
   "source": [
    "#### Acc to me, this is a very good model due to high precision, but In my opinion using tree based classification may be slightly better"
   ]
  },
  {
   "cell_type": "markdown",
   "metadata": {
    "id": "3d9xZtQqJ--N"
   },
   "source": [
    "### Question 4 <font color=grey>[2 pts]</font>\n",
    "\n",
    "We will now investigate different approaches for answering Q3. \n",
    "\n",
    "Create three classification models (a logistic regression, a decision tree, and a random forest) that <b>predict whether an invoice payment will be late or not</b>. \n",
    "\n",
    "Compare the precision, recall, and accuracy for these three models in this classification task, giving examples for scenarios where you would use each of the models. Which one is more benefitial for this application?\n",
    "\n",
    "Finally, are these models more beneficial than the linear regression you constructed in <b>Q3</b>? \n",
    "\n",
    "<i>Note:</i> Similar to Q3, you can assume that the firm will not generate invoices for any other country codes. For decision trees, use 150 as the minimum sample size for each tree node. For the random forest, use 100 decision trees with 20 minimum sample size for each tree node. Use a random_state=0 when appropriate."
   ]
  },
  {
   "cell_type": "code",
   "execution_count": 378,
   "metadata": {
    "id": "B-8Il25LJ--N"
   },
   "outputs": [],
   "source": [
    "from sklearn.linear_model import LogisticRegression\n",
    "from sklearn.tree import DecisionTreeClassifier\n",
    "from sklearn.ensemble import RandomForestClassifier\n",
    "from sklearn.metrics import confusion_matrix"
   ]
  },
  {
   "cell_type": "markdown",
   "metadata": {},
   "source": [
    "Firstly lets try with random_state=0"
   ]
  },
  {
   "cell_type": "code",
   "execution_count": 379,
   "metadata": {
    "id": "PaXi7AXxJ--N"
   },
   "outputs": [],
   "source": [
    "log_reg=LogisticRegression(random_state=0)\n",
    "dtree=DecisionTreeClassifier(min_samples_leaf=150,random_state=0)\n",
    "rf=RandomForestClassifier(n_estimators=100,min_samples_leaf=20,random_state=0)"
   ]
  },
  {
   "cell_type": "code",
   "execution_count": 380,
   "metadata": {},
   "outputs": [
    {
     "data": {
      "text/plain": [
       "LogisticRegression(random_state=0)"
      ]
     },
     "execution_count": 380,
     "metadata": {},
     "output_type": "execute_result"
    }
   ],
   "source": [
    "log_reg.fit(x_train,y_train)"
   ]
  },
  {
   "cell_type": "code",
   "execution_count": 381,
   "metadata": {},
   "outputs": [
    {
     "data": {
      "text/plain": [
       "DecisionTreeClassifier(min_samples_leaf=150, random_state=0)"
      ]
     },
     "execution_count": 381,
     "metadata": {},
     "output_type": "execute_result"
    }
   ],
   "source": [
    "dtree.fit(x_train,y_train)"
   ]
  },
  {
   "cell_type": "code",
   "execution_count": 382,
   "metadata": {},
   "outputs": [
    {
     "data": {
      "text/plain": [
       "RandomForestClassifier(min_samples_leaf=20, random_state=0)"
      ]
     },
     "execution_count": 382,
     "metadata": {},
     "output_type": "execute_result"
    }
   ],
   "source": [
    "rf.fit(x_train,y_train)"
   ]
  },
  {
   "cell_type": "code",
   "execution_count": 383,
   "metadata": {},
   "outputs": [
    {
     "name": "stdout",
     "output_type": "stream",
     "text": [
      "0.7079107505070994\n",
      "0.7099391480730223\n",
      "0.7018255578093306\n"
     ]
    }
   ],
   "source": [
    "print(log_reg.score(x_test,y_test))\n",
    "print(dtree.score(x_test,y_test))\n",
    "print(rf.score(x_test,y_test))"
   ]
  },
  {
   "cell_type": "code",
   "execution_count": 384,
   "metadata": {},
   "outputs": [
    {
     "name": "stdout",
     "output_type": "stream",
     "text": [
      "              precision    recall  f1-score   support\n",
      "\n",
      "           0       0.89      0.72      0.79       387\n",
      "           1       0.39      0.66      0.49       106\n",
      "\n",
      "    accuracy                           0.71       493\n",
      "   macro avg       0.64      0.69      0.64       493\n",
      "weighted avg       0.78      0.71      0.73       493\n",
      "\n",
      "Confusion matrix\n",
      "[[279 108]\n",
      " [ 36  70]]\n"
     ]
    }
   ],
   "source": [
    "#logistic reg\n",
    "print(classification_report(log_reg.predict(x_test),y_test))\n",
    "\n",
    "print(\"Confusion matrix\")\n",
    "\n",
    "print(confusion_matrix(log_reg.predict(x_test),y_test))"
   ]
  },
  {
   "cell_type": "code",
   "execution_count": 385,
   "metadata": {},
   "outputs": [
    {
     "name": "stdout",
     "output_type": "stream",
     "text": [
      "              precision    recall  f1-score   support\n",
      "\n",
      "           0       0.89      0.72      0.80       386\n",
      "           1       0.40      0.66      0.50       107\n",
      "\n",
      "    accuracy                           0.71       493\n",
      "   macro avg       0.64      0.69      0.65       493\n",
      "weighted avg       0.78      0.71      0.73       493\n",
      "\n",
      "Confusion matrix\n",
      "[[279 107]\n",
      " [ 36  71]]\n"
     ]
    }
   ],
   "source": [
    "#Decision Tree\n",
    "print(classification_report(dtree.predict(x_test),y_test))\n",
    "print(\"Confusion matrix\")\n",
    "\n",
    "print(confusion_matrix(dtree.predict(x_test),y_test))"
   ]
  },
  {
   "cell_type": "code",
   "execution_count": 386,
   "metadata": {},
   "outputs": [
    {
     "name": "stdout",
     "output_type": "stream",
     "text": [
      "              precision    recall  f1-score   support\n",
      "\n",
      "           0       0.88      0.72      0.79       386\n",
      "           1       0.39      0.64      0.48       107\n",
      "\n",
      "    accuracy                           0.70       493\n",
      "   macro avg       0.63      0.68      0.64       493\n",
      "weighted avg       0.77      0.70      0.72       493\n",
      "\n",
      "Confusion matrix\n",
      "[[277 109]\n",
      " [ 38  69]]\n"
     ]
    }
   ],
   "source": [
    "#randomforest\n",
    "print(classification_report(rf.predict(x_test),y_test))\n",
    "\n",
    "print(\"Confusion matrix\")\n",
    "\n",
    "print(confusion_matrix(rf.predict(x_test),y_test))"
   ]
  },
  {
   "cell_type": "markdown",
   "metadata": {},
   "source": [
    "Now lets try without random_state=0"
   ]
  },
  {
   "cell_type": "code",
   "execution_count": 387,
   "metadata": {},
   "outputs": [],
   "source": [
    "log_reg=LogisticRegression()\n",
    "dtree=DecisionTreeClassifier(min_samples_leaf=150)\n",
    "rf=RandomForestClassifier(n_estimators=100,min_samples_leaf=20)"
   ]
  },
  {
   "cell_type": "code",
   "execution_count": 388,
   "metadata": {},
   "outputs": [
    {
     "data": {
      "text/plain": [
       "LogisticRegression()"
      ]
     },
     "execution_count": 388,
     "metadata": {},
     "output_type": "execute_result"
    }
   ],
   "source": [
    "log_reg.fit(x_train,y_train)"
   ]
  },
  {
   "cell_type": "code",
   "execution_count": 389,
   "metadata": {},
   "outputs": [
    {
     "data": {
      "text/plain": [
       "DecisionTreeClassifier(min_samples_leaf=150)"
      ]
     },
     "execution_count": 389,
     "metadata": {},
     "output_type": "execute_result"
    }
   ],
   "source": [
    "dtree.fit(x_train,y_train)"
   ]
  },
  {
   "cell_type": "code",
   "execution_count": 390,
   "metadata": {},
   "outputs": [
    {
     "data": {
      "text/plain": [
       "RandomForestClassifier(min_samples_leaf=20)"
      ]
     },
     "execution_count": 390,
     "metadata": {},
     "output_type": "execute_result"
    }
   ],
   "source": [
    "rf.fit(x_train,y_train)"
   ]
  },
  {
   "cell_type": "code",
   "execution_count": 391,
   "metadata": {},
   "outputs": [
    {
     "name": "stdout",
     "output_type": "stream",
     "text": [
      "0.7079107505070994\n",
      "0.7099391480730223\n",
      "0.7079107505070994\n"
     ]
    }
   ],
   "source": [
    "print(log_reg.score(x_test,y_test))\n",
    "print(dtree.score(x_test,y_test))\n",
    "print(rf.score(x_test,y_test))"
   ]
  },
  {
   "cell_type": "code",
   "execution_count": 392,
   "metadata": {},
   "outputs": [
    {
     "name": "stdout",
     "output_type": "stream",
     "text": [
      "              precision    recall  f1-score   support\n",
      "\n",
      "           0       0.89      0.72      0.79       387\n",
      "           1       0.39      0.66      0.49       106\n",
      "\n",
      "    accuracy                           0.71       493\n",
      "   macro avg       0.64      0.69      0.64       493\n",
      "weighted avg       0.78      0.71      0.73       493\n",
      "\n",
      "Confusion matrix\n",
      "[[279 108]\n",
      " [ 36  70]]\n"
     ]
    }
   ],
   "source": [
    "#logistic reg\n",
    "print(classification_report(log_reg.predict(x_test),y_test))\n",
    "\n",
    "print(\"Confusion matrix\")\n",
    "\n",
    "print(confusion_matrix(log_reg.predict(x_test),y_test))"
   ]
  },
  {
   "cell_type": "code",
   "execution_count": 393,
   "metadata": {},
   "outputs": [
    {
     "name": "stdout",
     "output_type": "stream",
     "text": [
      "              precision    recall  f1-score   support\n",
      "\n",
      "           0       0.89      0.72      0.80       386\n",
      "           1       0.40      0.66      0.50       107\n",
      "\n",
      "    accuracy                           0.71       493\n",
      "   macro avg       0.64      0.69      0.65       493\n",
      "weighted avg       0.78      0.71      0.73       493\n",
      "\n",
      "Confusion matrix\n",
      "[[279 107]\n",
      " [ 36  71]]\n"
     ]
    }
   ],
   "source": [
    "#Decision Tree\n",
    "print(classification_report(dtree.predict(x_test),y_test))\n",
    "\n",
    "print(\"Confusion matrix\")\n",
    "\n",
    "print(confusion_matrix(dtree.predict(x_test),y_test))"
   ]
  },
  {
   "cell_type": "code",
   "execution_count": 394,
   "metadata": {},
   "outputs": [
    {
     "name": "stdout",
     "output_type": "stream",
     "text": [
      "              precision    recall  f1-score   support\n",
      "\n",
      "           0       0.89      0.72      0.80       389\n",
      "           1       0.39      0.66      0.49       104\n",
      "\n",
      "    accuracy                           0.71       493\n",
      "   macro avg       0.64      0.69      0.64       493\n",
      "weighted avg       0.78      0.71      0.73       493\n",
      "\n",
      "Confusion matrix\n",
      "[[280 109]\n",
      " [ 35  69]]\n"
     ]
    }
   ],
   "source": [
    "#randomforest\n",
    "print(classification_report(rf.predict(x_test),y_test))\n",
    "\n",
    "print(\"Confusion matrix\")\n",
    "\n",
    "print(confusion_matrix(rf.predict(x_test),y_test))"
   ]
  },
  {
   "cell_type": "markdown",
   "metadata": {},
   "source": [
    "#### By seeing the above classification  reports, we can see that Logistic regression, Decision Trees and Random Forest gave similar results. But all of them were better than the results of Linear Regression "
   ]
  },
  {
   "cell_type": "markdown",
   "metadata": {},
   "source": [
    "#### Hence they will be more useful to perfom predictions"
   ]
  },
  {
   "cell_type": "markdown",
   "metadata": {
    "id": "-RzWQB0VJ--O"
   },
   "source": [
    "### Question 5 <font color=grey>[1 pt]</font>\n",
    "\n",
    "Every time an invoice is delayed, the firm loses a fixed amount of \\\\$10 due to processing and related charges (e.g., for contacting the customer). To help ameliorate this cost, the firm wishes to implement a new program to incentivize customers not to delay their payments. Specifically, the firm will give a gift card valued in \\\\$5 on selected invoices if they are paid on time. \n",
    "\n",
    "If the firm uses your random forest from <b>Q4</b> to decide which of the future 1,000 invoices to apply the promotion to, is this strategy more benefitial than not doing anything? If so, how much money in percentage is saved by the firm?\n",
    "\n",
    "For this question, assume that (a) an invoice is never paid late when the promotion is applied and that (b) the proportion of late invoices will remain the same as the one observed in the dataset."
   ]
  },
  {
   "cell_type": "code",
   "execution_count": 395,
   "metadata": {},
   "outputs": [],
   "source": [
    "# We import random module to create a sample of 1000 data points to simulate what would occur if we applied the promotion\n",
    "import random\n",
    "from random import sample"
   ]
  },
  {
   "cell_type": "code",
   "execution_count": 396,
   "metadata": {},
   "outputs": [],
   "source": [
    "# Storing x_test values in a sample dataset\n",
    "temp=x_test"
   ]
  },
  {
   "cell_type": "markdown",
   "metadata": {},
   "source": [
    "##### Here we are creating random samples of length 1000 for checking out how our promo strategy works\n"
   ]
  },
  {
   "cell_type": "code",
   "execution_count": 397,
   "metadata": {},
   "outputs": [],
   "source": [
    "# sample function used to generate 1000 data points based on the existing points\n",
    "temp=temp.sample(1000,replace=True)"
   ]
  },
  {
   "cell_type": "code",
   "execution_count": 398,
   "metadata": {},
   "outputs": [
    {
     "data": {
      "text/html": [
       "<div>\n",
       "<style scoped>\n",
       "    .dataframe tbody tr th:only-of-type {\n",
       "        vertical-align: middle;\n",
       "    }\n",
       "\n",
       "    .dataframe tbody tr th {\n",
       "        vertical-align: top;\n",
       "    }\n",
       "\n",
       "    .dataframe thead th {\n",
       "        text-align: right;\n",
       "    }\n",
       "</style>\n",
       "<table border=\"1\" class=\"dataframe\">\n",
       "  <thead>\n",
       "    <tr style=\"text-align: right;\">\n",
       "      <th></th>\n",
       "      <th>Countries</th>\n",
       "      <th>Dispute</th>\n",
       "      <th>Paper</th>\n",
       "      <th>InvoiceAmount</th>\n",
       "    </tr>\n",
       "  </thead>\n",
       "  <tbody>\n",
       "    <tr>\n",
       "      <th>930</th>\n",
       "      <td>4</td>\n",
       "      <td>0</td>\n",
       "      <td>0</td>\n",
       "      <td>9.52</td>\n",
       "    </tr>\n",
       "    <tr>\n",
       "      <th>327</th>\n",
       "      <td>2</td>\n",
       "      <td>0</td>\n",
       "      <td>0</td>\n",
       "      <td>92.35</td>\n",
       "    </tr>\n",
       "    <tr>\n",
       "      <th>763</th>\n",
       "      <td>5</td>\n",
       "      <td>0</td>\n",
       "      <td>1</td>\n",
       "      <td>65.81</td>\n",
       "    </tr>\n",
       "    <tr>\n",
       "      <th>1316</th>\n",
       "      <td>1</td>\n",
       "      <td>0</td>\n",
       "      <td>1</td>\n",
       "      <td>73.84</td>\n",
       "    </tr>\n",
       "    <tr>\n",
       "      <th>2396</th>\n",
       "      <td>3</td>\n",
       "      <td>0</td>\n",
       "      <td>1</td>\n",
       "      <td>42.62</td>\n",
       "    </tr>\n",
       "  </tbody>\n",
       "</table>\n",
       "</div>"
      ],
      "text/plain": [
       "      Countries  Dispute  Paper InvoiceAmount\n",
       "930           4        0      0          9.52\n",
       "327           2        0      0         92.35\n",
       "763           5        0      1         65.81\n",
       "1316          1        0      1         73.84\n",
       "2396          3        0      1         42.62"
      ]
     },
     "execution_count": 398,
     "metadata": {},
     "output_type": "execute_result"
    }
   ],
   "source": [
    "temp.head()"
   ]
  },
  {
   "cell_type": "markdown",
   "metadata": {},
   "source": [
    "Now suppose we consider the temp dataframe to be out future features of the invoices"
   ]
  },
  {
   "cell_type": "markdown",
   "metadata": {},
   "source": [
    "By using random forest we can predict for each of these 1000 values that there will be a delay or not"
   ]
  },
  {
   "cell_type": "markdown",
   "metadata": {},
   "source": [
    "##### Here we predicted the 1000 outputs by random forest."
   ]
  },
  {
   "cell_type": "code",
   "execution_count": 399,
   "metadata": {},
   "outputs": [
    {
     "data": {
      "text/plain": [
       "array([0, 0, 0, 0, 0, 1, 1, 0, 1, 0, 0, 0, 0, 0, 0, 0, 1, 0, 0, 0, 0, 0,\n",
       "       0, 1, 0, 0, 1, 0, 1, 0, 0, 0, 0, 0, 1, 0, 1, 0, 0, 0, 1, 0, 0, 1,\n",
       "       0, 0, 0, 0, 0, 0, 1, 0, 0, 0, 0, 0, 1, 1, 1, 0, 0, 0, 0, 0, 0, 1,\n",
       "       0, 0, 0, 0, 0, 0, 0, 0, 0, 1, 1, 0, 1, 0, 1, 0, 0, 0, 0, 1, 0, 0,\n",
       "       0, 0, 0, 0, 0, 0, 0, 0, 1, 0, 1, 1, 0, 0, 1, 0, 1, 0, 0, 0, 0, 0,\n",
       "       0, 0, 1, 0, 0, 0, 0, 1, 0, 0, 0, 0, 1, 0, 0, 0, 1, 0, 0, 0, 1, 0,\n",
       "       0, 0, 0, 0, 0, 0, 0, 0, 1, 0, 1, 0, 0, 0, 0, 0, 0, 0, 1, 0, 0, 0,\n",
       "       0, 0, 1, 0, 0, 0, 0, 1, 0, 0, 0, 0, 1, 1, 0, 0, 0, 0, 0, 0, 0, 0,\n",
       "       1, 0, 0, 0, 1, 0, 0, 0, 0, 1, 1, 0, 1, 0, 0, 0, 0, 0, 1, 0, 0, 0,\n",
       "       0, 0, 0, 0, 0, 0, 0, 0, 0, 0, 0, 1, 0, 0, 0, 1, 0, 0, 0, 0, 0, 0,\n",
       "       1, 1, 0, 1, 0, 0, 0, 0, 0, 1, 0, 0, 1, 0, 0, 0, 0, 0, 0, 0, 0, 0,\n",
       "       0, 0, 0, 0, 0, 0, 1, 1, 0, 1, 0, 0, 1, 0, 1, 0, 0, 0, 0, 1, 0, 0,\n",
       "       0, 0, 0, 0, 0, 0, 0, 0, 0, 0, 1, 0, 1, 0, 0, 1, 0, 0, 1, 0, 0, 1,\n",
       "       0, 0, 0, 0, 0, 0, 0, 0, 0, 1, 1, 0, 0, 1, 0, 0, 0, 1, 0, 1, 0, 0,\n",
       "       0, 0, 0, 0, 0, 0, 0, 0, 0, 1, 1, 0, 1, 0, 0, 1, 0, 0, 0, 0, 0, 0,\n",
       "       1, 0, 0, 1, 0, 1, 0, 0, 0, 0, 0, 0, 0, 0, 0, 1, 0, 0, 0, 1, 0, 0,\n",
       "       1, 0, 1, 1, 0, 1, 0, 0, 0, 0, 0, 0, 0, 0, 0, 0, 0, 0, 1, 0, 1, 1,\n",
       "       1, 0, 1, 0, 1, 0, 1, 0, 0, 0, 0, 0, 1, 0, 0, 0, 1, 1, 0, 0, 0, 0,\n",
       "       1, 1, 0, 1, 1, 1, 0, 0, 0, 0, 0, 0, 0, 0, 0, 1, 0, 0, 0, 1, 0, 1,\n",
       "       1, 0, 1, 0, 0, 0, 0, 1, 0, 0, 1, 1, 1, 0, 0, 1, 1, 0, 0, 0, 0, 1,\n",
       "       1, 0, 0, 0, 1, 0, 0, 0, 1, 1, 0, 0, 0, 0, 0, 0, 0, 0, 0, 0, 0, 1,\n",
       "       1, 0, 1, 0, 0, 0, 0, 0, 0, 0, 0, 1, 0, 0, 0, 1, 0, 0, 0, 0, 0, 0,\n",
       "       0, 0, 1, 0, 0, 0, 1, 1, 0, 0, 0, 1, 1, 0, 0, 0, 0, 0, 0, 1, 0, 0,\n",
       "       0, 0, 0, 0, 1, 0, 0, 0, 1, 0, 0, 0, 1, 0, 0, 0, 0, 0, 0, 0, 0, 0,\n",
       "       1, 0, 0, 1, 1, 0, 0, 0, 0, 0, 0, 1, 0, 1, 0, 0, 1, 1, 0, 1, 0, 1,\n",
       "       0, 1, 0, 0, 1, 0, 1, 1, 0, 0, 0, 0, 0, 1, 0, 0, 0, 1, 0, 0, 0, 0,\n",
       "       1, 1, 0, 0, 0, 0, 0, 1, 0, 1, 0, 0, 1, 0, 0, 0, 0, 0, 0, 0, 1, 0,\n",
       "       0, 0, 0, 0, 0, 0, 1, 0, 0, 0, 0, 0, 0, 0, 0, 0, 0, 0, 0, 1, 0, 0,\n",
       "       0, 1, 0, 0, 0, 1, 0, 1, 0, 0, 0, 1, 1, 0, 0, 1, 0, 1, 0, 1, 0, 0,\n",
       "       0, 1, 0, 0, 0, 0, 1, 0, 0, 0, 0, 0, 0, 0, 0, 0, 0, 0, 0, 0, 0, 0,\n",
       "       0, 0, 0, 1, 0, 0, 0, 0, 0, 0, 0, 0, 0, 0, 1, 0, 0, 0, 0, 0, 0, 0,\n",
       "       0, 0, 1, 0, 1, 0, 1, 0, 1, 0, 0, 1, 0, 0, 0, 0, 0, 1, 0, 0, 0, 0,\n",
       "       0, 0, 0, 1, 0, 0, 0, 0, 0, 0, 1, 0, 0, 1, 0, 0, 1, 0, 0, 0, 1, 0,\n",
       "       1, 1, 0, 0, 0, 1, 0, 1, 0, 1, 1, 0, 0, 0, 1, 1, 0, 0, 0, 0, 0, 0,\n",
       "       0, 0, 1, 1, 0, 0, 0, 0, 1, 0, 0, 0, 1, 0, 0, 0, 0, 0, 0, 0, 0, 0,\n",
       "       0, 0, 0, 0, 0, 0, 0, 0, 0, 0, 0, 0, 0, 0, 0, 0, 0, 0, 0, 0, 0, 0,\n",
       "       0, 0, 0, 0, 0, 0, 0, 0, 1, 0, 0, 1, 0, 1, 0, 0, 0, 0, 0, 0, 0, 0,\n",
       "       0, 1, 1, 0, 0, 1, 0, 0, 0, 0, 0, 0, 0, 0, 0, 0, 0, 0, 0, 0, 0, 0,\n",
       "       0, 0, 0, 0, 0, 0, 1, 0, 1, 1, 0, 1, 0, 0, 0, 0, 1, 0, 0, 0, 0, 0,\n",
       "       0, 0, 1, 0, 0, 1, 0, 0, 0, 0, 0, 0, 0, 1, 0, 0, 0, 0, 1, 0, 0, 0,\n",
       "       0, 1, 0, 0, 0, 1, 0, 0, 0, 0, 0, 0, 1, 1, 0, 0, 0, 0, 1, 0, 1, 0,\n",
       "       0, 0, 0, 0, 0, 1, 0, 0, 1, 0, 0, 0, 0, 0, 0, 0, 0, 1, 0, 0, 0, 0,\n",
       "       0, 0, 0, 1, 0, 1, 1, 0, 0, 0, 1, 0, 0, 0, 0, 0, 0, 0, 0, 0, 0, 0,\n",
       "       0, 1, 0, 0, 0, 0, 0, 0, 0, 1, 1, 1, 0, 1, 0, 0, 0, 0, 0, 0, 0, 0,\n",
       "       0, 1, 0, 0, 0, 0, 0, 0, 0, 0, 0, 0, 1, 0, 0, 1, 0, 1, 0, 0, 1, 1,\n",
       "       0, 0, 0, 0, 1, 0, 0, 0, 0, 0])"
      ]
     },
     "execution_count": 399,
     "metadata": {},
     "output_type": "execute_result"
    }
   ],
   "source": [
    "rf.predict(temp)"
   ]
  },
  {
   "cell_type": "markdown",
   "metadata": {},
   "source": [
    "##### We create a new dataframe for the predicted variables"
   ]
  },
  {
   "cell_type": "code",
   "execution_count": 400,
   "metadata": {},
   "outputs": [],
   "source": [
    "pred_df=pd.DataFrame(rf.predict(temp),columns=['Prediction'])"
   ]
  },
  {
   "cell_type": "code",
   "execution_count": 401,
   "metadata": {
    "scrolled": false
   },
   "outputs": [
    {
     "data": {
      "text/html": [
       "<div>\n",
       "<style scoped>\n",
       "    .dataframe tbody tr th:only-of-type {\n",
       "        vertical-align: middle;\n",
       "    }\n",
       "\n",
       "    .dataframe tbody tr th {\n",
       "        vertical-align: top;\n",
       "    }\n",
       "\n",
       "    .dataframe thead th {\n",
       "        text-align: right;\n",
       "    }\n",
       "</style>\n",
       "<table border=\"1\" class=\"dataframe\">\n",
       "  <thead>\n",
       "    <tr style=\"text-align: right;\">\n",
       "      <th></th>\n",
       "      <th>Prediction</th>\n",
       "    </tr>\n",
       "  </thead>\n",
       "  <tbody>\n",
       "    <tr>\n",
       "      <th>0</th>\n",
       "      <td>0</td>\n",
       "    </tr>\n",
       "    <tr>\n",
       "      <th>1</th>\n",
       "      <td>0</td>\n",
       "    </tr>\n",
       "    <tr>\n",
       "      <th>2</th>\n",
       "      <td>0</td>\n",
       "    </tr>\n",
       "    <tr>\n",
       "      <th>3</th>\n",
       "      <td>0</td>\n",
       "    </tr>\n",
       "    <tr>\n",
       "      <th>4</th>\n",
       "      <td>0</td>\n",
       "    </tr>\n",
       "    <tr>\n",
       "      <th>...</th>\n",
       "      <td>...</td>\n",
       "    </tr>\n",
       "    <tr>\n",
       "      <th>995</th>\n",
       "      <td>0</td>\n",
       "    </tr>\n",
       "    <tr>\n",
       "      <th>996</th>\n",
       "      <td>0</td>\n",
       "    </tr>\n",
       "    <tr>\n",
       "      <th>997</th>\n",
       "      <td>0</td>\n",
       "    </tr>\n",
       "    <tr>\n",
       "      <th>998</th>\n",
       "      <td>0</td>\n",
       "    </tr>\n",
       "    <tr>\n",
       "      <th>999</th>\n",
       "      <td>0</td>\n",
       "    </tr>\n",
       "  </tbody>\n",
       "</table>\n",
       "<p>1000 rows × 1 columns</p>\n",
       "</div>"
      ],
      "text/plain": [
       "     Prediction\n",
       "0             0\n",
       "1             0\n",
       "2             0\n",
       "3             0\n",
       "4             0\n",
       "..          ...\n",
       "995           0\n",
       "996           0\n",
       "997           0\n",
       "998           0\n",
       "999           0\n",
       "\n",
       "[1000 rows x 1 columns]"
      ]
     },
     "execution_count": 401,
     "metadata": {},
     "output_type": "execute_result"
    }
   ],
   "source": [
    "pred_df"
   ]
  },
  {
   "cell_type": "markdown",
   "metadata": {},
   "source": [
    "We add the price column from temp so that we can calculate how much profit or loss would occur by the promotion strategy"
   ]
  },
  {
   "cell_type": "code",
   "execution_count": 402,
   "metadata": {},
   "outputs": [],
   "source": [
    "pred_df['Price']=temp.InvoiceAmount.values"
   ]
  },
  {
   "cell_type": "code",
   "execution_count": 403,
   "metadata": {
    "scrolled": false
   },
   "outputs": [
    {
     "data": {
      "text/html": [
       "<div>\n",
       "<style scoped>\n",
       "    .dataframe tbody tr th:only-of-type {\n",
       "        vertical-align: middle;\n",
       "    }\n",
       "\n",
       "    .dataframe tbody tr th {\n",
       "        vertical-align: top;\n",
       "    }\n",
       "\n",
       "    .dataframe thead th {\n",
       "        text-align: right;\n",
       "    }\n",
       "</style>\n",
       "<table border=\"1\" class=\"dataframe\">\n",
       "  <thead>\n",
       "    <tr style=\"text-align: right;\">\n",
       "      <th></th>\n",
       "      <th>Prediction</th>\n",
       "      <th>Price</th>\n",
       "    </tr>\n",
       "  </thead>\n",
       "  <tbody>\n",
       "    <tr>\n",
       "      <th>0</th>\n",
       "      <td>0</td>\n",
       "      <td>9.52</td>\n",
       "    </tr>\n",
       "    <tr>\n",
       "      <th>1</th>\n",
       "      <td>0</td>\n",
       "      <td>92.35</td>\n",
       "    </tr>\n",
       "    <tr>\n",
       "      <th>2</th>\n",
       "      <td>0</td>\n",
       "      <td>65.81</td>\n",
       "    </tr>\n",
       "    <tr>\n",
       "      <th>3</th>\n",
       "      <td>0</td>\n",
       "      <td>73.84</td>\n",
       "    </tr>\n",
       "    <tr>\n",
       "      <th>4</th>\n",
       "      <td>0</td>\n",
       "      <td>42.62</td>\n",
       "    </tr>\n",
       "  </tbody>\n",
       "</table>\n",
       "</div>"
      ],
      "text/plain": [
       "   Prediction  Price\n",
       "0           0   9.52\n",
       "1           0  92.35\n",
       "2           0  65.81\n",
       "3           0  73.84\n",
       "4           0  42.62"
      ]
     },
     "execution_count": 403,
     "metadata": {},
     "output_type": "execute_result"
    }
   ],
   "source": [
    "pred_df.head()"
   ]
  },
  {
   "cell_type": "markdown",
   "metadata": {},
   "source": [
    "### If promotion is not applied"
   ]
  },
  {
   "cell_type": "markdown",
   "metadata": {},
   "source": [
    "###### If promo is not applied,on each delay will cause a spending of additional 10$. So here we calculate net profit for all the samples"
   ]
  },
  {
   "cell_type": "code",
   "execution_count": 404,
   "metadata": {},
   "outputs": [],
   "source": [
    "# creating  a loop that checks if a delay would occur or not, and spend 10$ for expenses if delay occurs\n",
    "total_profit=0\n",
    "for i in pred_df.values:\n",
    "    if i[0]==0:\n",
    "        total_profit=total_profit+float(i[1])  #adding the price to the total_prof because no delay\n",
    "    else:\n",
    "        total_profit=total_profit+float(i[1])-10 #cutting 10$ from the price because of further expenses given"
   ]
  },
  {
   "cell_type": "code",
   "execution_count": 405,
   "metadata": {},
   "outputs": [
    {
     "data": {
      "text/plain": [
       "57630.87999999999"
      ]
     },
     "execution_count": 405,
     "metadata": {},
     "output_type": "execute_result"
    }
   ],
   "source": [
    "total_profit"
   ]
  },
  {
   "cell_type": "markdown",
   "metadata": {},
   "source": [
    "### If promo is applied"
   ]
  },
  {
   "cell_type": "markdown",
   "metadata": {},
   "source": [
    "##### If promo is applied, every potential delay would  be compensated by providing 5$ gift cards to prevent delay"
   ]
  },
  {
   "cell_type": "code",
   "execution_count": 406,
   "metadata": {},
   "outputs": [],
   "source": [
    "# creating  a loop that checks if a delay would occur or not, and apply the promo if delay is likely\n",
    "total_profit2=0\n",
    "for i in pred_df.values:\n",
    "    if i[0]==0:\n",
    "        total_profit2=total_profit2+float(i[1]) #adding the price to the total_prof because no delay\n",
    "    else:\n",
    "        total_profit2=total_profit2+float(i[1])-5 #here we apply promo strategy. this would cost 5$ so we cut it from total"
   ]
  },
  {
   "cell_type": "code",
   "execution_count": 407,
   "metadata": {},
   "outputs": [
    {
     "data": {
      "text/plain": [
       "58745.88"
      ]
     },
     "execution_count": 407,
     "metadata": {},
     "output_type": "execute_result"
    }
   ],
   "source": [
    "total_profit2"
   ]
  },
  {
   "cell_type": "code",
   "execution_count": 408,
   "metadata": {},
   "outputs": [],
   "source": [
    "netprofit_by_promo=total_profit2-total_profit"
   ]
  },
  {
   "cell_type": "code",
   "execution_count": 409,
   "metadata": {},
   "outputs": [
    {
     "name": "stdout",
     "output_type": "stream",
     "text": [
      "1115.0000000000073\n"
     ]
    }
   ],
   "source": [
    "print(netprofit_by_promo)"
   ]
  },
  {
   "cell_type": "code",
   "execution_count": 410,
   "metadata": {},
   "outputs": [
    {
     "name": "stdout",
     "output_type": "stream",
     "text": [
      "Net Profit generated is 1115.0000000000073$\n"
     ]
    }
   ],
   "source": [
    "print(f\"Net Profit generated is {netprofit_by_promo}$\")"
   ]
  },
  {
   "cell_type": "markdown",
   "metadata": {},
   "source": [
    "We were able to gain profits by applying this promo strategy and hence"
   ]
  }
 ],
 "metadata": {
  "colab": {
   "name": "Assignment4_Summer2021-2.ipynb",
   "provenance": []
  },
  "kernelspec": {
   "display_name": "Python 3",
   "language": "python",
   "name": "python3"
  },
  "language_info": {
   "codemirror_mode": {
    "name": "ipython",
    "version": 3
   },
   "file_extension": ".py",
   "mimetype": "text/x-python",
   "name": "python",
   "nbconvert_exporter": "python",
   "pygments_lexer": "ipython3",
   "version": "3.8.3"
  }
 },
 "nbformat": 4,
 "nbformat_minor": 1
}
