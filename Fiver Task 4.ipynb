{
 "cells": [
  {
   "cell_type": "markdown",
   "metadata": {},
   "source": [
    "# Importing Libraries"
   ]
  },
  {
   "cell_type": "code",
   "execution_count": 75,
   "metadata": {},
   "outputs": [
    {
     "name": "stderr",
     "output_type": "stream",
     "text": [
      "C:\\ProgramData\\Anaconda3\\lib\\site-packages\\tensorflow\\python\\client\\session.py:1761: UserWarning: An interactive session is already active. This can cause out-of-memory errors in some cases. You must explicitly call `InteractiveSession.close()` to release resources held by the other session(s).\n",
      "  warnings.warn('An interactive session is already active. This can '\n"
     ]
    }
   ],
   "source": [
    "from tensorflow.compat.v1 import ConfigProto\n",
    "from tensorflow.compat.v1 import InteractiveSession\n",
    "\n",
    "config = ConfigProto()\n",
    "config.gpu_options.per_process_gpu_memory_fraction = 0.5\n",
    "config.gpu_options.allow_growth = True\n",
    "session = InteractiveSession(config=config)"
   ]
  },
  {
   "cell_type": "code",
   "execution_count": 76,
   "metadata": {},
   "outputs": [],
   "source": [
    "import tensorflow as tf\n",
    "import pandas as pd\n",
    "from tensorflow.keras import datasets, layers, models\n",
    "import matplotlib.pyplot as plt\n",
    "import numpy as np\n",
    "import pickle\n",
    "from keras.models import Sequential\n",
    "from keras.layers import Conv2D, MaxPooling2D\n",
    "from keras.layers import InputLayer, MaxPooling2D, Flatten, Dense, Conv2D, Dropout,Activation\n",
    "from keras.losses import SparseCategoricalCrossentropy, CategoricalCrossentropy\n",
    "import keras\n",
    "from tensorflow.keras.models import Sequential, Model\n",
    "from tensorflow.keras.preprocessing import image\n",
    "from tensorflow.keras.applications.resnet50 import preprocess_input, decode_predictions, ResNet50\n",
    "from tensorflow.keras.optimizers import Adam\n",
    "from tensorflow.keras.constraints import max_norm\n",
    "from tensorflow.keras import initializers\n",
    "from tensorflow.keras.regularizers import l2"
   ]
  },
  {
   "cell_type": "markdown",
   "metadata": {},
   "source": [
    "#  Loading files"
   ]
  },
  {
   "cell_type": "code",
   "execution_count": 77,
   "metadata": {},
   "outputs": [],
   "source": [
    "def unpickle(filename):\n",
    "    with open(filename, \"rb\") as f:\n",
    "        data = pickle.load(f)\n",
    "    return data\n",
    "\n",
    "# this saves \"thing\" to a *.pkl file\n",
    "def to_pickle(thing, filename):\n",
    "    with open(filename, \"wb\") as f:\n",
    "        pickle.dump(thing, f)\n",
    "        f.close()"
   ]
  },
  {
   "cell_type": "code",
   "execution_count": 78,
   "metadata": {},
   "outputs": [
    {
     "name": "stdout",
     "output_type": "stream",
     "text": [
      "(10000, 12288)\n",
      "(10000,)\n"
     ]
    }
   ],
   "source": [
    "train = unpickle(\"train.pkl\")\n",
    "print(train[\"data\"].shape)\n",
    "print(train[\"label\"].shape)"
   ]
  },
  {
   "cell_type": "code",
   "execution_count": 79,
   "metadata": {},
   "outputs": [],
   "source": [
    "label2name = {1: 'dog',\n",
    "              2: 'rabbit',\n",
    "              3: 'deer',\n",
    "              4: 'elephant',\n",
    "              5: 'horse',\n",
    "              6: 'squirrel',\n",
    "              7: 'tiger',\n",
    "              8: 'wolf',\n",
    "              9: 'chimpanzee',\n",
    "              10: 'panda'}"
   ]
  },
  {
   "cell_type": "code",
   "execution_count": 80,
   "metadata": {},
   "outputs": [],
   "source": [
    "def show_image(idx, train, label2name=label2name):\n",
    "    img = train[\"data\"][idx]\n",
    "    img = np.dstack((img[:4096], img[4096:8192], img[8192:])).reshape(64,64,3)\n",
    "    plt.imshow(img)\n",
    "    plt.title(label2name[train[\"label\"][idx]])\n",
    "    plt.show()"
   ]
  },
  {
   "cell_type": "code",
   "execution_count": 81,
   "metadata": {},
   "outputs": [
    {
     "data": {
      "image/png": "[encoded data removed]",
      "text/plain": [
       "<Figure size 432x288 with 1 Axes>"
      ]
     },
     "metadata": {
      "needs_background": "light"
     },
     "output_type": "display_data"
    }
   ],
   "source": [
    "show_image(10, train)"
   ]
  },
  {
   "cell_type": "markdown",
   "metadata": {},
   "source": [
    "# Preprocessing"
   ]
  },
  {
   "cell_type": "code",
   "execution_count": 82,
   "metadata": {},
   "outputs": [
    {
     "name": "stdout",
     "output_type": "stream",
     "text": [
      "<class 'numpy.ndarray'>\n",
      "shape of one data point\n",
      "(12288,)\n",
      "12288\n",
      "(10000, 12288)\n",
      "one array value\n",
      "99\n"
     ]
    }
   ],
   "source": [
    "new_thing = type(train[\"data\"])\n",
    "print(new_thing)\n",
    "print('shape of one data point')\n",
    "print(train[\"data\"][0].shape)\n",
    "print(len(train[\"data\"][0]))\n",
    "print(train[\"data\"].shape)\n",
    "#64 x 64 x 3 size array is same shape as 3 color channels from 0-4096\n",
    "\n",
    "print('one array value')\n",
    "print(train[\"data\"][0][400])"
   ]
  },
  {
   "cell_type": "code",
   "execution_count": 83,
   "metadata": {},
   "outputs": [],
   "source": [
    "#creates a (64, 64, 3) inout array for CNN\n",
    "def input_cell(idx, train, label2name=label2name):\n",
    "    img = train[\"data\"][idx]\n",
    "    img = np.dstack((img[:4096], img[4096:8192], img[8192:])).reshape(64,64,3)\n",
    "    return img"
   ]
  },
  {
   "cell_type": "code",
   "execution_count": 84,
   "metadata": {},
   "outputs": [
    {
     "name": "stdout",
     "output_type": "stream",
     "text": [
      "(64, 64, 3)\n",
      "label value at index[0]\n",
      "4\n",
      "<class 'numpy.ndarray'>\n"
     ]
    }
   ],
   "source": [
    "new_thing_2 = input_cell(5, train)\n",
    "print(new_thing_2.shape)\n",
    "\n",
    "print('label value at index[0]')\n",
    "print(train[\"label\"][5])\n",
    "\n",
    "\n",
    "\n",
    "y_hot = tf.keras.utils.to_categorical(train[\"label\"])\n",
    "\n",
    "print(type(y_hot))"
   ]
  },
  {
   "cell_type": "code",
   "execution_count": 85,
   "metadata": {},
   "outputs": [
    {
     "name": "stdout",
     "output_type": "stream",
     "text": [
      "10000\n",
      "(10000, 64, 64, 3)\n",
      "(64, 64, 3)\n"
     ]
    }
   ],
   "source": [
    "reshape_list = []\n",
    "#DO IMAGE AUGMENTATION BEFORE THIS LINE!!!!\n",
    "train_len = len(train[\"data\"])\n",
    "#converting train data to array of (10000, 64, 64, 3)\n",
    "print(train_len)\n",
    "for i in range(train_len):\n",
    "  tmp = input_cell(i, train)\n",
    "  tmp.astype('float32')\n",
    "  reshape_list.append(tmp)\n",
    "\n",
    "reshape_array = np.array(reshape_list)\n",
    "\n",
    "print(reshape_array.shape)\n",
    "print(reshape_array[0].shape)"
   ]
  },
  {
   "cell_type": "code",
   "execution_count": 86,
   "metadata": {},
   "outputs": [],
   "source": [
    "reshape_train_normal = (reshape_array / 255)"
   ]
  },
  {
   "cell_type": "code",
   "execution_count": 87,
   "metadata": {},
   "outputs": [],
   "source": [
    "one_array = np.array(train[\"data\"])\n",
    "one_array_normal = one_array / 255"
   ]
  },
  {
   "cell_type": "code",
   "execution_count": 88,
   "metadata": {},
   "outputs": [
    {
     "name": "stdout",
     "output_type": "stream",
     "text": [
      "(10000, 10)\n",
      "[[0. 0. 0. ... 0. 0. 1.]\n",
      " [0. 0. 1. ... 0. 0. 0.]\n",
      " [0. 0. 0. ... 0. 0. 0.]\n",
      " ...\n",
      " [0. 0. 0. ... 0. 0. 1.]\n",
      " [0. 0. 0. ... 0. 0. 0.]\n",
      " [0. 0. 0. ... 1. 0. 0.]]\n"
     ]
    }
   ],
   "source": [
    "\n",
    "y_train = np.asarray(train[\"label\"])\n",
    "values = np.unique(y_train)\n",
    "number_labels = len(values)\n",
    "#print(values)\n",
    "#print(number_labels)\n",
    "\n",
    "regular_count_y = []\n",
    "\n",
    "for i in range(len(y_train)):\n",
    "  regular_count_y.append(y_train[i]-1)\n",
    "\n",
    "regular_count_y_array = np.asarray(regular_count_y)\n",
    "\n",
    "\n",
    "\n",
    "y_train_hot = tf.keras.utils.to_categorical(regular_count_y_array, num_classes=10)\n",
    "print(y_train_hot.shape)\n",
    "print(y_train_hot)"
   ]
  },
  {
   "cell_type": "code",
   "execution_count": 89,
   "metadata": {},
   "outputs": [
    {
     "data": {
      "text/plain": [
       "(10000, 64, 64, 3)"
      ]
     },
     "execution_count": 89,
     "metadata": {},
     "output_type": "execute_result"
    }
   ],
   "source": [
    "reshape_train_normal.shape"
   ]
  },
  {
   "cell_type": "markdown",
   "metadata": {},
   "source": [
    "# Attempt 1"
   ]
  },
  {
   "cell_type": "code",
   "execution_count": 90,
   "metadata": {},
   "outputs": [],
   "source": [
    "from keras.optimizers import Adagrad\n",
    "\n",
    "learning_rate = 0.01\n",
    "epochs = 4000\n",
    "#opt = tf.keras.optimizers.SGD(learning_rate=0.0005, momentum=0.9)\n",
    "opt = Adagrad()\n",
    "weight_ceiling = 1"
   ]
  },
  {
   "cell_type": "code",
   "execution_count": 91,
   "metadata": {},
   "outputs": [],
   "source": [
    "cnn = models.Sequential([\n",
    "    layers.Conv2D(16, 7, activation=\"relu\",input_shape=[64, 64, 3],kernel_initializer='he_normal', kernel_constraint=max_norm(weight_ceiling), bias_constraint=max_norm(weight_ceiling)),\n",
    "    layers.MaxPooling2D(2),\n",
    "    layers.Conv2D(32, 3, activation=\"relu\",kernel_initializer='he_normal', kernel_constraint=max_norm(weight_ceiling), bias_constraint=max_norm(weight_ceiling)),\n",
    "    layers.MaxPooling2D(2),\n",
    "    layers.Dropout(0.2),\n",
    "    layers.Flatten(),\n",
    "    layers.Dense(16, activation='relu'),\n",
    "    layers.Dropout(0.2),\n",
    "    layers.Dense(10, activation='softmax')\n",
    "])"
   ]
  },
  {
   "cell_type": "code",
   "execution_count": 92,
   "metadata": {},
   "outputs": [],
   "source": [
    "cnn.compile(optimizer='adam',\n",
    "              loss='categorical_crossentropy',\n",
    "              metrics=['accuracy'])"
   ]
  },
  {
   "cell_type": "code",
   "execution_count": 93,
   "metadata": {
    "scrolled": false
   },
   "outputs": [
    {
     "name": "stdout",
     "output_type": "stream",
     "text": [
      "Epoch 1/100\n",
      "235/235 [==============================] - 13s 51ms/step - loss: 2.3144 - accuracy: 0.1149 - val_loss: 2.2668 - val_accuracy: 0.1276\n",
      "Epoch 2/100\n",
      "235/235 [==============================] - 12s 51ms/step - loss: 2.2666 - accuracy: 0.1347 - val_loss: 2.2510 - val_accuracy: 0.1540\n",
      "Epoch 3/100\n",
      "235/235 [==============================] - 12s 52ms/step - loss: 2.2507 - accuracy: 0.1378 - val_loss: 2.2149 - val_accuracy: 0.1404\n",
      "Epoch 4/100\n",
      "235/235 [==============================] - 13s 53ms/step - loss: 2.1895 - accuracy: 0.1720 - val_loss: 2.0451 - val_accuracy: 0.2908\n",
      "Epoch 5/100\n",
      "235/235 [==============================] - 13s 54ms/step - loss: 2.0922 - accuracy: 0.2499 - val_loss: 2.0044 - val_accuracy: 0.3028\n",
      "Epoch 6/100\n",
      "235/235 [==============================] - 13s 56ms/step - loss: 2.0487 - accuracy: 0.2586 - val_loss: 1.9479 - val_accuracy: 0.3160\n",
      "Epoch 7/100\n",
      "235/235 [==============================] - 13s 54ms/step - loss: 2.0145 - accuracy: 0.2595 - val_loss: 1.9395 - val_accuracy: 0.3356\n",
      "Epoch 8/100\n",
      "235/235 [==============================] - 13s 55ms/step - loss: 2.0144 - accuracy: 0.2694 - val_loss: 1.9070 - val_accuracy: 0.3396\n",
      "Epoch 9/100\n",
      "235/235 [==============================] - 13s 55ms/step - loss: 1.9130 - accuracy: 0.2991 - val_loss: 1.8099 - val_accuracy: 0.3568\n",
      "Epoch 10/100\n",
      "235/235 [==============================] - 13s 55ms/step - loss: 1.8227 - accuracy: 0.3382 - val_loss: 1.7752 - val_accuracy: 0.3864\n",
      "Epoch 11/100\n",
      "235/235 [==============================] - 13s 55ms/step - loss: 1.7610 - accuracy: 0.3469 - val_loss: 1.7573 - val_accuracy: 0.3884\n",
      "Epoch 12/100\n",
      "235/235 [==============================] - 13s 55ms/step - loss: 1.7309 - accuracy: 0.3545 - val_loss: 1.7231 - val_accuracy: 0.4012\n",
      "Epoch 13/100\n",
      "235/235 [==============================] - 13s 55ms/step - loss: 1.7012 - accuracy: 0.3683 - val_loss: 1.7553 - val_accuracy: 0.3908\n",
      "Epoch 14/100\n",
      "235/235 [==============================] - 13s 54ms/step - loss: 1.6851 - accuracy: 0.3681 - val_loss: 1.7330 - val_accuracy: 0.4048\n",
      "Epoch 15/100\n",
      "235/235 [==============================] - 13s 55ms/step - loss: 1.6566 - accuracy: 0.3801 - val_loss: 1.7258 - val_accuracy: 0.4088\n",
      "Epoch 16/100\n",
      "235/235 [==============================] - 13s 55ms/step - loss: 1.6335 - accuracy: 0.3824 - val_loss: 1.7290 - val_accuracy: 0.4152\n",
      "Epoch 17/100\n",
      "235/235 [==============================] - 13s 55ms/step - loss: 1.6159 - accuracy: 0.3793 - val_loss: 1.7381 - val_accuracy: 0.4288\n",
      "Epoch 18/100\n",
      "235/235 [==============================] - 13s 56ms/step - loss: 1.5761 - accuracy: 0.3967 - val_loss: 1.7272 - val_accuracy: 0.4180\n",
      "Epoch 19/100\n",
      "235/235 [==============================] - 13s 55ms/step - loss: 1.5378 - accuracy: 0.4123 - val_loss: 1.7109 - val_accuracy: 0.4240\n",
      "Epoch 20/100\n",
      "235/235 [==============================] - 13s 56ms/step - loss: 1.4907 - accuracy: 0.4251 - val_loss: 1.7330 - val_accuracy: 0.4124\n",
      "Epoch 21/100\n",
      "235/235 [==============================] - 13s 56ms/step - loss: 1.4754 - accuracy: 0.4362 - val_loss: 1.7120 - val_accuracy: 0.4424\n",
      "Epoch 22/100\n",
      "235/235 [==============================] - 14s 58ms/step - loss: 1.4524 - accuracy: 0.4494 - val_loss: 1.7226 - val_accuracy: 0.4280\n",
      "Epoch 23/100\n",
      "235/235 [==============================] - 14s 59ms/step - loss: 1.4141 - accuracy: 0.4555 - val_loss: 1.7501 - val_accuracy: 0.4236\n",
      "Epoch 24/100\n",
      "235/235 [==============================] - 14s 58ms/step - loss: 1.4134 - accuracy: 0.4529 - val_loss: 1.8209 - val_accuracy: 0.4248\n",
      "Epoch 25/100\n",
      "235/235 [==============================] - 13s 56ms/step - loss: 1.4316 - accuracy: 0.4563 - val_loss: 1.7570 - val_accuracy: 0.4204\n",
      "Epoch 26/100\n",
      "235/235 [==============================] - 13s 55ms/step - loss: 1.3710 - accuracy: 0.4719 - val_loss: 1.7401 - val_accuracy: 0.4356\n",
      "Epoch 27/100\n",
      "235/235 [==============================] - 14s 58ms/step - loss: 1.3707 - accuracy: 0.4662 - val_loss: 1.7353 - val_accuracy: 0.4324\n",
      "Epoch 28/100\n",
      "235/235 [==============================] - 14s 59ms/step - loss: 1.3467 - accuracy: 0.4818 - val_loss: 1.7866 - val_accuracy: 0.4084\n",
      "Epoch 29/100\n",
      "235/235 [==============================] - 13s 57ms/step - loss: 1.3243 - accuracy: 0.4822 - val_loss: 1.7499 - val_accuracy: 0.4284\n",
      "Epoch 30/100\n",
      "235/235 [==============================] - 13s 56ms/step - loss: 1.3047 - accuracy: 0.4956 - val_loss: 1.7958 - val_accuracy: 0.4484\n",
      "Epoch 31/100\n",
      "235/235 [==============================] - 13s 57ms/step - loss: 1.2893 - accuracy: 0.5043 - val_loss: 1.8384 - val_accuracy: 0.4308\n",
      "Epoch 32/100\n",
      "235/235 [==============================] - 13s 57ms/step - loss: 1.2643 - accuracy: 0.5102 - val_loss: 1.8524 - val_accuracy: 0.4356\n",
      "Epoch 33/100\n",
      "235/235 [==============================] - 13s 56ms/step - loss: 1.2534 - accuracy: 0.5166 - val_loss: 1.8382 - val_accuracy: 0.4348\n",
      "Epoch 34/100\n",
      "235/235 [==============================] - 13s 56ms/step - loss: 1.2320 - accuracy: 0.5204 - val_loss: 1.8279 - val_accuracy: 0.4336\n",
      "Epoch 35/100\n",
      "235/235 [==============================] - 13s 55ms/step - loss: 1.2268 - accuracy: 0.5310 - val_loss: 1.8765 - val_accuracy: 0.4448\n",
      "Epoch 36/100\n",
      "235/235 [==============================] - 13s 55ms/step - loss: 1.2379 - accuracy: 0.5227 - val_loss: 1.8916 - val_accuracy: 0.4424\n",
      "Epoch 37/100\n",
      "235/235 [==============================] - 13s 56ms/step - loss: 1.2101 - accuracy: 0.5359 - val_loss: 1.8553 - val_accuracy: 0.4248\n",
      "Epoch 38/100\n",
      "235/235 [==============================] - 13s 56ms/step - loss: 1.2311 - accuracy: 0.5329 - val_loss: 1.8706 - val_accuracy: 0.4340\n",
      "Epoch 39/100\n",
      "235/235 [==============================] - 13s 56ms/step - loss: 1.1969 - accuracy: 0.5422 - val_loss: 1.8751 - val_accuracy: 0.4300\n",
      "Epoch 40/100\n",
      "235/235 [==============================] - 13s 56ms/step - loss: 1.1866 - accuracy: 0.5469 - val_loss: 1.8691 - val_accuracy: 0.4308\n",
      "Epoch 41/100\n",
      "235/235 [==============================] - 13s 55ms/step - loss: 1.1903 - accuracy: 0.5444 - val_loss: 1.9500 - val_accuracy: 0.4404\n",
      "Epoch 42/100\n",
      "235/235 [==============================] - 13s 55ms/step - loss: 1.1625 - accuracy: 0.5574 - val_loss: 1.9218 - val_accuracy: 0.4256\n",
      "Epoch 43/100\n",
      "235/235 [==============================] - 13s 55ms/step - loss: 1.1344 - accuracy: 0.5680 - val_loss: 1.9118 - val_accuracy: 0.4228\n",
      "Epoch 44/100\n",
      "235/235 [==============================] - 13s 55ms/step - loss: 1.1676 - accuracy: 0.5453 - val_loss: 1.9889 - val_accuracy: 0.4284\n",
      "Epoch 45/100\n",
      "235/235 [==============================] - 13s 55ms/step - loss: 1.1292 - accuracy: 0.5693 - val_loss: 1.8944 - val_accuracy: 0.4420\n",
      "Epoch 46/100\n",
      "235/235 [==============================] - 13s 55ms/step - loss: 1.0742 - accuracy: 0.5844 - val_loss: 2.0195 - val_accuracy: 0.4444\n",
      "Epoch 47/100\n",
      "235/235 [==============================] - 13s 55ms/step - loss: 1.0915 - accuracy: 0.5863 - val_loss: 2.0516 - val_accuracy: 0.4312\n",
      "Epoch 48/100\n",
      "235/235 [==============================] - 13s 55ms/step - loss: 1.0522 - accuracy: 0.5954 - val_loss: 2.0047 - val_accuracy: 0.4376\n",
      "Epoch 49/100\n",
      "235/235 [==============================] - 13s 55ms/step - loss: 1.0568 - accuracy: 0.5973 - val_loss: 2.0776 - val_accuracy: 0.4472\n",
      "Epoch 50/100\n",
      "235/235 [==============================] - 13s 55ms/step - loss: 1.0152 - accuracy: 0.6054 - val_loss: 2.0352 - val_accuracy: 0.4380\n",
      "Epoch 51/100\n",
      "235/235 [==============================] - 13s 55ms/step - loss: 1.0189 - accuracy: 0.6116 - val_loss: 2.0048 - val_accuracy: 0.4376\n",
      "Epoch 52/100\n",
      "235/235 [==============================] - 13s 55ms/step - loss: 1.0043 - accuracy: 0.6265 - val_loss: 2.0507 - val_accuracy: 0.4420\n",
      "Epoch 53/100\n",
      "235/235 [==============================] - 13s 55ms/step - loss: 1.0190 - accuracy: 0.6117 - val_loss: 2.0734 - val_accuracy: 0.4488\n",
      "Epoch 54/100\n",
      "235/235 [==============================] - 13s 56ms/step - loss: 0.9839 - accuracy: 0.6325 - val_loss: 2.1671 - val_accuracy: 0.4408\n",
      "Epoch 55/100\n",
      "235/235 [==============================] - 13s 56ms/step - loss: 0.9993 - accuracy: 0.6368 - val_loss: 2.0377 - val_accuracy: 0.4356\n",
      "Epoch 56/100\n",
      "235/235 [==============================] - 13s 57ms/step - loss: 0.9545 - accuracy: 0.6441 - val_loss: 2.1142 - val_accuracy: 0.4392\n",
      "Epoch 57/100\n"
     ]
    },
    {
     "name": "stdout",
     "output_type": "stream",
     "text": [
      "235/235 [==============================] - 13s 56ms/step - loss: 0.9519 - accuracy: 0.6453 - val_loss: 2.1060 - val_accuracy: 0.4312\n",
      "Epoch 58/100\n",
      "235/235 [==============================] - 13s 55ms/step - loss: 0.9755 - accuracy: 0.6367 - val_loss: 2.0979 - val_accuracy: 0.4564\n",
      "Epoch 59/100\n",
      "235/235 [==============================] - 13s 55ms/step - loss: 0.9717 - accuracy: 0.6454 - val_loss: 2.0584 - val_accuracy: 0.4544\n",
      "Epoch 60/100\n",
      "235/235 [==============================] - 13s 54ms/step - loss: 0.9274 - accuracy: 0.6615 - val_loss: 2.1277 - val_accuracy: 0.4444\n",
      "Epoch 61/100\n",
      "235/235 [==============================] - 13s 56ms/step - loss: 0.9433 - accuracy: 0.6552 - val_loss: 2.1188 - val_accuracy: 0.4436\n",
      "Epoch 62/100\n",
      "235/235 [==============================] - 13s 56ms/step - loss: 0.9242 - accuracy: 0.6675 - val_loss: 2.1708 - val_accuracy: 0.4484\n",
      "Epoch 63/100\n",
      "235/235 [==============================] - 14s 58ms/step - loss: 0.9242 - accuracy: 0.6550 - val_loss: 2.1489 - val_accuracy: 0.4380\n",
      "Epoch 64/100\n",
      "235/235 [==============================] - 14s 60ms/step - loss: 0.9138 - accuracy: 0.6623 - val_loss: 2.1848 - val_accuracy: 0.4356\n",
      "Epoch 65/100\n",
      "235/235 [==============================] - 13s 54ms/step - loss: 0.9314 - accuracy: 0.6561 - val_loss: 2.2270 - val_accuracy: 0.4360\n",
      "Epoch 66/100\n",
      "235/235 [==============================] - 12s 53ms/step - loss: 0.9268 - accuracy: 0.6602 - val_loss: 2.1844 - val_accuracy: 0.4396\n",
      "Epoch 67/100\n",
      "235/235 [==============================] - 13s 56ms/step - loss: 0.8800 - accuracy: 0.6747 - val_loss: 2.2439 - val_accuracy: 0.4396\n",
      "Epoch 68/100\n",
      "235/235 [==============================] - 14s 59ms/step - loss: 0.8931 - accuracy: 0.6767 - val_loss: 2.3255 - val_accuracy: 0.4480\n",
      "Epoch 69/100\n",
      "235/235 [==============================] - 13s 56ms/step - loss: 0.8820 - accuracy: 0.6803 - val_loss: 2.2248 - val_accuracy: 0.4412\n",
      "Epoch 70/100\n",
      "235/235 [==============================] - 14s 61ms/step - loss: 0.8855 - accuracy: 0.6732 - val_loss: 2.2212 - val_accuracy: 0.4360\n",
      "Epoch 71/100\n",
      "235/235 [==============================] - 14s 58ms/step - loss: 0.9127 - accuracy: 0.6640 - val_loss: 2.2002 - val_accuracy: 0.4400\n",
      "Epoch 72/100\n",
      "235/235 [==============================] - 14s 58ms/step - loss: 0.8924 - accuracy: 0.6748 - val_loss: 2.2459 - val_accuracy: 0.4324\n",
      "Epoch 73/100\n",
      "235/235 [==============================] - 13s 54ms/step - loss: 0.8595 - accuracy: 0.6796 - val_loss: 2.3078 - val_accuracy: 0.4332\n",
      "Epoch 74/100\n",
      "235/235 [==============================] - 12s 53ms/step - loss: 0.9096 - accuracy: 0.6681 - val_loss: 2.2239 - val_accuracy: 0.4352\n",
      "Epoch 75/100\n",
      "235/235 [==============================] - 12s 53ms/step - loss: 0.8682 - accuracy: 0.6783 - val_loss: 2.2588 - val_accuracy: 0.4256\n",
      "Epoch 76/100\n",
      "235/235 [==============================] - 13s 56ms/step - loss: 0.8777 - accuracy: 0.6881 - val_loss: 2.2303 - val_accuracy: 0.4380\n",
      "Epoch 77/100\n",
      "235/235 [==============================] - 13s 54ms/step - loss: 0.8666 - accuracy: 0.6883 - val_loss: 2.2134 - val_accuracy: 0.4244\n",
      "Epoch 78/100\n",
      "235/235 [==============================] - 14s 59ms/step - loss: 0.8712 - accuracy: 0.6929 - val_loss: 2.2928 - val_accuracy: 0.4368\n",
      "Epoch 79/100\n",
      "235/235 [==============================] - 13s 56ms/step - loss: 0.8772 - accuracy: 0.6805 - val_loss: 2.2355 - val_accuracy: 0.4280\n",
      "Epoch 80/100\n",
      "235/235 [==============================] - 13s 57ms/step - loss: 0.8603 - accuracy: 0.6816 - val_loss: 2.3318 - val_accuracy: 0.4440\n",
      "Epoch 81/100\n",
      "235/235 [==============================] - 14s 59ms/step - loss: 0.8518 - accuracy: 0.6839 - val_loss: 2.3487 - val_accuracy: 0.4416\n",
      "Epoch 82/100\n",
      "235/235 [==============================] - 13s 54ms/step - loss: 0.8619 - accuracy: 0.6822 - val_loss: 2.4517 - val_accuracy: 0.4444\n",
      "Epoch 83/100\n",
      "235/235 [==============================] - 12s 51ms/step - loss: 0.8545 - accuracy: 0.6868 - val_loss: 2.4286 - val_accuracy: 0.4492\n",
      "Epoch 84/100\n",
      "235/235 [==============================] - 12s 53ms/step - loss: 0.8519 - accuracy: 0.6931 - val_loss: 2.3730 - val_accuracy: 0.4332\n",
      "Epoch 85/100\n",
      "235/235 [==============================] - 13s 56ms/step - loss: 0.8717 - accuracy: 0.6869 - val_loss: 2.3369 - val_accuracy: 0.4456\n",
      "Epoch 86/100\n",
      "235/235 [==============================] - 14s 60ms/step - loss: 0.8796 - accuracy: 0.6843 - val_loss: 2.3725 - val_accuracy: 0.4384\n",
      "Epoch 87/100\n",
      "235/235 [==============================] - 13s 56ms/step - loss: 0.8620 - accuracy: 0.6839 - val_loss: 2.4371 - val_accuracy: 0.4416\n",
      "Epoch 88/100\n",
      "235/235 [==============================] - 13s 53ms/step - loss: 0.8685 - accuracy: 0.6882 - val_loss: 2.3870 - val_accuracy: 0.4432\n",
      "Epoch 89/100\n",
      "235/235 [==============================] - 12s 52ms/step - loss: 0.8491 - accuracy: 0.6882 - val_loss: 2.3918 - val_accuracy: 0.4308\n",
      "Epoch 90/100\n",
      "235/235 [==============================] - 12s 50ms/step - loss: 0.8027 - accuracy: 0.7095 - val_loss: 2.3442 - val_accuracy: 0.4248\n",
      "Epoch 91/100\n",
      "235/235 [==============================] - 12s 50ms/step - loss: 0.8248 - accuracy: 0.7023 - val_loss: 2.4475 - val_accuracy: 0.4476\n",
      "Epoch 92/100\n",
      "235/235 [==============================] - 12s 50ms/step - loss: 0.8395 - accuracy: 0.6910 - val_loss: 2.4123 - val_accuracy: 0.4312\n",
      "Epoch 93/100\n",
      "235/235 [==============================] - 12s 50ms/step - loss: 0.8421 - accuracy: 0.6894 - val_loss: 2.4940 - val_accuracy: 0.4360\n",
      "Epoch 94/100\n",
      "235/235 [==============================] - 12s 50ms/step - loss: 0.8462 - accuracy: 0.6947 - val_loss: 2.4757 - val_accuracy: 0.4432\n",
      "Epoch 95/100\n",
      "235/235 [==============================] - 12s 50ms/step - loss: 0.8302 - accuracy: 0.6971 - val_loss: 2.3654 - val_accuracy: 0.4400\n",
      "Epoch 96/100\n",
      "235/235 [==============================] - 12s 50ms/step - loss: 0.8327 - accuracy: 0.7001 - val_loss: 2.4378 - val_accuracy: 0.4412\n",
      "Epoch 97/100\n",
      "235/235 [==============================] - 12s 50ms/step - loss: 0.8150 - accuracy: 0.6976 - val_loss: 2.4948 - val_accuracy: 0.4348\n",
      "Epoch 98/100\n",
      "235/235 [==============================] - 12s 50ms/step - loss: 0.8057 - accuracy: 0.7064 - val_loss: 2.3661 - val_accuracy: 0.4320\n",
      "Epoch 99/100\n",
      "235/235 [==============================] - 12s 50ms/step - loss: 0.8206 - accuracy: 0.7069 - val_loss: 2.5117 - val_accuracy: 0.4352\n",
      "Epoch 100/100\n",
      "235/235 [==============================] - 12s 50ms/step - loss: 0.8094 - accuracy: 0.7023 - val_loss: 2.4113 - val_accuracy: 0.4288\n"
     ]
    }
   ],
   "source": [
    "cnn_history=cnn.fit(reshape_train_normal, y_train_hot, epochs=100,validation_split=0.25)"
   ]
  },
  {
   "cell_type": "code",
   "execution_count": 94,
   "metadata": {},
   "outputs": [],
   "source": [
    "test = unpickle(\"test.pkl\")\n",
    "test_data = np.array(test[\"data\"])"
   ]
  },
  {
   "cell_type": "code",
   "execution_count": 95,
   "metadata": {},
   "outputs": [
    {
     "name": "stdout",
     "output_type": "stream",
     "text": [
      "(2000, 12288)\n",
      "(2000, 64, 64, 3)\n"
     ]
    }
   ],
   "source": [
    "b = test_data.copy()\n",
    "print(b.shape)\n",
    "reshape_test_data = np.reshape(b, (-1, 64, 64, 3))\n",
    "print(reshape_test_data.shape)"
   ]
  },
  {
   "cell_type": "code",
   "execution_count": 96,
   "metadata": {},
   "outputs": [
    {
     "name": "stdout",
     "output_type": "stream",
     "text": [
      "(2000, 64, 64, 3)\n"
     ]
    }
   ],
   "source": [
    "#normalize and change to float 32 for training\n",
    "normal_test_reshape = reshape_test_data / 255\n",
    "normal_test_reshape.astype('float32')\n",
    "print(normal_test_reshape.shape)\n",
    "#print(normal_test_reshape[0])"
   ]
  },
  {
   "cell_type": "code",
   "execution_count": 97,
   "metadata": {},
   "outputs": [],
   "source": [
    "test_image_val = 301"
   ]
  },
  {
   "cell_type": "code",
   "execution_count": 98,
   "metadata": {},
   "outputs": [
    {
     "name": "stdout",
     "output_type": "stream",
     "text": [
      "[1.3597388e-02 1.2946068e-01 1.0327698e-05 4.1780297e-02 4.7115274e-05\n",
      " 8.1048161e-01 9.7333448e-04 3.3350876e-03 2.2618115e-04 8.7907327e-05]\n",
      "6\n"
     ]
    }
   ],
   "source": [
    "y_pred = cnn.predict(normal_test_reshape)\n",
    "print(y_pred[test_image_val])\n",
    "zero_max_index = np.argmax(y_pred[test_image_val]) + 1\n",
    "print(zero_max_index)"
   ]
  },
  {
   "cell_type": "code",
   "execution_count": 99,
   "metadata": {},
   "outputs": [],
   "source": [
    "def show_test_image(idx, test):\n",
    "    img = test[\"data\"][idx]\n",
    "    img = np.dstack((img[:4096], img[4096:8192], img[8192:])).reshape(64,64,3)\n",
    "    plt.imshow(img)\n",
    "    plt.show()"
   ]
  },
  {
   "cell_type": "code",
   "execution_count": 100,
   "metadata": {},
   "outputs": [
    {
     "data": {
      "image/png": "[encoded data removed]",
      "text/plain": [
       "<Figure size 432x288 with 1 Axes>"
      ]
     },
     "metadata": {
      "needs_background": "light"
     },
     "output_type": "display_data"
    }
   ],
   "source": [
    "show_test_image(test_image_val, test)"
   ]
  },
  {
   "cell_type": "code",
   "execution_count": 101,
   "metadata": {},
   "outputs": [
    {
     "name": "stdout",
     "output_type": "stream",
     "text": [
      "        id  label\n",
      "0        0      4\n",
      "1        1      1\n",
      "2        2      8\n",
      "3        3      2\n",
      "4        4     10\n",
      "...    ...    ...\n",
      "1995  1995      6\n",
      "1996  1996      9\n",
      "1997  1997      9\n",
      "1998  1998      8\n",
      "1999  1999      8\n",
      "\n",
      "[2000 rows x 2 columns]\n"
     ]
    }
   ],
   "source": [
    "test_len = len(test[\"data\"])\n",
    "data_list = []\n",
    "for i in range(test_len):\n",
    "  max_index = np.argmax(y_pred[i]) + 1\n",
    "  tmp_tuple = (i, max_index)\n",
    "  data_list.append(tmp_tuple)\n",
    "\n",
    "df = pd.DataFrame(data_list, columns =['id', 'label'])\n",
    "print(df)"
   ]
  },
  {
   "cell_type": "code",
   "execution_count": 112,
   "metadata": {},
   "outputs": [
    {
     "data": {
      "image/png": "[encoded data removed]",
      "text/plain": [
       "<Figure size 576x576 with 2 Axes>"
      ]
     },
     "metadata": {
      "needs_background": "light"
     },
     "output_type": "display_data"
    }
   ],
   "source": [
    "acc = cnn_history.history['accuracy']\n",
    "val_acc = cnn_history.history['val_accuracy']\n",
    "\n",
    "loss = cnn_history.history['loss']\n",
    "val_loss = cnn_history.history['val_loss']\n",
    "\n",
    "epochs_range = range(0,100)\n",
    "\n",
    "plt.figure(figsize=(8, 8))\n",
    "plt.subplot(1, 2, 1)\n",
    "plt.plot(epochs_range, acc, label='Training Accuracy')\n",
    "plt.plot(epochs_range, val_acc, label='Validation Accuracy')\n",
    "plt.legend(loc='lower right')\n",
    "plt.ylim(0,1)\n",
    "plt.title('Training and Validation Accuracy')\n",
    "\n",
    "plt.subplot(1, 2, 2)\n",
    "plt.plot(epochs_range, loss, label='Training Loss')\n",
    "plt.plot(epochs_range, val_loss, label='Validation Loss')\n",
    "plt.legend(loc='upper right')\n",
    "plt.ylim(0,2)\n",
    "plt.title('Training and Validation Loss')\n",
    "plt.show()"
   ]
  },
  {
   "cell_type": "markdown",
   "metadata": {},
   "source": [
    "# Attempt 2"
   ]
  },
  {
   "cell_type": "code",
   "execution_count": 109,
   "metadata": {},
   "outputs": [],
   "source": [
    "CNN_book_model = keras.models.Sequential([\n",
    "    keras.layers.Conv2D(16, 7, activation=\"relu\",input_shape=[64, 64, 3],kernel_initializer='he_normal', kernel_constraint=max_norm(weight_ceiling), bias_constraint=max_norm(weight_ceiling)),\n",
    "    keras.layers.MaxPooling2D(2),\n",
    "    keras.layers.Dropout(0.4),\n",
    "    keras.layers.Conv2D(32, 3, activation=\"relu\",kernel_initializer='he_normal', kernel_constraint=max_norm(weight_ceiling), bias_constraint=max_norm(weight_ceiling)),\n",
    "    keras.layers.MaxPooling2D(2),\n",
    "    keras.layers.Dropout(0.4),\n",
    "    #keras.layers.Conv2D(64, 3, activation=\"relu\",kernel_initializer='he_normal', kernel_constraint=max_norm(weight_ceiling), bias_constraint=max_norm(weight_ceiling)),\n",
    "    #keras.layers.MaxPooling2D(2),\n",
    "    #keras.layers.Dropout(0.4),\n",
    "    keras.layers.Flatten(input_shape=[64, 64, 3]),\n",
    "    keras.layers.Dense(32, activation=\"relu\", kernel_initializer='he_normal', kernel_constraint=max_norm(weight_ceiling), bias_constraint=max_norm(weight_ceiling)),\n",
    "    keras.layers.Dropout(0.2),\n",
    "    keras.layers.Dense(10, activation=\"softmax\", kernel_initializer='he_normal', kernel_constraint=max_norm(weight_ceiling), bias_constraint=max_norm(weight_ceiling))                                \n",
    "])"
   ]
  },
  {
   "cell_type": "code",
   "execution_count": 110,
   "metadata": {},
   "outputs": [],
   "source": [
    " CNN_book_model.compile(optimizer=opt, loss='categorical_crossentropy', metrics=['accuracy'])"
   ]
  },
  {
   "cell_type": "code",
   "execution_count": 125,
   "metadata": {},
   "outputs": [
    {
     "name": "stdout",
     "output_type": "stream",
     "text": [
      "Epoch 1/100\n",
      "250/250 [==============================] - 12s 47ms/step - loss: 1.6378 - accuracy: 0.4376 - val_loss: 1.6575 - val_accuracy: 0.4570\n",
      "Epoch 2/100\n",
      "250/250 [==============================] - 12s 48ms/step - loss: 1.6416 - accuracy: 0.4369 - val_loss: 1.6586 - val_accuracy: 0.4540\n",
      "Epoch 3/100\n",
      "250/250 [==============================] - 12s 49ms/step - loss: 1.6470 - accuracy: 0.4334 - val_loss: 1.6585 - val_accuracy: 0.4555\n",
      "Epoch 4/100\n",
      "250/250 [==============================] - 13s 53ms/step - loss: 1.6418 - accuracy: 0.4370 - val_loss: 1.6591 - val_accuracy: 0.4545\n",
      "Epoch 5/100\n",
      "250/250 [==============================] - 13s 53ms/step - loss: 1.6460 - accuracy: 0.4251 - val_loss: 1.6564 - val_accuracy: 0.4570\n",
      "Epoch 6/100\n",
      "250/250 [==============================] - 14s 54ms/step - loss: 1.6394 - accuracy: 0.4347 - val_loss: 1.6533 - val_accuracy: 0.4540\n",
      "Epoch 7/100\n",
      "250/250 [==============================] - 15s 59ms/step - loss: 1.6310 - accuracy: 0.4374 - val_loss: 1.6508 - val_accuracy: 0.4570\n",
      "Epoch 8/100\n",
      "250/250 [==============================] - 16s 63ms/step - loss: 1.6327 - accuracy: 0.4372 - val_loss: 1.6536 - val_accuracy: 0.4550\n",
      "Epoch 9/100\n",
      "250/250 [==============================] - 13s 53ms/step - loss: 1.6313 - accuracy: 0.4376 - val_loss: 1.6544 - val_accuracy: 0.4565\n",
      "Epoch 10/100\n",
      "250/250 [==============================] - 13s 52ms/step - loss: 1.6203 - accuracy: 0.4439 - val_loss: 1.6518 - val_accuracy: 0.4525\n",
      "Epoch 11/100\n",
      "250/250 [==============================] - 14s 57ms/step - loss: 1.6322 - accuracy: 0.4395 - val_loss: 1.6489 - val_accuracy: 0.4545\n",
      "Epoch 12/100\n",
      "250/250 [==============================] - 13s 52ms/step - loss: 1.6323 - accuracy: 0.4390 - val_loss: 1.6482 - val_accuracy: 0.4605\n",
      "Epoch 13/100\n",
      "250/250 [==============================] - 14s 57ms/step - loss: 1.6286 - accuracy: 0.4380 - val_loss: 1.6474 - val_accuracy: 0.4535\n",
      "Epoch 14/100\n",
      "250/250 [==============================] - 14s 55ms/step - loss: 1.6292 - accuracy: 0.4397 - val_loss: 1.6475 - val_accuracy: 0.4590\n",
      "Epoch 15/100\n",
      "250/250 [==============================] - 14s 57ms/step - loss: 1.6239 - accuracy: 0.4411 - val_loss: 1.6459 - val_accuracy: 0.4585\n",
      "Epoch 16/100\n",
      "250/250 [==============================] - 15s 60ms/step - loss: 1.6291 - accuracy: 0.4380 - val_loss: 1.6478 - val_accuracy: 0.4555\n",
      "Epoch 17/100\n",
      "250/250 [==============================] - 15s 60ms/step - loss: 1.6277 - accuracy: 0.4420 - val_loss: 1.6468 - val_accuracy: 0.4570\n",
      "Epoch 18/100\n",
      "250/250 [==============================] - 15s 61ms/step - loss: 1.6283 - accuracy: 0.4396 - val_loss: 1.6440 - val_accuracy: 0.4565\n",
      "Epoch 19/100\n",
      "250/250 [==============================] - 16s 64ms/step - loss: 1.6259 - accuracy: 0.4417 - val_loss: 1.6437 - val_accuracy: 0.4565\n",
      "Epoch 20/100\n",
      "250/250 [==============================] - 16s 63ms/step - loss: 1.6107 - accuracy: 0.4430 - val_loss: 1.6412 - val_accuracy: 0.4555\n",
      "Epoch 21/100\n",
      "250/250 [==============================] - 16s 63ms/step - loss: 1.6027 - accuracy: 0.4451 - val_loss: 1.6379 - val_accuracy: 0.4580\n",
      "Epoch 22/100\n",
      "250/250 [==============================] - 16s 63ms/step - loss: 1.6120 - accuracy: 0.4495 - val_loss: 1.6396 - val_accuracy: 0.4585\n",
      "Epoch 23/100\n",
      "250/250 [==============================] - 16s 63ms/step - loss: 1.6148 - accuracy: 0.4456 - val_loss: 1.6374 - val_accuracy: 0.4580\n",
      "Epoch 24/100\n",
      "250/250 [==============================] - 16s 63ms/step - loss: 1.6064 - accuracy: 0.4487 - val_loss: 1.6398 - val_accuracy: 0.4575\n",
      "Epoch 25/100\n",
      "250/250 [==============================] - 16s 63ms/step - loss: 1.6120 - accuracy: 0.4465 - val_loss: 1.6390 - val_accuracy: 0.4585\n",
      "Epoch 26/100\n",
      "250/250 [==============================] - 16s 63ms/step - loss: 1.6124 - accuracy: 0.4433 - val_loss: 1.6352 - val_accuracy: 0.4620\n",
      "Epoch 27/100\n",
      "250/250 [==============================] - 16s 65ms/step - loss: 1.6022 - accuracy: 0.4534 - val_loss: 1.6332 - val_accuracy: 0.4595\n",
      "Epoch 28/100\n",
      "250/250 [==============================] - 15s 59ms/step - loss: 1.6027 - accuracy: 0.4467 - val_loss: 1.6317 - val_accuracy: 0.4620\n",
      "Epoch 29/100\n",
      "250/250 [==============================] - 15s 59ms/step - loss: 1.6014 - accuracy: 0.4479 - val_loss: 1.6330 - val_accuracy: 0.4610\n",
      "Epoch 30/100\n",
      "250/250 [==============================] - 15s 59ms/step - loss: 1.6050 - accuracy: 0.4521 - val_loss: 1.6285 - val_accuracy: 0.4625\n",
      "Epoch 31/100\n",
      "250/250 [==============================] - 15s 60ms/step - loss: 1.6028 - accuracy: 0.4475 - val_loss: 1.6323 - val_accuracy: 0.4625\n",
      "Epoch 32/100\n",
      "250/250 [==============================] - 15s 60ms/step - loss: 1.5974 - accuracy: 0.4453 - val_loss: 1.6325 - val_accuracy: 0.4610\n",
      "Epoch 33/100\n",
      "250/250 [==============================] - 15s 59ms/step - loss: 1.6017 - accuracy: 0.4445 - val_loss: 1.6323 - val_accuracy: 0.4590\n",
      "Epoch 34/100\n",
      "250/250 [==============================] - 15s 59ms/step - loss: 1.6085 - accuracy: 0.4498 - val_loss: 1.6291 - val_accuracy: 0.4615\n",
      "Epoch 35/100\n",
      "250/250 [==============================] - 15s 59ms/step - loss: 1.5966 - accuracy: 0.4480 - val_loss: 1.6297 - val_accuracy: 0.4625\n",
      "Epoch 36/100\n",
      "250/250 [==============================] - 15s 60ms/step - loss: 1.5933 - accuracy: 0.4478 - val_loss: 1.6327 - val_accuracy: 0.4595\n",
      "Epoch 37/100\n",
      "250/250 [==============================] - 15s 60ms/step - loss: 1.5855 - accuracy: 0.4620 - val_loss: 1.6248 - val_accuracy: 0.4650\n",
      "Epoch 38/100\n",
      "250/250 [==============================] - 15s 60ms/step - loss: 1.5955 - accuracy: 0.4490 - val_loss: 1.6253 - val_accuracy: 0.4645\n",
      "Epoch 39/100\n",
      "250/250 [==============================] - 15s 60ms/step - loss: 1.5950 - accuracy: 0.4495 - val_loss: 1.6261 - val_accuracy: 0.4630\n",
      "Epoch 40/100\n",
      "250/250 [==============================] - 15s 61ms/step - loss: 1.5981 - accuracy: 0.4476 - val_loss: 1.6266 - val_accuracy: 0.4625\n",
      "Epoch 41/100\n",
      "250/250 [==============================] - 15s 60ms/step - loss: 1.6000 - accuracy: 0.4476 - val_loss: 1.6237 - val_accuracy: 0.4705\n",
      "Epoch 42/100\n",
      "250/250 [==============================] - 15s 61ms/step - loss: 1.6004 - accuracy: 0.4479 - val_loss: 1.6242 - val_accuracy: 0.4640\n",
      "Epoch 43/100\n",
      "250/250 [==============================] - 15s 61ms/step - loss: 1.5950 - accuracy: 0.4543 - val_loss: 1.6227 - val_accuracy: 0.4675\n",
      "Epoch 44/100\n",
      "250/250 [==============================] - 15s 60ms/step - loss: 1.5842 - accuracy: 0.4550 - val_loss: 1.6207 - val_accuracy: 0.4615\n",
      "Epoch 45/100\n",
      "250/250 [==============================] - 15s 60ms/step - loss: 1.5975 - accuracy: 0.4453 - val_loss: 1.6239 - val_accuracy: 0.4630\n",
      "Epoch 46/100\n",
      "250/250 [==============================] - 15s 60ms/step - loss: 1.5894 - accuracy: 0.4544 - val_loss: 1.6207 - val_accuracy: 0.4640\n",
      "Epoch 47/100\n",
      "250/250 [==============================] - 15s 60ms/step - loss: 1.5955 - accuracy: 0.4561 - val_loss: 1.6208 - val_accuracy: 0.4655\n",
      "Epoch 48/100\n",
      "250/250 [==============================] - 15s 60ms/step - loss: 1.5853 - accuracy: 0.4614 - val_loss: 1.6181 - val_accuracy: 0.4705\n",
      "Epoch 49/100\n",
      "250/250 [==============================] - 15s 60ms/step - loss: 1.5869 - accuracy: 0.4554 - val_loss: 1.6169 - val_accuracy: 0.4670\n",
      "Epoch 50/100\n",
      "250/250 [==============================] - 15s 60ms/step - loss: 1.5953 - accuracy: 0.4561 - val_loss: 1.6213 - val_accuracy: 0.4595\n",
      "Epoch 51/100\n",
      "250/250 [==============================] - 15s 60ms/step - loss: 1.5878 - accuracy: 0.4501 - val_loss: 1.6174 - val_accuracy: 0.4665\n",
      "Epoch 52/100\n",
      "250/250 [==============================] - 15s 60ms/step - loss: 1.5865 - accuracy: 0.4572 - val_loss: 1.6191 - val_accuracy: 0.4610\n",
      "Epoch 53/100\n",
      "250/250 [==============================] - 15s 60ms/step - loss: 1.5799 - accuracy: 0.4557 - val_loss: 1.6139 - val_accuracy: 0.4670\n",
      "Epoch 54/100\n",
      "250/250 [==============================] - 15s 60ms/step - loss: 1.5852 - accuracy: 0.4555 - val_loss: 1.6161 - val_accuracy: 0.4635\n",
      "Epoch 55/100\n",
      "250/250 [==============================] - 15s 60ms/step - loss: 1.5837 - accuracy: 0.4601 - val_loss: 1.6147 - val_accuracy: 0.4645\n",
      "Epoch 56/100\n",
      "250/250 [==============================] - 15s 61ms/step - loss: 1.5835 - accuracy: 0.4604 - val_loss: 1.6187 - val_accuracy: 0.4645\n",
      "Epoch 57/100\n"
     ]
    },
    {
     "name": "stdout",
     "output_type": "stream",
     "text": [
      "250/250 [==============================] - 15s 60ms/step - loss: 1.5749 - accuracy: 0.4597 - val_loss: 1.6131 - val_accuracy: 0.4665\n",
      "Epoch 58/100\n",
      "250/250 [==============================] - 15s 59ms/step - loss: 1.5842 - accuracy: 0.4593 - val_loss: 1.6131 - val_accuracy: 0.4665\n",
      "Epoch 59/100\n",
      "250/250 [==============================] - 16s 63ms/step - loss: 1.5658 - accuracy: 0.4696 - val_loss: 1.6129 - val_accuracy: 0.4665\n",
      "Epoch 60/100\n",
      "250/250 [==============================] - 15s 59ms/step - loss: 1.5718 - accuracy: 0.4644 - val_loss: 1.6088 - val_accuracy: 0.4710\n",
      "Epoch 61/100\n",
      "250/250 [==============================] - 15s 59ms/step - loss: 1.5650 - accuracy: 0.4620 - val_loss: 1.6120 - val_accuracy: 0.4680\n",
      "Epoch 62/100\n",
      "250/250 [==============================] - 15s 59ms/step - loss: 1.5766 - accuracy: 0.4569 - val_loss: 1.6116 - val_accuracy: 0.4645\n",
      "Epoch 63/100\n",
      "250/250 [==============================] - 15s 59ms/step - loss: 1.5622 - accuracy: 0.4622 - val_loss: 1.6092 - val_accuracy: 0.4650\n",
      "Epoch 64/100\n",
      "250/250 [==============================] - 15s 59ms/step - loss: 1.5766 - accuracy: 0.4531 - val_loss: 1.6090 - val_accuracy: 0.4660\n",
      "Epoch 65/100\n",
      "250/250 [==============================] - 15s 59ms/step - loss: 1.5723 - accuracy: 0.4595 - val_loss: 1.6064 - val_accuracy: 0.4680\n",
      "Epoch 66/100\n",
      "250/250 [==============================] - 15s 59ms/step - loss: 1.5632 - accuracy: 0.4690 - val_loss: 1.6059 - val_accuracy: 0.4670\n",
      "Epoch 67/100\n",
      "250/250 [==============================] - 15s 59ms/step - loss: 1.5661 - accuracy: 0.4586 - val_loss: 1.6069 - val_accuracy: 0.4685\n",
      "Epoch 68/100\n",
      "250/250 [==============================] - 15s 59ms/step - loss: 1.5712 - accuracy: 0.4605 - val_loss: 1.6061 - val_accuracy: 0.4680\n",
      "Epoch 69/100\n",
      "250/250 [==============================] - 15s 60ms/step - loss: 1.5693 - accuracy: 0.4579 - val_loss: 1.6071 - val_accuracy: 0.4675\n",
      "Epoch 70/100\n",
      "250/250 [==============================] - 15s 59ms/step - loss: 1.5639 - accuracy: 0.4645 - val_loss: 1.6088 - val_accuracy: 0.4660\n",
      "Epoch 71/100\n",
      "250/250 [==============================] - 15s 59ms/step - loss: 1.5560 - accuracy: 0.4708 - val_loss: 1.6052 - val_accuracy: 0.4665\n",
      "Epoch 72/100\n",
      "250/250 [==============================] - 15s 59ms/step - loss: 1.5599 - accuracy: 0.4642 - val_loss: 1.6012 - val_accuracy: 0.4695\n",
      "Epoch 73/100\n",
      "250/250 [==============================] - 15s 59ms/step - loss: 1.5618 - accuracy: 0.4638 - val_loss: 1.6041 - val_accuracy: 0.4675\n",
      "Epoch 74/100\n",
      "250/250 [==============================] - 15s 59ms/step - loss: 1.5624 - accuracy: 0.4689 - val_loss: 1.6020 - val_accuracy: 0.4690\n",
      "Epoch 75/100\n",
      "250/250 [==============================] - 15s 60ms/step - loss: 1.5503 - accuracy: 0.4705 - val_loss: 1.6001 - val_accuracy: 0.4710\n",
      "Epoch 76/100\n",
      "250/250 [==============================] - 15s 59ms/step - loss: 1.5603 - accuracy: 0.4631 - val_loss: 1.6022 - val_accuracy: 0.4700\n",
      "Epoch 77/100\n",
      "250/250 [==============================] - 15s 58ms/step - loss: 1.5535 - accuracy: 0.4709 - val_loss: 1.6014 - val_accuracy: 0.4675\n",
      "Epoch 78/100\n",
      "250/250 [==============================] - 15s 58ms/step - loss: 1.5589 - accuracy: 0.4635 - val_loss: 1.5984 - val_accuracy: 0.4695\n",
      "Epoch 79/100\n",
      "250/250 [==============================] - 15s 59ms/step - loss: 1.5572 - accuracy: 0.4656 - val_loss: 1.5936 - val_accuracy: 0.4715\n",
      "Epoch 80/100\n",
      "250/250 [==============================] - 15s 59ms/step - loss: 1.5512 - accuracy: 0.4690 - val_loss: 1.5963 - val_accuracy: 0.4750\n",
      "Epoch 81/100\n",
      "250/250 [==============================] - 15s 59ms/step - loss: 1.5511 - accuracy: 0.4676 - val_loss: 1.6007 - val_accuracy: 0.4660\n",
      "Epoch 82/100\n",
      "250/250 [==============================] - 15s 59ms/step - loss: 1.5509 - accuracy: 0.4641 - val_loss: 1.5989 - val_accuracy: 0.4685\n",
      "Epoch 83/100\n",
      "250/250 [==============================] - 15s 59ms/step - loss: 1.5553 - accuracy: 0.4642 - val_loss: 1.6011 - val_accuracy: 0.4690\n",
      "Epoch 84/100\n",
      "250/250 [==============================] - 15s 58ms/step - loss: 1.5514 - accuracy: 0.4680 - val_loss: 1.5991 - val_accuracy: 0.4660\n",
      "Epoch 85/100\n",
      "250/250 [==============================] - 15s 59ms/step - loss: 1.5541 - accuracy: 0.4660 - val_loss: 1.5965 - val_accuracy: 0.4690\n",
      "Epoch 86/100\n",
      "250/250 [==============================] - 15s 58ms/step - loss: 1.5455 - accuracy: 0.4741 - val_loss: 1.5939 - val_accuracy: 0.4715\n",
      "Epoch 87/100\n",
      "250/250 [==============================] - 15s 59ms/step - loss: 1.5490 - accuracy: 0.4724 - val_loss: 1.5969 - val_accuracy: 0.4690\n",
      "Epoch 88/100\n",
      "250/250 [==============================] - 15s 60ms/step - loss: 1.5511 - accuracy: 0.4669 - val_loss: 1.5961 - val_accuracy: 0.4700\n",
      "Epoch 89/100\n",
      "250/250 [==============================] - 15s 58ms/step - loss: 1.5506 - accuracy: 0.4684 - val_loss: 1.5930 - val_accuracy: 0.4715\n",
      "Epoch 90/100\n",
      "250/250 [==============================] - 15s 58ms/step - loss: 1.5484 - accuracy: 0.4676 - val_loss: 1.5970 - val_accuracy: 0.4650\n",
      "Epoch 91/100\n",
      "250/250 [==============================] - 15s 58ms/step - loss: 1.5464 - accuracy: 0.4683 - val_loss: 1.5949 - val_accuracy: 0.4710\n",
      "Epoch 92/100\n",
      "250/250 [==============================] - 15s 58ms/step - loss: 1.5380 - accuracy: 0.4704 - val_loss: 1.5951 - val_accuracy: 0.4670\n",
      "Epoch 93/100\n",
      "250/250 [==============================] - 15s 59ms/step - loss: 1.5429 - accuracy: 0.4744 - val_loss: 1.5941 - val_accuracy: 0.4695\n",
      "Epoch 94/100\n",
      "250/250 [==============================] - 15s 58ms/step - loss: 1.5502 - accuracy: 0.4706 - val_loss: 1.5921 - val_accuracy: 0.4725\n",
      "Epoch 95/100\n",
      "250/250 [==============================] - 15s 59ms/step - loss: 1.5385 - accuracy: 0.4669 - val_loss: 1.5961 - val_accuracy: 0.4650\n",
      "Epoch 96/100\n",
      "250/250 [==============================] - 15s 59ms/step - loss: 1.5448 - accuracy: 0.4680 - val_loss: 1.5914 - val_accuracy: 0.4720\n",
      "Epoch 97/100\n",
      "250/250 [==============================] - 15s 59ms/step - loss: 1.5415 - accuracy: 0.4728 - val_loss: 1.5914 - val_accuracy: 0.4680\n",
      "Epoch 98/100\n",
      "250/250 [==============================] - 15s 58ms/step - loss: 1.5471 - accuracy: 0.4686 - val_loss: 1.5932 - val_accuracy: 0.4665\n",
      "Epoch 99/100\n",
      "250/250 [==============================] - 15s 58ms/step - loss: 1.5380 - accuracy: 0.4746 - val_loss: 1.5914 - val_accuracy: 0.4700\n",
      "Epoch 100/100\n",
      "250/250 [==============================] - 15s 59ms/step - loss: 1.5432 - accuracy: 0.4726 - val_loss: 1.5917 - val_accuracy: 0.4710\n"
     ]
    }
   ],
   "source": [
    "CNN_book_history = CNN_book_model.fit(reshape_train_normal, y_train_hot, epochs=100, validation_split = 0.2)"
   ]
  },
  {
   "cell_type": "code",
   "execution_count": 126,
   "metadata": {},
   "outputs": [],
   "source": [
    "test = unpickle(\"test.pkl\")\n",
    "test_data = np.array(test[\"data\"])"
   ]
  },
  {
   "cell_type": "code",
   "execution_count": 127,
   "metadata": {},
   "outputs": [
    {
     "name": "stdout",
     "output_type": "stream",
     "text": [
      "(2000, 12288)\n",
      "(2000, 64, 64, 3)\n"
     ]
    }
   ],
   "source": [
    "b = test_data.copy()\n",
    "print(b.shape)\n",
    "reshape_test_data = np.reshape(b, (-1, 64, 64, 3))\n",
    "print(reshape_test_data.shape)"
   ]
  },
  {
   "cell_type": "code",
   "execution_count": 128,
   "metadata": {},
   "outputs": [
    {
     "name": "stdout",
     "output_type": "stream",
     "text": [
      "(2000, 64, 64, 3)\n"
     ]
    }
   ],
   "source": [
    "#normalize and change to float 32 for training\n",
    "normal_test_reshape = reshape_test_data / 255\n",
    "normal_test_reshape.astype('float32')\n",
    "print(normal_test_reshape.shape)\n",
    "#print(normal_test_reshape[0])"
   ]
  },
  {
   "cell_type": "code",
   "execution_count": 129,
   "metadata": {},
   "outputs": [],
   "source": [
    "test_image_val = 301"
   ]
  },
  {
   "cell_type": "code",
   "execution_count": 130,
   "metadata": {},
   "outputs": [
    {
     "name": "stdout",
     "output_type": "stream",
     "text": [
      "[1.3597388e-02 1.2946068e-01 1.0327698e-05 4.1780297e-02 4.7115274e-05\n",
      " 8.1048161e-01 9.7333448e-04 3.3350876e-03 2.2618115e-04 8.7907327e-05]\n",
      "6\n"
     ]
    }
   ],
   "source": [
    "y_pred = cnn.predict(normal_test_reshape)\n",
    "print(y_pred[test_image_val])\n",
    "zero_max_index = np.argmax(y_pred[test_image_val]) + 1\n",
    "print(zero_max_index)"
   ]
  },
  {
   "cell_type": "code",
   "execution_count": 131,
   "metadata": {},
   "outputs": [],
   "source": [
    "def show_test_image(idx, test):\n",
    "    img = test[\"data\"][idx]\n",
    "    img = np.dstack((img[:4096], img[4096:8192], img[8192:])).reshape(64,64,3)\n",
    "    plt.imshow(img)\n",
    "    plt.show()"
   ]
  },
  {
   "cell_type": "code",
   "execution_count": 132,
   "metadata": {},
   "outputs": [
    {
     "data": {
      "image/png": "[encoded data removed]",
      "text/plain": [
       "<Figure size 432x288 with 1 Axes>"
      ]
     },
     "metadata": {
      "needs_background": "light"
     },
     "output_type": "display_data"
    }
   ],
   "source": [
    "show_test_image(test_image_val, test)"
   ]
  },
  {
   "cell_type": "code",
   "execution_count": 133,
   "metadata": {},
   "outputs": [
    {
     "name": "stdout",
     "output_type": "stream",
     "text": [
      "        id  label\n",
      "0        0      4\n",
      "1        1      1\n",
      "2        2      8\n",
      "3        3      2\n",
      "4        4     10\n",
      "...    ...    ...\n",
      "1995  1995      6\n",
      "1996  1996      9\n",
      "1997  1997      9\n",
      "1998  1998      8\n",
      "1999  1999      8\n",
      "\n",
      "[2000 rows x 2 columns]\n"
     ]
    }
   ],
   "source": [
    "test_len = len(test[\"data\"])\n",
    "data_list = []\n",
    "for i in range(test_len):\n",
    "  max_index = np.argmax(y_pred[i]) + 1\n",
    "  tmp_tuple = (i, max_index)\n",
    "  data_list.append(tmp_tuple)\n",
    "\n",
    "df = pd.DataFrame(data_list, columns =['id', 'label'])\n",
    "print(df)"
   ]
  },
  {
   "cell_type": "code",
   "execution_count": 137,
   "metadata": {},
   "outputs": [
    {
     "data": {
      "image/png": "[encoded data removed]",
      "text/plain": [
       "<Figure size 576x576 with 2 Axes>"
      ]
     },
     "metadata": {
      "needs_background": "light"
     },
     "output_type": "display_data"
    }
   ],
   "source": [
    "acc = CNN_book_history.history['accuracy']\n",
    "val_acc = CNN_book_history.history['val_accuracy']\n",
    "\n",
    "loss = CNN_book_history.history['loss']\n",
    "val_loss = CNN_book_history.history['val_loss']\n",
    "\n",
    "epochs_range = range(0,100)\n",
    "\n",
    "plt.figure(figsize=(8, 8))\n",
    "plt.subplot(1, 2, 1)\n",
    "plt.plot(epochs_range, acc, label='Training Accuracy')\n",
    "plt.plot(epochs_range, val_acc, label='Validation Accuracy')\n",
    "plt.legend(loc='lower right')\n",
    "plt.title('Training and Validation Accuracy')\n",
    "\n",
    "plt.subplot(1, 2, 2)\n",
    "plt.plot(epochs_range, loss, label='Training Loss')\n",
    "plt.plot(epochs_range, val_loss, label='Validation Loss')\n",
    "plt.legend(loc='upper right')\n",
    "plt.title('Training and Validation Loss')\n",
    "plt.show()"
   ]
  },
  {
   "cell_type": "code",
   "execution_count": null,
   "metadata": {},
   "outputs": [],
   "source": []
  },
  {
   "cell_type": "code",
   "execution_count": null,
   "metadata": {},
   "outputs": [],
   "source": []
  },
  {
   "cell_type": "markdown",
   "metadata": {},
   "source": [
    "# Attempt 3"
   ]
  },
  {
   "cell_type": "code",
   "execution_count": 138,
   "metadata": {},
   "outputs": [],
   "source": [
    "batch_size = 16\n",
    "nb_classes =4\n",
    "nb_epochs = 10\n",
    "img_rows, img_columns = 200, 200\n",
    "img_channel = 3\n",
    "nb_filters = 32\n",
    "nb_pool = 2\n",
    "nb_conv = 3\n"
   ]
  },
  {
   "cell_type": "code",
   "execution_count": 139,
   "metadata": {},
   "outputs": [],
   "source": [
    "model = tf.keras.Sequential([\n",
    "    tf.keras.layers.Conv2D(32, (3,3), padding='same', activation=tf.nn.relu,\n",
    "                           input_shape=(64,64 , 3)),\n",
    "    tf.keras.layers.MaxPooling2D((2, 2), strides=2),\n",
    "    tf.keras.layers.Conv2D(32, (3,3), padding='same', activation=tf.nn.relu),\n",
    "    tf.keras.layers.MaxPooling2D((2, 2), strides=2),\n",
    "    tf.keras.layers.Dropout(0.5),\n",
    "    tf.keras.layers.Flatten(),\n",
    "    tf.keras.layers.Dense(128, activation=tf.nn.relu),\n",
    "    tf.keras.layers.Dense(10,  activation=tf.nn.softmax)\n",
    "])"
   ]
  },
  {
   "cell_type": "code",
   "execution_count": 140,
   "metadata": {},
   "outputs": [],
   "source": [
    "model.compile(optimizer='adam',loss='categorical_crossentropy',metrics=['Accuracy'])"
   ]
  },
  {
   "cell_type": "code",
   "execution_count": 141,
   "metadata": {},
   "outputs": [
    {
     "data": {
      "text/plain": [
       "(6700, 10)"
      ]
     },
     "execution_count": 141,
     "metadata": {},
     "output_type": "execute_result"
    }
   ],
   "source": [
    "from sklearn.model_selection import train_test_split\n",
    "X_train, X_test, y_train, y_test = train_test_split(reshape_train_normal,y_train_hot, test_size=0.33, random_state=42)\n",
    "X_train[0].shape\n",
    "y_train.shape"
   ]
  },
  {
   "cell_type": "code",
   "execution_count": 142,
   "metadata": {},
   "outputs": [
    {
     "name": "stdout",
     "output_type": "stream",
     "text": [
      "Epoch 1/10\n",
      "419/419 [==============================] - 16s 37ms/step - loss: 2.1560 - accuracy: 0.0000e+00 - val_loss: 1.6820 - val_accuracy: 0.0000e+00\n",
      "Epoch 2/10\n",
      "419/419 [==============================] - 15s 35ms/step - loss: 1.5960 - accuracy: 0.0000e+00 - val_loss: 1.5298 - val_accuracy: 0.0000e+00\n",
      "Epoch 3/10\n",
      "419/419 [==============================] - 14s 35ms/step - loss: 1.3938 - accuracy: 0.0000e+00 - val_loss: 1.4012 - val_accuracy: 0.0000e+00\n",
      "Epoch 4/10\n",
      "419/419 [==============================] - 15s 35ms/step - loss: 1.2152 - accuracy: 0.0000e+00 - val_loss: 1.3963 - val_accuracy: 0.0000e+00\n",
      "Epoch 5/10\n",
      "419/419 [==============================] - 15s 36ms/step - loss: 1.0180 - accuracy: 0.0000e+00 - val_loss: 1.3959 - val_accuracy: 0.0000e+00\n",
      "Epoch 6/10\n",
      "419/419 [==============================] - 15s 35ms/step - loss: 0.9410 - accuracy: 0.0000e+00 - val_loss: 1.4279 - val_accuracy: 0.0000e+00\n",
      "Epoch 7/10\n",
      "419/419 [==============================] - 15s 35ms/step - loss: 0.7897 - accuracy: 0.0000e+00 - val_loss: 1.4793 - val_accuracy: 9.0909e-05\n",
      "Epoch 8/10\n",
      "419/419 [==============================] - 15s 35ms/step - loss: 0.7019 - accuracy: 3.2093e-05 - val_loss: 1.4399 - val_accuracy: 3.0303e-05\n",
      "Epoch 9/10\n",
      "419/419 [==============================] - 15s 36ms/step - loss: 0.6123 - accuracy: 9.3632e-05 - val_loss: 1.5494 - val_accuracy: 2.7273e-04\n",
      "Epoch 10/10\n",
      "419/419 [==============================] - 15s 36ms/step - loss: 0.5131 - accuracy: 4.5011e-04 - val_loss: 1.6452 - val_accuracy: 3.9394e-04\n"
     ]
    }
   ],
   "source": [
    "model_history=model.fit(X_train, y_train, batch_size=batch_size,epochs = nb_epochs, verbose = 1, validation_data = (X_test, y_test))"
   ]
  },
  {
   "cell_type": "code",
   "execution_count": 143,
   "metadata": {},
   "outputs": [],
   "source": [
    "test = unpickle(\"test.pkl\")\n",
    "test_data = np.array(test[\"data\"])"
   ]
  },
  {
   "cell_type": "code",
   "execution_count": 144,
   "metadata": {},
   "outputs": [
    {
     "name": "stdout",
     "output_type": "stream",
     "text": [
      "(2000, 12288)\n",
      "(2000, 64, 64, 3)\n"
     ]
    }
   ],
   "source": [
    "b = test_data.copy()\n",
    "print(b.shape)\n",
    "reshape_test_data = np.reshape(b, (-1, 64, 64, 3))\n",
    "print(reshape_test_data.shape)"
   ]
  },
  {
   "cell_type": "code",
   "execution_count": 145,
   "metadata": {},
   "outputs": [
    {
     "name": "stdout",
     "output_type": "stream",
     "text": [
      "(2000, 64, 64, 3)\n"
     ]
    }
   ],
   "source": [
    "#normalize and change to float 32 for training\n",
    "normal_test_reshape = reshape_test_data / 255\n",
    "normal_test_reshape.astype('float32')\n",
    "print(normal_test_reshape.shape)\n",
    "#print(normal_test_reshape[0])"
   ]
  },
  {
   "cell_type": "code",
   "execution_count": 146,
   "metadata": {},
   "outputs": [],
   "source": [
    "test_image_val = 301"
   ]
  },
  {
   "cell_type": "code",
   "execution_count": 147,
   "metadata": {},
   "outputs": [
    {
     "name": "stdout",
     "output_type": "stream",
     "text": [
      "[1.3597388e-02 1.2946068e-01 1.0327698e-05 4.1780297e-02 4.7115274e-05\n",
      " 8.1048161e-01 9.7333448e-04 3.3350876e-03 2.2618115e-04 8.7907327e-05]\n",
      "6\n"
     ]
    }
   ],
   "source": [
    "y_pred = cnn.predict(normal_test_reshape)\n",
    "print(y_pred[test_image_val])\n",
    "zero_max_index = np.argmax(y_pred[test_image_val]) + 1\n",
    "print(zero_max_index)"
   ]
  },
  {
   "cell_type": "code",
   "execution_count": 148,
   "metadata": {},
   "outputs": [],
   "source": [
    "def show_test_image(idx, test):\n",
    "    img = test[\"data\"][idx]\n",
    "    img = np.dstack((img[:4096], img[4096:8192], img[8192:])).reshape(64,64,3)\n",
    "    plt.imshow(img)\n",
    "    plt.show()"
   ]
  },
  {
   "cell_type": "code",
   "execution_count": 149,
   "metadata": {},
   "outputs": [
    {
     "data": {
      "image/png": "[encoded data removed]",
      "text/plain": [
       "<Figure size 432x288 with 1 Axes>"
      ]
     },
     "metadata": {
      "needs_background": "light"
     },
     "output_type": "display_data"
    }
   ],
   "source": [
    "show_test_image(test_image_val, test)"
   ]
  },
  {
   "cell_type": "code",
   "execution_count": 150,
   "metadata": {},
   "outputs": [
    {
     "name": "stdout",
     "output_type": "stream",
     "text": [
      "        id  label\n",
      "0        0      4\n",
      "1        1      1\n",
      "2        2      8\n",
      "3        3      2\n",
      "4        4     10\n",
      "...    ...    ...\n",
      "1995  1995      6\n",
      "1996  1996      9\n",
      "1997  1997      9\n",
      "1998  1998      8\n",
      "1999  1999      8\n",
      "\n",
      "[2000 rows x 2 columns]\n"
     ]
    }
   ],
   "source": [
    "test_len = len(test[\"data\"])\n",
    "data_list = []\n",
    "for i in range(test_len):\n",
    "  max_index = np.argmax(y_pred[i]) + 1\n",
    "  tmp_tuple = (i, max_index)\n",
    "  data_list.append(tmp_tuple)\n",
    "\n",
    "df = pd.DataFrame(data_list, columns =['id', 'label'])\n",
    "print(df)"
   ]
  },
  {
   "cell_type": "code",
   "execution_count": 151,
   "metadata": {},
   "outputs": [
    {
     "data": {
      "image/png": "[encoded data removed]",
      "text/plain": [
       "<Figure size 576x576 with 2 Axes>"
      ]
     },
     "metadata": {
      "needs_background": "light"
     },
     "output_type": "display_data"
    }
   ],
   "source": [
    "acc = model_history.history['accuracy']\n",
    "val_acc = model_history.history['val_accuracy']\n",
    "\n",
    "loss = model_history.history['loss']\n",
    "val_loss = model_history.history['val_loss']\n",
    "\n",
    "epochs_range = range(0,10)\n",
    "\n",
    "plt.figure(figsize=(8, 8))\n",
    "plt.subplot(1, 2, 1)\n",
    "plt.plot(epochs_range, acc, label='Training Accuracy')\n",
    "plt.plot(epochs_range, val_acc, label='Validation Accuracy')\n",
    "plt.legend(loc='lower right')\n",
    "plt.title('Training and Validation Accuracy')\n",
    "\n",
    "plt.subplot(1, 2, 2)\n",
    "plt.plot(epochs_range, loss, label='Training Loss')\n",
    "plt.plot(epochs_range, val_loss, label='Validation Loss')\n",
    "plt.legend(loc='upper right')\n",
    "plt.title('Training and Validation Loss')\n",
    "plt.show()"
   ]
  },
  {
   "cell_type": "code",
   "execution_count": null,
   "metadata": {},
   "outputs": [],
   "source": []
  }
 ],
 "metadata": {
  "kernelspec": {
   "display_name": "Python 3",
   "language": "python",
   "name": "python3"
  },
  "language_info": {
   "codemirror_mode": {
    "name": "ipython",
    "version": 3
   },
   "file_extension": ".py",
   "mimetype": "text/x-python",
   "name": "python",
   "nbconvert_exporter": "python",
   "pygments_lexer": "ipython3",
   "version": "3.8.3"
  }
 },
 "nbformat": 4,
 "nbformat_minor": 4
}
