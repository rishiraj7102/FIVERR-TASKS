{
 "cells": [
  {
   "cell_type": "markdown",
   "metadata": {},
   "source": [
    "# Importing Libraries"
   ]
  },
  {
   "cell_type": "code",
   "execution_count": 1,
   "metadata": {},
   "outputs": [],
   "source": [
    "from sklearn.linear_model import LinearRegression,LogisticRegression\n",
    "from sklearn.svm import SVC\n",
    "from sklearn.neighbors import KNeighborsClassifier\n",
    "from sklearn.ensemble import RandomForestClassifier\n",
    "from sklearn.naive_bayes import GaussianNB\n",
    "from sklearn.model_selection import cross_val_score\n",
    "import numpy as np\n",
    "import pandas as pd\n",
    "import matplotlib.pyplot as plt\n",
    "%matplotlib inline"
   ]
  },
  {
   "cell_type": "markdown",
   "metadata": {},
   "source": [
    "# Importing Data using Pandas"
   ]
  },
  {
   "cell_type": "code",
   "execution_count": 2,
   "metadata": {},
   "outputs": [
    {
     "data": {
      "text/html": [
       "<div>\n",
       "<style scoped>\n",
       "    .dataframe tbody tr th:only-of-type {\n",
       "        vertical-align: middle;\n",
       "    }\n",
       "\n",
       "    .dataframe tbody tr th {\n",
       "        vertical-align: top;\n",
       "    }\n",
       "\n",
       "    .dataframe thead th {\n",
       "        text-align: right;\n",
       "    }\n",
       "</style>\n",
       "<table border=\"1\" class=\"dataframe\">\n",
       "  <thead>\n",
       "    <tr style=\"text-align: right;\">\n",
       "      <th></th>\n",
       "      <th>pid</th>\n",
       "      <th>cid</th>\n",
       "      <th>time</th>\n",
       "      <th>indexFinger.X</th>\n",
       "      <th>indexFinger.Y</th>\n",
       "      <th>indexFinger.Z</th>\n",
       "      <th>hand.X</th>\n",
       "      <th>hand.Y</th>\n",
       "      <th>hand.Z</th>\n",
       "      <th>forearm.X</th>\n",
       "      <th>...</th>\n",
       "      <th>upperArmO.Z</th>\n",
       "      <th>rightShoulderO.X</th>\n",
       "      <th>rightShoulderO.Y</th>\n",
       "      <th>rightShoulderO.Z</th>\n",
       "      <th>hmdO.X</th>\n",
       "      <th>hmdO.Y</th>\n",
       "      <th>hmdO.Z</th>\n",
       "      <th>leftShoulderO.X</th>\n",
       "      <th>leftShoulderO.Y</th>\n",
       "      <th>leftShoulderO.Z</th>\n",
       "    </tr>\n",
       "  </thead>\n",
       "  <tbody>\n",
       "    <tr>\n",
       "      <th>0</th>\n",
       "      <td>1</td>\n",
       "      <td>0</td>\n",
       "      <td>5.4313</td>\n",
       "      <td>0.027433</td>\n",
       "      <td>0.933357</td>\n",
       "      <td>0.349472</td>\n",
       "      <td>0.051850</td>\n",
       "      <td>0.895263</td>\n",
       "      <td>0.245369</td>\n",
       "      <td>0.086555</td>\n",
       "      <td>...</td>\n",
       "      <td>-0.190203</td>\n",
       "      <td>-0.002935</td>\n",
       "      <td>0.366088</td>\n",
       "      <td>0.037051</td>\n",
       "      <td>-0.048971</td>\n",
       "      <td>-0.007790</td>\n",
       "      <td>0.010917</td>\n",
       "      <td>-0.124852</td>\n",
       "      <td>-0.403729</td>\n",
       "      <td>-0.102975</td>\n",
       "    </tr>\n",
       "    <tr>\n",
       "      <th>1</th>\n",
       "      <td>1</td>\n",
       "      <td>1</td>\n",
       "      <td>2.2326</td>\n",
       "      <td>0.222986</td>\n",
       "      <td>0.736402</td>\n",
       "      <td>0.328534</td>\n",
       "      <td>0.187769</td>\n",
       "      <td>0.745385</td>\n",
       "      <td>0.221451</td>\n",
       "      <td>0.185908</td>\n",
       "      <td>...</td>\n",
       "      <td>-0.314556</td>\n",
       "      <td>-0.022165</td>\n",
       "      <td>0.490407</td>\n",
       "      <td>-0.060302</td>\n",
       "      <td>-0.105206</td>\n",
       "      <td>-0.129680</td>\n",
       "      <td>0.030141</td>\n",
       "      <td>-0.137058</td>\n",
       "      <td>-0.335889</td>\n",
       "      <td>-0.093367</td>\n",
       "    </tr>\n",
       "    <tr>\n",
       "      <th>2</th>\n",
       "      <td>1</td>\n",
       "      <td>2</td>\n",
       "      <td>2.0435</td>\n",
       "      <td>0.030588</td>\n",
       "      <td>0.928704</td>\n",
       "      <td>0.367933</td>\n",
       "      <td>0.047651</td>\n",
       "      <td>0.889884</td>\n",
       "      <td>0.263894</td>\n",
       "      <td>0.085004</td>\n",
       "      <td>...</td>\n",
       "      <td>-0.199041</td>\n",
       "      <td>0.013664</td>\n",
       "      <td>0.296288</td>\n",
       "      <td>0.037047</td>\n",
       "      <td>-0.074365</td>\n",
       "      <td>0.019567</td>\n",
       "      <td>0.009265</td>\n",
       "      <td>-0.119852</td>\n",
       "      <td>-0.448962</td>\n",
       "      <td>-0.108039</td>\n",
       "    </tr>\n",
       "    <tr>\n",
       "      <th>3</th>\n",
       "      <td>1</td>\n",
       "      <td>3</td>\n",
       "      <td>2.2542</td>\n",
       "      <td>0.186396</td>\n",
       "      <td>1.095677</td>\n",
       "      <td>0.252556</td>\n",
       "      <td>0.162737</td>\n",
       "      <td>1.012611</td>\n",
       "      <td>0.179633</td>\n",
       "      <td>0.164037</td>\n",
       "      <td>...</td>\n",
       "      <td>-0.088130</td>\n",
       "      <td>0.046375</td>\n",
       "      <td>-0.336142</td>\n",
       "      <td>-0.036984</td>\n",
       "      <td>0.022072</td>\n",
       "      <td>-0.152640</td>\n",
       "      <td>-0.007073</td>\n",
       "      <td>-0.115766</td>\n",
       "      <td>-0.410206</td>\n",
       "      <td>-0.082019</td>\n",
       "    </tr>\n",
       "    <tr>\n",
       "      <th>4</th>\n",
       "      <td>1</td>\n",
       "      <td>4</td>\n",
       "      <td>2.9104</td>\n",
       "      <td>-0.078487</td>\n",
       "      <td>1.057077</td>\n",
       "      <td>0.297237</td>\n",
       "      <td>-0.035096</td>\n",
       "      <td>0.984453</td>\n",
       "      <td>0.222878</td>\n",
       "      <td>0.021838</td>\n",
       "      <td>...</td>\n",
       "      <td>-0.126742</td>\n",
       "      <td>0.058604</td>\n",
       "      <td>-0.164009</td>\n",
       "      <td>-0.044563</td>\n",
       "      <td>-0.009818</td>\n",
       "      <td>0.138230</td>\n",
       "      <td>-0.006361</td>\n",
       "      <td>-0.093350</td>\n",
       "      <td>-0.571542</td>\n",
       "      <td>-0.104874</td>\n",
       "    </tr>\n",
       "  </tbody>\n",
       "</table>\n",
       "<p>5 rows × 45 columns</p>\n",
       "</div>"
      ],
      "text/plain": [
       "   pid  cid    time  indexFinger.X  indexFinger.Y  indexFinger.Z    hand.X  \\\n",
       "0    1    0  5.4313       0.027433       0.933357       0.349472  0.051850   \n",
       "1    1    1  2.2326       0.222986       0.736402       0.328534  0.187769   \n",
       "2    1    2  2.0435       0.030588       0.928704       0.367933  0.047651   \n",
       "3    1    3  2.2542       0.186396       1.095677       0.252556  0.162737   \n",
       "4    1    4  2.9104      -0.078487       1.057077       0.297237 -0.035096   \n",
       "\n",
       "     hand.Y    hand.Z  forearm.X  ...  upperArmO.Z  rightShoulderO.X  \\\n",
       "0  0.895263  0.245369   0.086555  ...    -0.190203         -0.002935   \n",
       "1  0.745385  0.221451   0.185908  ...    -0.314556         -0.022165   \n",
       "2  0.889884  0.263894   0.085004  ...    -0.199041          0.013664   \n",
       "3  1.012611  0.179633   0.164037  ...    -0.088130          0.046375   \n",
       "4  0.984453  0.222878   0.021838  ...    -0.126742          0.058604   \n",
       "\n",
       "   rightShoulderO.Y  rightShoulderO.Z    hmdO.X    hmdO.Y    hmdO.Z  \\\n",
       "0          0.366088          0.037051 -0.048971 -0.007790  0.010917   \n",
       "1          0.490407         -0.060302 -0.105206 -0.129680  0.030141   \n",
       "2          0.296288          0.037047 -0.074365  0.019567  0.009265   \n",
       "3         -0.336142         -0.036984  0.022072 -0.152640 -0.007073   \n",
       "4         -0.164009         -0.044563 -0.009818  0.138230 -0.006361   \n",
       "\n",
       "   leftShoulderO.X  leftShoulderO.Y  leftShoulderO.Z  \n",
       "0        -0.124852        -0.403729        -0.102975  \n",
       "1        -0.137058        -0.335889        -0.093367  \n",
       "2        -0.119852        -0.448962        -0.108039  \n",
       "3        -0.115766        -0.410206        -0.082019  \n",
       "4        -0.093350        -0.571542        -0.104874  \n",
       "\n",
       "[5 rows x 45 columns]"
      ]
     },
     "execution_count": 2,
     "metadata": {},
     "output_type": "execute_result"
    }
   ],
   "source": [
    "df=pd.read_csv('collections.csv')\n",
    "df.head()"
   ]
  },
  {
   "cell_type": "code",
   "execution_count": 3,
   "metadata": {},
   "outputs": [
    {
     "data": {
      "text/html": [
       "<div>\n",
       "<style scoped>\n",
       "    .dataframe tbody tr th:only-of-type {\n",
       "        vertical-align: middle;\n",
       "    }\n",
       "\n",
       "    .dataframe tbody tr th {\n",
       "        vertical-align: top;\n",
       "    }\n",
       "\n",
       "    .dataframe thead th {\n",
       "        text-align: right;\n",
       "    }\n",
       "</style>\n",
       "<table border=\"1\" class=\"dataframe\">\n",
       "  <thead>\n",
       "    <tr style=\"text-align: right;\">\n",
       "      <th></th>\n",
       "      <th>cid</th>\n",
       "      <th>pid</th>\n",
       "      <th>target.X</th>\n",
       "      <th>target.Y</th>\n",
       "      <th>target.Z</th>\n",
       "    </tr>\n",
       "  </thead>\n",
       "  <tbody>\n",
       "    <tr>\n",
       "      <th>0</th>\n",
       "      <td>0</td>\n",
       "      <td>1</td>\n",
       "      <td>0</td>\n",
       "      <td>1.49</td>\n",
       "      <td>1.5</td>\n",
       "    </tr>\n",
       "    <tr>\n",
       "      <th>1</th>\n",
       "      <td>1</td>\n",
       "      <td>1</td>\n",
       "      <td>1</td>\n",
       "      <td>0.49</td>\n",
       "      <td>1.5</td>\n",
       "    </tr>\n",
       "    <tr>\n",
       "      <th>2</th>\n",
       "      <td>2</td>\n",
       "      <td>1</td>\n",
       "      <td>0</td>\n",
       "      <td>1.49</td>\n",
       "      <td>1.5</td>\n",
       "    </tr>\n",
       "    <tr>\n",
       "      <th>3</th>\n",
       "      <td>3</td>\n",
       "      <td>1</td>\n",
       "      <td>1</td>\n",
       "      <td>2.49</td>\n",
       "      <td>1.5</td>\n",
       "    </tr>\n",
       "    <tr>\n",
       "      <th>4</th>\n",
       "      <td>4</td>\n",
       "      <td>1</td>\n",
       "      <td>-1</td>\n",
       "      <td>2.49</td>\n",
       "      <td>2.5</td>\n",
       "    </tr>\n",
       "  </tbody>\n",
       "</table>\n",
       "</div>"
      ],
      "text/plain": [
       "   cid  pid  target.X  target.Y  target.Z\n",
       "0    0    1         0      1.49       1.5\n",
       "1    1    1         1      0.49       1.5\n",
       "2    2    1         0      1.49       1.5\n",
       "3    3    1         1      2.49       1.5\n",
       "4    4    1        -1      2.49       2.5"
      ]
     },
     "execution_count": 3,
     "metadata": {},
     "output_type": "execute_result"
    }
   ],
   "source": [
    "target=pd.read_csv('targets.csv')\n",
    "target.head()"
   ]
  },
  {
   "cell_type": "markdown",
   "metadata": {},
   "source": [
    "# Merging the two tables"
   ]
  },
  {
   "cell_type": "code",
   "execution_count": 4,
   "metadata": {},
   "outputs": [],
   "source": [
    "df_merged=pd.merge(df,target,on=['pid','cid'])"
   ]
  },
  {
   "cell_type": "code",
   "execution_count": 5,
   "metadata": {},
   "outputs": [
    {
     "data": {
      "text/html": [
       "<div>\n",
       "<style scoped>\n",
       "    .dataframe tbody tr th:only-of-type {\n",
       "        vertical-align: middle;\n",
       "    }\n",
       "\n",
       "    .dataframe tbody tr th {\n",
       "        vertical-align: top;\n",
       "    }\n",
       "\n",
       "    .dataframe thead th {\n",
       "        text-align: right;\n",
       "    }\n",
       "</style>\n",
       "<table border=\"1\" class=\"dataframe\">\n",
       "  <thead>\n",
       "    <tr style=\"text-align: right;\">\n",
       "      <th></th>\n",
       "      <th>pid</th>\n",
       "      <th>cid</th>\n",
       "      <th>time</th>\n",
       "      <th>indexFinger.X</th>\n",
       "      <th>indexFinger.Y</th>\n",
       "      <th>indexFinger.Z</th>\n",
       "      <th>hand.X</th>\n",
       "      <th>hand.Y</th>\n",
       "      <th>hand.Z</th>\n",
       "      <th>forearm.X</th>\n",
       "      <th>...</th>\n",
       "      <th>rightShoulderO.Z</th>\n",
       "      <th>hmdO.X</th>\n",
       "      <th>hmdO.Y</th>\n",
       "      <th>hmdO.Z</th>\n",
       "      <th>leftShoulderO.X</th>\n",
       "      <th>leftShoulderO.Y</th>\n",
       "      <th>leftShoulderO.Z</th>\n",
       "      <th>target.X</th>\n",
       "      <th>target.Y</th>\n",
       "      <th>target.Z</th>\n",
       "    </tr>\n",
       "  </thead>\n",
       "  <tbody>\n",
       "    <tr>\n",
       "      <th>0</th>\n",
       "      <td>1</td>\n",
       "      <td>0</td>\n",
       "      <td>5.4313</td>\n",
       "      <td>0.027433</td>\n",
       "      <td>0.933357</td>\n",
       "      <td>0.349472</td>\n",
       "      <td>0.051850</td>\n",
       "      <td>0.895263</td>\n",
       "      <td>0.245369</td>\n",
       "      <td>0.086555</td>\n",
       "      <td>...</td>\n",
       "      <td>0.037051</td>\n",
       "      <td>-0.048971</td>\n",
       "      <td>-0.007790</td>\n",
       "      <td>0.010917</td>\n",
       "      <td>-0.124852</td>\n",
       "      <td>-0.403729</td>\n",
       "      <td>-0.102975</td>\n",
       "      <td>0</td>\n",
       "      <td>1.49</td>\n",
       "      <td>1.5</td>\n",
       "    </tr>\n",
       "    <tr>\n",
       "      <th>1</th>\n",
       "      <td>1</td>\n",
       "      <td>1</td>\n",
       "      <td>2.2326</td>\n",
       "      <td>0.222986</td>\n",
       "      <td>0.736402</td>\n",
       "      <td>0.328534</td>\n",
       "      <td>0.187769</td>\n",
       "      <td>0.745385</td>\n",
       "      <td>0.221451</td>\n",
       "      <td>0.185908</td>\n",
       "      <td>...</td>\n",
       "      <td>-0.060302</td>\n",
       "      <td>-0.105206</td>\n",
       "      <td>-0.129680</td>\n",
       "      <td>0.030141</td>\n",
       "      <td>-0.137058</td>\n",
       "      <td>-0.335889</td>\n",
       "      <td>-0.093367</td>\n",
       "      <td>1</td>\n",
       "      <td>0.49</td>\n",
       "      <td>1.5</td>\n",
       "    </tr>\n",
       "    <tr>\n",
       "      <th>2</th>\n",
       "      <td>1</td>\n",
       "      <td>2</td>\n",
       "      <td>2.0435</td>\n",
       "      <td>0.030588</td>\n",
       "      <td>0.928704</td>\n",
       "      <td>0.367933</td>\n",
       "      <td>0.047651</td>\n",
       "      <td>0.889884</td>\n",
       "      <td>0.263894</td>\n",
       "      <td>0.085004</td>\n",
       "      <td>...</td>\n",
       "      <td>0.037047</td>\n",
       "      <td>-0.074365</td>\n",
       "      <td>0.019567</td>\n",
       "      <td>0.009265</td>\n",
       "      <td>-0.119852</td>\n",
       "      <td>-0.448962</td>\n",
       "      <td>-0.108039</td>\n",
       "      <td>0</td>\n",
       "      <td>1.49</td>\n",
       "      <td>1.5</td>\n",
       "    </tr>\n",
       "    <tr>\n",
       "      <th>3</th>\n",
       "      <td>1</td>\n",
       "      <td>3</td>\n",
       "      <td>2.2542</td>\n",
       "      <td>0.186396</td>\n",
       "      <td>1.095677</td>\n",
       "      <td>0.252556</td>\n",
       "      <td>0.162737</td>\n",
       "      <td>1.012611</td>\n",
       "      <td>0.179633</td>\n",
       "      <td>0.164037</td>\n",
       "      <td>...</td>\n",
       "      <td>-0.036984</td>\n",
       "      <td>0.022072</td>\n",
       "      <td>-0.152640</td>\n",
       "      <td>-0.007073</td>\n",
       "      <td>-0.115766</td>\n",
       "      <td>-0.410206</td>\n",
       "      <td>-0.082019</td>\n",
       "      <td>1</td>\n",
       "      <td>2.49</td>\n",
       "      <td>1.5</td>\n",
       "    </tr>\n",
       "    <tr>\n",
       "      <th>4</th>\n",
       "      <td>1</td>\n",
       "      <td>4</td>\n",
       "      <td>2.9104</td>\n",
       "      <td>-0.078487</td>\n",
       "      <td>1.057077</td>\n",
       "      <td>0.297237</td>\n",
       "      <td>-0.035096</td>\n",
       "      <td>0.984453</td>\n",
       "      <td>0.222878</td>\n",
       "      <td>0.021838</td>\n",
       "      <td>...</td>\n",
       "      <td>-0.044563</td>\n",
       "      <td>-0.009818</td>\n",
       "      <td>0.138230</td>\n",
       "      <td>-0.006361</td>\n",
       "      <td>-0.093350</td>\n",
       "      <td>-0.571542</td>\n",
       "      <td>-0.104874</td>\n",
       "      <td>-1</td>\n",
       "      <td>2.49</td>\n",
       "      <td>2.5</td>\n",
       "    </tr>\n",
       "    <tr>\n",
       "      <th>...</th>\n",
       "      <td>...</td>\n",
       "      <td>...</td>\n",
       "      <td>...</td>\n",
       "      <td>...</td>\n",
       "      <td>...</td>\n",
       "      <td>...</td>\n",
       "      <td>...</td>\n",
       "      <td>...</td>\n",
       "      <td>...</td>\n",
       "      <td>...</td>\n",
       "      <td>...</td>\n",
       "      <td>...</td>\n",
       "      <td>...</td>\n",
       "      <td>...</td>\n",
       "      <td>...</td>\n",
       "      <td>...</td>\n",
       "      <td>...</td>\n",
       "      <td>...</td>\n",
       "      <td>...</td>\n",
       "      <td>...</td>\n",
       "      <td>...</td>\n",
       "    </tr>\n",
       "    <tr>\n",
       "      <th>1750</th>\n",
       "      <td>13</td>\n",
       "      <td>130</td>\n",
       "      <td>1.2670</td>\n",
       "      <td>0.127980</td>\n",
       "      <td>0.805490</td>\n",
       "      <td>0.375001</td>\n",
       "      <td>0.113389</td>\n",
       "      <td>0.805587</td>\n",
       "      <td>0.258079</td>\n",
       "      <td>0.109436</td>\n",
       "      <td>...</td>\n",
       "      <td>-0.138837</td>\n",
       "      <td>-0.075221</td>\n",
       "      <td>-0.126655</td>\n",
       "      <td>-0.040035</td>\n",
       "      <td>0.103612</td>\n",
       "      <td>0.450116</td>\n",
       "      <td>0.089577</td>\n",
       "      <td>1</td>\n",
       "      <td>0.49</td>\n",
       "      <td>3.5</td>\n",
       "    </tr>\n",
       "    <tr>\n",
       "      <th>1751</th>\n",
       "      <td>13</td>\n",
       "      <td>131</td>\n",
       "      <td>1.2880</td>\n",
       "      <td>-0.103204</td>\n",
       "      <td>1.039377</td>\n",
       "      <td>0.282554</td>\n",
       "      <td>-0.056924</td>\n",
       "      <td>0.966288</td>\n",
       "      <td>0.205039</td>\n",
       "      <td>-0.010729</td>\n",
       "      <td>...</td>\n",
       "      <td>-0.161561</td>\n",
       "      <td>0.029986</td>\n",
       "      <td>0.070127</td>\n",
       "      <td>0.004378</td>\n",
       "      <td>0.103444</td>\n",
       "      <td>0.585615</td>\n",
       "      <td>0.087713</td>\n",
       "      <td>-1</td>\n",
       "      <td>2.49</td>\n",
       "      <td>3.5</td>\n",
       "    </tr>\n",
       "    <tr>\n",
       "      <th>1752</th>\n",
       "      <td>13</td>\n",
       "      <td>132</td>\n",
       "      <td>1.1210</td>\n",
       "      <td>-0.002564</td>\n",
       "      <td>1.032143</td>\n",
       "      <td>0.314632</td>\n",
       "      <td>0.020999</td>\n",
       "      <td>0.965270</td>\n",
       "      <td>0.220223</td>\n",
       "      <td>0.043993</td>\n",
       "      <td>...</td>\n",
       "      <td>-0.165613</td>\n",
       "      <td>0.002959</td>\n",
       "      <td>-0.038942</td>\n",
       "      <td>-0.038431</td>\n",
       "      <td>0.107274</td>\n",
       "      <td>0.528982</td>\n",
       "      <td>0.084923</td>\n",
       "      <td>0</td>\n",
       "      <td>2.49</td>\n",
       "      <td>3.5</td>\n",
       "    </tr>\n",
       "    <tr>\n",
       "      <th>1753</th>\n",
       "      <td>13</td>\n",
       "      <td>133</td>\n",
       "      <td>2.6650</td>\n",
       "      <td>-0.135052</td>\n",
       "      <td>1.037089</td>\n",
       "      <td>0.304865</td>\n",
       "      <td>-0.081800</td>\n",
       "      <td>0.974012</td>\n",
       "      <td>0.219963</td>\n",
       "      <td>-0.043241</td>\n",
       "      <td>...</td>\n",
       "      <td>-0.173299</td>\n",
       "      <td>-0.011723</td>\n",
       "      <td>0.102930</td>\n",
       "      <td>-0.038536</td>\n",
       "      <td>0.113416</td>\n",
       "      <td>0.573764</td>\n",
       "      <td>0.106144</td>\n",
       "      <td>-1</td>\n",
       "      <td>2.49</td>\n",
       "      <td>3.5</td>\n",
       "    </tr>\n",
       "    <tr>\n",
       "      <th>1754</th>\n",
       "      <td>13</td>\n",
       "      <td>134</td>\n",
       "      <td>1.0110</td>\n",
       "      <td>-0.005458</td>\n",
       "      <td>0.922803</td>\n",
       "      <td>0.363993</td>\n",
       "      <td>0.021246</td>\n",
       "      <td>0.886517</td>\n",
       "      <td>0.254696</td>\n",
       "      <td>0.040414</td>\n",
       "      <td>...</td>\n",
       "      <td>-0.160074</td>\n",
       "      <td>-0.055674</td>\n",
       "      <td>-0.049702</td>\n",
       "      <td>-0.048589</td>\n",
       "      <td>0.105635</td>\n",
       "      <td>0.508864</td>\n",
       "      <td>0.082404</td>\n",
       "      <td>0</td>\n",
       "      <td>1.49</td>\n",
       "      <td>3.5</td>\n",
       "    </tr>\n",
       "  </tbody>\n",
       "</table>\n",
       "<p>1755 rows × 48 columns</p>\n",
       "</div>"
      ],
      "text/plain": [
       "      pid  cid    time  indexFinger.X  indexFinger.Y  indexFinger.Z    hand.X  \\\n",
       "0       1    0  5.4313       0.027433       0.933357       0.349472  0.051850   \n",
       "1       1    1  2.2326       0.222986       0.736402       0.328534  0.187769   \n",
       "2       1    2  2.0435       0.030588       0.928704       0.367933  0.047651   \n",
       "3       1    3  2.2542       0.186396       1.095677       0.252556  0.162737   \n",
       "4       1    4  2.9104      -0.078487       1.057077       0.297237 -0.035096   \n",
       "...   ...  ...     ...            ...            ...            ...       ...   \n",
       "1750   13  130  1.2670       0.127980       0.805490       0.375001  0.113389   \n",
       "1751   13  131  1.2880      -0.103204       1.039377       0.282554 -0.056924   \n",
       "1752   13  132  1.1210      -0.002564       1.032143       0.314632  0.020999   \n",
       "1753   13  133  2.6650      -0.135052       1.037089       0.304865 -0.081800   \n",
       "1754   13  134  1.0110      -0.005458       0.922803       0.363993  0.021246   \n",
       "\n",
       "        hand.Y    hand.Z  forearm.X  ...  rightShoulderO.Z    hmdO.X  \\\n",
       "0     0.895263  0.245369   0.086555  ...          0.037051 -0.048971   \n",
       "1     0.745385  0.221451   0.185908  ...         -0.060302 -0.105206   \n",
       "2     0.889884  0.263894   0.085004  ...          0.037047 -0.074365   \n",
       "3     1.012611  0.179633   0.164037  ...         -0.036984  0.022072   \n",
       "4     0.984453  0.222878   0.021838  ...         -0.044563 -0.009818   \n",
       "...        ...       ...        ...  ...               ...       ...   \n",
       "1750  0.805587  0.258079   0.109436  ...         -0.138837 -0.075221   \n",
       "1751  0.966288  0.205039  -0.010729  ...         -0.161561  0.029986   \n",
       "1752  0.965270  0.220223   0.043993  ...         -0.165613  0.002959   \n",
       "1753  0.974012  0.219963  -0.043241  ...         -0.173299 -0.011723   \n",
       "1754  0.886517  0.254696   0.040414  ...         -0.160074 -0.055674   \n",
       "\n",
       "        hmdO.Y    hmdO.Z  leftShoulderO.X  leftShoulderO.Y  leftShoulderO.Z  \\\n",
       "0    -0.007790  0.010917        -0.124852        -0.403729        -0.102975   \n",
       "1    -0.129680  0.030141        -0.137058        -0.335889        -0.093367   \n",
       "2     0.019567  0.009265        -0.119852        -0.448962        -0.108039   \n",
       "3    -0.152640 -0.007073        -0.115766        -0.410206        -0.082019   \n",
       "4     0.138230 -0.006361        -0.093350        -0.571542        -0.104874   \n",
       "...        ...       ...              ...              ...              ...   \n",
       "1750 -0.126655 -0.040035         0.103612         0.450116         0.089577   \n",
       "1751  0.070127  0.004378         0.103444         0.585615         0.087713   \n",
       "1752 -0.038942 -0.038431         0.107274         0.528982         0.084923   \n",
       "1753  0.102930 -0.038536         0.113416         0.573764         0.106144   \n",
       "1754 -0.049702 -0.048589         0.105635         0.508864         0.082404   \n",
       "\n",
       "      target.X  target.Y  target.Z  \n",
       "0            0      1.49       1.5  \n",
       "1            1      0.49       1.5  \n",
       "2            0      1.49       1.5  \n",
       "3            1      2.49       1.5  \n",
       "4           -1      2.49       2.5  \n",
       "...        ...       ...       ...  \n",
       "1750         1      0.49       3.5  \n",
       "1751        -1      2.49       3.5  \n",
       "1752         0      2.49       3.5  \n",
       "1753        -1      2.49       3.5  \n",
       "1754         0      1.49       3.5  \n",
       "\n",
       "[1755 rows x 48 columns]"
      ]
     },
     "execution_count": 5,
     "metadata": {},
     "output_type": "execute_result"
    }
   ],
   "source": [
    "df_merged"
   ]
  },
  {
   "cell_type": "code",
   "execution_count": 6,
   "metadata": {},
   "outputs": [
    {
     "data": {
      "text/plain": [
       "Index(['pid', 'cid', 'time', 'indexFinger.X', 'indexFinger.Y', 'indexFinger.Z',\n",
       "       'hand.X', 'hand.Y', 'hand.Z', 'forearm.X', 'forearm.Y', 'forearm.Z',\n",
       "       'upperArm.X', 'upperArm.Y', 'upperArm.Z', 'rightShoulder.X',\n",
       "       'rightShoulder.Y', 'rightShoulder.Z', 'hmd.X', 'hmd.Y', 'hmd.Z',\n",
       "       'leftShoulder.X', 'leftShoulder.Y', 'leftShoulder.Z', 'indexFingerO.X',\n",
       "       'indexFingerO.Y', 'indexFingerO.Z', 'handO.X', 'handO.Y', 'handO.Z',\n",
       "       'forearmO.X', 'forearmO.Y', 'forearmO.Z', 'upperArmO.X', 'upperArmO.Y',\n",
       "       'upperArmO.Z', 'rightShoulderO.X', 'rightShoulderO.Y',\n",
       "       'rightShoulderO.Z', 'hmdO.X', 'hmdO.Y', 'hmdO.Z', 'leftShoulderO.X',\n",
       "       'leftShoulderO.Y', 'leftShoulderO.Z', 'target.X', 'target.Y',\n",
       "       'target.Z'],\n",
       "      dtype='object')"
      ]
     },
     "execution_count": 6,
     "metadata": {},
     "output_type": "execute_result"
    }
   ],
   "source": [
    "df_merged.columns"
   ]
  },
  {
   "cell_type": "markdown",
   "metadata": {},
   "source": [
    "## Separating data as per Y coordinate"
   ]
  },
  {
   "cell_type": "code",
   "execution_count": 7,
   "metadata": {},
   "outputs": [],
   "source": [
    "df_features=df_merged[['indexFinger.X', 'indexFinger.Y', 'indexFinger.Z']]\n",
    "y=pd.DataFrame(df_merged['target.Y'])"
   ]
  },
  {
   "cell_type": "code",
   "execution_count": 8,
   "metadata": {},
   "outputs": [
    {
     "data": {
      "text/html": [
       "<div>\n",
       "<style scoped>\n",
       "    .dataframe tbody tr th:only-of-type {\n",
       "        vertical-align: middle;\n",
       "    }\n",
       "\n",
       "    .dataframe tbody tr th {\n",
       "        vertical-align: top;\n",
       "    }\n",
       "\n",
       "    .dataframe thead th {\n",
       "        text-align: right;\n",
       "    }\n",
       "</style>\n",
       "<table border=\"1\" class=\"dataframe\">\n",
       "  <thead>\n",
       "    <tr style=\"text-align: right;\">\n",
       "      <th></th>\n",
       "      <th>target.Y</th>\n",
       "    </tr>\n",
       "  </thead>\n",
       "  <tbody>\n",
       "    <tr>\n",
       "      <th>0</th>\n",
       "      <td>1.49</td>\n",
       "    </tr>\n",
       "    <tr>\n",
       "      <th>1</th>\n",
       "      <td>0.49</td>\n",
       "    </tr>\n",
       "    <tr>\n",
       "      <th>2</th>\n",
       "      <td>1.49</td>\n",
       "    </tr>\n",
       "    <tr>\n",
       "      <th>3</th>\n",
       "      <td>2.49</td>\n",
       "    </tr>\n",
       "    <tr>\n",
       "      <th>4</th>\n",
       "      <td>2.49</td>\n",
       "    </tr>\n",
       "    <tr>\n",
       "      <th>...</th>\n",
       "      <td>...</td>\n",
       "    </tr>\n",
       "    <tr>\n",
       "      <th>1750</th>\n",
       "      <td>0.49</td>\n",
       "    </tr>\n",
       "    <tr>\n",
       "      <th>1751</th>\n",
       "      <td>2.49</td>\n",
       "    </tr>\n",
       "    <tr>\n",
       "      <th>1752</th>\n",
       "      <td>2.49</td>\n",
       "    </tr>\n",
       "    <tr>\n",
       "      <th>1753</th>\n",
       "      <td>2.49</td>\n",
       "    </tr>\n",
       "    <tr>\n",
       "      <th>1754</th>\n",
       "      <td>1.49</td>\n",
       "    </tr>\n",
       "  </tbody>\n",
       "</table>\n",
       "<p>1755 rows × 1 columns</p>\n",
       "</div>"
      ],
      "text/plain": [
       "      target.Y\n",
       "0         1.49\n",
       "1         0.49\n",
       "2         1.49\n",
       "3         2.49\n",
       "4         2.49\n",
       "...        ...\n",
       "1750      0.49\n",
       "1751      2.49\n",
       "1752      2.49\n",
       "1753      2.49\n",
       "1754      1.49\n",
       "\n",
       "[1755 rows x 1 columns]"
      ]
     },
     "execution_count": 8,
     "metadata": {},
     "output_type": "execute_result"
    }
   ],
   "source": [
    "y"
   ]
  },
  {
   "cell_type": "markdown",
   "metadata": {},
   "source": [
    "## Separating data as per Z coordinate"
   ]
  },
  {
   "cell_type": "code",
   "execution_count": 9,
   "metadata": {},
   "outputs": [],
   "source": [
    "y2=pd.DataFrame(df_merged['target.Z'])"
   ]
  },
  {
   "cell_type": "markdown",
   "metadata": {},
   "source": [
    "# Scaling the data "
   ]
  },
  {
   "cell_type": "code",
   "execution_count": 10,
   "metadata": {},
   "outputs": [],
   "source": [
    "from sklearn.preprocessing import StandardScaler, MinMaxScaler\n",
    "scaler=MinMaxScaler()"
   ]
  },
  {
   "cell_type": "code",
   "execution_count": 11,
   "metadata": {},
   "outputs": [],
   "source": [
    "df_features_scaled=scaler.fit_transform(df_features)"
   ]
  },
  {
   "cell_type": "code",
   "execution_count": 12,
   "metadata": {},
   "outputs": [],
   "source": [
    "y_scaled=scaler.fit_transform(y).reshape(-1,1)"
   ]
  },
  {
   "cell_type": "code",
   "execution_count": 13,
   "metadata": {},
   "outputs": [],
   "source": [
    "y2_scaled=scaler.fit_transform(y2).reshape(-1,1)"
   ]
  },
  {
   "cell_type": "code",
   "execution_count": 14,
   "metadata": {},
   "outputs": [
    {
     "data": {
      "text/plain": [
       "array([[0.49733932, 0.64155304, 0.81455007],\n",
       "       [0.85237446, 0.30106612, 0.7673059 ],\n",
       "       [0.50306736, 0.63350915, 0.85620517],\n",
       "       ...,\n",
       "       [0.44287844, 0.81232983, 0.73593765],\n",
       "       [0.2023406 , 0.82088025, 0.71389955],\n",
       "       [0.43762425, 0.62330777, 0.84731502]])"
      ]
     },
     "execution_count": 14,
     "metadata": {},
     "output_type": "execute_result"
    }
   ],
   "source": [
    "df_features_scaled"
   ]
  },
  {
   "cell_type": "code",
   "execution_count": 15,
   "metadata": {},
   "outputs": [
    {
     "data": {
      "text/plain": [
       "array([[0.5],\n",
       "       [0. ],\n",
       "       [0.5],\n",
       "       ...,\n",
       "       [1. ],\n",
       "       [1. ],\n",
       "       [0.5]])"
      ]
     },
     "execution_count": 15,
     "metadata": {},
     "output_type": "execute_result"
    }
   ],
   "source": [
    "y_scaled"
   ]
  },
  {
   "cell_type": "code",
   "execution_count": 16,
   "metadata": {},
   "outputs": [
    {
     "data": {
      "text/plain": [
       "array([[0.],\n",
       "       [0.],\n",
       "       [0.],\n",
       "       ...,\n",
       "       [1.],\n",
       "       [1.],\n",
       "       [1.]])"
      ]
     },
     "execution_count": 16,
     "metadata": {},
     "output_type": "execute_result"
    }
   ],
   "source": [
    "y2_scaled"
   ]
  },
  {
   "cell_type": "markdown",
   "metadata": {},
   "source": [
    "# Creating X and Y by the dataset"
   ]
  },
  {
   "cell_type": "code",
   "execution_count": 17,
   "metadata": {},
   "outputs": [],
   "source": [
    "x=pd.DataFrame(data=df_features_scaled,columns=['Input1','Input2','Input3'])\n",
    "Y=pd.DataFrame(data=y_scaled,columns=['Y-coordinate'])"
   ]
  },
  {
   "cell_type": "code",
   "execution_count": 18,
   "metadata": {},
   "outputs": [],
   "source": [
    "Y2=pd.DataFrame(data=y2_scaled,columns=['Z-Coordinate'])"
   ]
  },
  {
   "cell_type": "markdown",
   "metadata": {},
   "source": [
    "# Creating dummy variables"
   ]
  },
  {
   "cell_type": "code",
   "execution_count": 19,
   "metadata": {},
   "outputs": [],
   "source": [
    "dummies=pd.get_dummies(Y['Y-coordinate'])"
   ]
  },
  {
   "cell_type": "code",
   "execution_count": 20,
   "metadata": {},
   "outputs": [],
   "source": [
    "dummies.rename(columns={0.0:'low',0.5:'middle',1.0:'high'},inplace=True)"
   ]
  },
  {
   "cell_type": "code",
   "execution_count": 21,
   "metadata": {},
   "outputs": [
    {
     "data": {
      "text/html": [
       "<div>\n",
       "<style scoped>\n",
       "    .dataframe tbody tr th:only-of-type {\n",
       "        vertical-align: middle;\n",
       "    }\n",
       "\n",
       "    .dataframe tbody tr th {\n",
       "        vertical-align: top;\n",
       "    }\n",
       "\n",
       "    .dataframe thead th {\n",
       "        text-align: right;\n",
       "    }\n",
       "</style>\n",
       "<table border=\"1\" class=\"dataframe\">\n",
       "  <thead>\n",
       "    <tr style=\"text-align: right;\">\n",
       "      <th></th>\n",
       "      <th>low</th>\n",
       "      <th>middle</th>\n",
       "      <th>high</th>\n",
       "    </tr>\n",
       "  </thead>\n",
       "  <tbody>\n",
       "    <tr>\n",
       "      <th>0</th>\n",
       "      <td>0</td>\n",
       "      <td>1</td>\n",
       "      <td>0</td>\n",
       "    </tr>\n",
       "    <tr>\n",
       "      <th>1</th>\n",
       "      <td>1</td>\n",
       "      <td>0</td>\n",
       "      <td>0</td>\n",
       "    </tr>\n",
       "    <tr>\n",
       "      <th>2</th>\n",
       "      <td>0</td>\n",
       "      <td>1</td>\n",
       "      <td>0</td>\n",
       "    </tr>\n",
       "    <tr>\n",
       "      <th>3</th>\n",
       "      <td>0</td>\n",
       "      <td>0</td>\n",
       "      <td>1</td>\n",
       "    </tr>\n",
       "    <tr>\n",
       "      <th>4</th>\n",
       "      <td>0</td>\n",
       "      <td>0</td>\n",
       "      <td>1</td>\n",
       "    </tr>\n",
       "    <tr>\n",
       "      <th>...</th>\n",
       "      <td>...</td>\n",
       "      <td>...</td>\n",
       "      <td>...</td>\n",
       "    </tr>\n",
       "    <tr>\n",
       "      <th>1750</th>\n",
       "      <td>1</td>\n",
       "      <td>0</td>\n",
       "      <td>0</td>\n",
       "    </tr>\n",
       "    <tr>\n",
       "      <th>1751</th>\n",
       "      <td>0</td>\n",
       "      <td>0</td>\n",
       "      <td>1</td>\n",
       "    </tr>\n",
       "    <tr>\n",
       "      <th>1752</th>\n",
       "      <td>0</td>\n",
       "      <td>0</td>\n",
       "      <td>1</td>\n",
       "    </tr>\n",
       "    <tr>\n",
       "      <th>1753</th>\n",
       "      <td>0</td>\n",
       "      <td>0</td>\n",
       "      <td>1</td>\n",
       "    </tr>\n",
       "    <tr>\n",
       "      <th>1754</th>\n",
       "      <td>0</td>\n",
       "      <td>1</td>\n",
       "      <td>0</td>\n",
       "    </tr>\n",
       "  </tbody>\n",
       "</table>\n",
       "<p>1755 rows × 3 columns</p>\n",
       "</div>"
      ],
      "text/plain": [
       "      low  middle  high\n",
       "0       0       1     0\n",
       "1       1       0     0\n",
       "2       0       1     0\n",
       "3       0       0     1\n",
       "4       0       0     1\n",
       "...   ...     ...   ...\n",
       "1750    1       0     0\n",
       "1751    0       0     1\n",
       "1752    0       0     1\n",
       "1753    0       0     1\n",
       "1754    0       1     0\n",
       "\n",
       "[1755 rows x 3 columns]"
      ]
     },
     "execution_count": 21,
     "metadata": {},
     "output_type": "execute_result"
    }
   ],
   "source": [
    "dummies"
   ]
  },
  {
   "cell_type": "code",
   "execution_count": 22,
   "metadata": {},
   "outputs": [],
   "source": [
    "dummies2=pd.get_dummies(Y2['Z-Coordinate'])"
   ]
  },
  {
   "cell_type": "code",
   "execution_count": 23,
   "metadata": {},
   "outputs": [],
   "source": [
    "dummies2.rename(columns={0.0:'close',0.5:'middle',1.0:'far'},inplace=True)"
   ]
  },
  {
   "cell_type": "markdown",
   "metadata": {},
   "source": [
    "## Segregating Data based on Y coordiinates"
   ]
  },
  {
   "cell_type": "code",
   "execution_count": 24,
   "metadata": {},
   "outputs": [],
   "source": [
    "df_top=df_merged[df_merged['target.Y']==2.49]"
   ]
  },
  {
   "cell_type": "code",
   "execution_count": 25,
   "metadata": {},
   "outputs": [],
   "source": [
    "df_middle=df_merged[df_merged['target.Y']==1.49]"
   ]
  },
  {
   "cell_type": "code",
   "execution_count": 26,
   "metadata": {},
   "outputs": [],
   "source": [
    "df_below=df_merged[df_merged['target.Y']==0.49]"
   ]
  },
  {
   "cell_type": "markdown",
   "metadata": {},
   "source": [
    "## Creating the Models"
   ]
  },
  {
   "cell_type": "code",
   "execution_count": 27,
   "metadata": {},
   "outputs": [],
   "source": [
    "model1=GaussianNB()"
   ]
  },
  {
   "cell_type": "code",
   "execution_count": 28,
   "metadata": {},
   "outputs": [],
   "source": [
    "model2=KNeighborsClassifier(n_neighbors=1)"
   ]
  },
  {
   "cell_type": "code",
   "execution_count": 29,
   "metadata": {},
   "outputs": [],
   "source": [
    "model3=SVC()"
   ]
  },
  {
   "cell_type": "code",
   "execution_count": 30,
   "metadata": {},
   "outputs": [],
   "source": [
    "model4=RandomForestClassifier()"
   ]
  },
  {
   "cell_type": "markdown",
   "metadata": {},
   "source": [
    "## Testing accuracy by separating data as per position of points according to height"
   ]
  },
  {
   "cell_type": "markdown",
   "metadata": {},
   "source": [
    "# Naive Bayes"
   ]
  },
  {
   "cell_type": "markdown",
   "metadata": {},
   "source": [
    "### Data Points at the bottom"
   ]
  },
  {
   "cell_type": "code",
   "execution_count": 31,
   "metadata": {},
   "outputs": [
    {
     "data": {
      "text/plain": [
       "0.9760683760683762"
      ]
     },
     "execution_count": 31,
     "metadata": {},
     "output_type": "execute_result"
    }
   ],
   "source": [
    "cross_val_score(model1,x,dummies['low'],cv=3).mean()    "
   ]
  },
  {
   "cell_type": "markdown",
   "metadata": {},
   "source": [
    "### Data Points at the middle"
   ]
  },
  {
   "cell_type": "code",
   "execution_count": 32,
   "metadata": {},
   "outputs": [
    {
     "data": {
      "text/plain": [
       "0.9225071225071225"
      ]
     },
     "execution_count": 32,
     "metadata": {},
     "output_type": "execute_result"
    }
   ],
   "source": [
    "cross_val_score(model1,x,dummies['middle'],cv=3).mean()"
   ]
  },
  {
   "cell_type": "markdown",
   "metadata": {},
   "source": [
    "### Data Points at the high"
   ]
  },
  {
   "cell_type": "code",
   "execution_count": 33,
   "metadata": {},
   "outputs": [
    {
     "data": {
      "text/plain": [
       "0.9908831908831909"
      ]
     },
     "execution_count": 33,
     "metadata": {},
     "output_type": "execute_result"
    }
   ],
   "source": [
    "cross_val_score(model1,x,dummies['high'],cv=3).mean()"
   ]
  },
  {
   "cell_type": "markdown",
   "metadata": {},
   "source": [
    "# KNN"
   ]
  },
  {
   "cell_type": "markdown",
   "metadata": {},
   "source": [
    "### Data Points at the bottom\n"
   ]
  },
  {
   "cell_type": "code",
   "execution_count": 34,
   "metadata": {},
   "outputs": [
    {
     "data": {
      "text/plain": [
       "0.978917378917379"
      ]
     },
     "execution_count": 34,
     "metadata": {},
     "output_type": "execute_result"
    }
   ],
   "source": [
    "cross_val_score(model2,x,dummies['low'],cv=3).mean()"
   ]
  },
  {
   "cell_type": "markdown",
   "metadata": {},
   "source": [
    "### Data Points at the middle"
   ]
  },
  {
   "cell_type": "code",
   "execution_count": 35,
   "metadata": {
    "scrolled": true
   },
   "outputs": [
    {
     "data": {
      "text/plain": [
       "0.9783475783475785"
      ]
     },
     "execution_count": 35,
     "metadata": {},
     "output_type": "execute_result"
    }
   ],
   "source": [
    "cross_val_score(model2,x,dummies['middle'],cv=3).mean()"
   ]
  },
  {
   "cell_type": "markdown",
   "metadata": {},
   "source": [
    "### Data Points at the high"
   ]
  },
  {
   "cell_type": "code",
   "execution_count": 36,
   "metadata": {},
   "outputs": [
    {
     "data": {
      "text/plain": [
       "0.9948717948717949"
      ]
     },
     "execution_count": 36,
     "metadata": {},
     "output_type": "execute_result"
    }
   ],
   "source": [
    "cross_val_score(model2,x,dummies['high'],cv=3).mean()"
   ]
  },
  {
   "cell_type": "markdown",
   "metadata": {},
   "source": [
    "# SVM"
   ]
  },
  {
   "cell_type": "markdown",
   "metadata": {},
   "source": [
    "### Data Points at the bottom\n"
   ]
  },
  {
   "cell_type": "code",
   "execution_count": 37,
   "metadata": {},
   "outputs": [
    {
     "data": {
      "text/plain": [
       "0.9800569800569802"
      ]
     },
     "execution_count": 37,
     "metadata": {},
     "output_type": "execute_result"
    }
   ],
   "source": [
    "cross_val_score(model3,x,dummies['low'],cv=3).mean()"
   ]
  },
  {
   "cell_type": "markdown",
   "metadata": {},
   "source": [
    "### Data Points at the middle"
   ]
  },
  {
   "cell_type": "code",
   "execution_count": 38,
   "metadata": {},
   "outputs": [
    {
     "data": {
      "text/plain": [
       "0.9772079772079773"
      ]
     },
     "execution_count": 38,
     "metadata": {},
     "output_type": "execute_result"
    }
   ],
   "source": [
    "cross_val_score(model3,x,dummies['middle'],cv=3).mean()"
   ]
  },
  {
   "cell_type": "markdown",
   "metadata": {},
   "source": [
    "### Data Points at the high"
   ]
  },
  {
   "cell_type": "code",
   "execution_count": 39,
   "metadata": {},
   "outputs": [
    {
     "data": {
      "text/plain": [
       "0.9965811965811966"
      ]
     },
     "execution_count": 39,
     "metadata": {},
     "output_type": "execute_result"
    }
   ],
   "source": [
    "cross_val_score(model3,x,dummies['high'],cv=3).mean()"
   ]
  },
  {
   "cell_type": "markdown",
   "metadata": {},
   "source": [
    "# Random Forest Classifier"
   ]
  },
  {
   "cell_type": "markdown",
   "metadata": {},
   "source": [
    "### Data Points at the bottom\n"
   ]
  },
  {
   "cell_type": "code",
   "execution_count": 40,
   "metadata": {},
   "outputs": [
    {
     "data": {
      "text/plain": [
       "0.9766381766381768"
      ]
     },
     "execution_count": 40,
     "metadata": {},
     "output_type": "execute_result"
    }
   ],
   "source": [
    "cross_val_score(model4,x,dummies['low'],cv=3).mean()"
   ]
  },
  {
   "cell_type": "markdown",
   "metadata": {},
   "source": [
    "### Data Points at the middle"
   ]
  },
  {
   "cell_type": "code",
   "execution_count": 41,
   "metadata": {},
   "outputs": [
    {
     "data": {
      "text/plain": [
       "0.9720797720797721"
      ]
     },
     "execution_count": 41,
     "metadata": {},
     "output_type": "execute_result"
    }
   ],
   "source": [
    "cross_val_score(model4,x,dummies['middle'],cv=3).mean()"
   ]
  },
  {
   "cell_type": "markdown",
   "metadata": {},
   "source": [
    "### Data Points at the high"
   ]
  },
  {
   "cell_type": "code",
   "execution_count": 42,
   "metadata": {},
   "outputs": [
    {
     "data": {
      "text/plain": [
       "0.9948717948717949"
      ]
     },
     "execution_count": 42,
     "metadata": {},
     "output_type": "execute_result"
    }
   ],
   "source": [
    "cross_val_score(model4,x,dummies['high'],cv=3).mean()"
   ]
  },
  {
   "cell_type": "markdown",
   "metadata": {},
   "source": [
    "### As we can see from the above results, we can see that the accuracy is high for the higher points, it decreases as we come at the middle and increases and becomes maximum at the bottom points."
   ]
  },
  {
   "cell_type": "markdown",
   "metadata": {},
   "source": [
    "## Testing accuracy by separating data as per position of points according to height"
   ]
  },
  {
   "cell_type": "markdown",
   "metadata": {},
   "source": [
    "# Naive Bayes"
   ]
  },
  {
   "cell_type": "markdown",
   "metadata": {},
   "source": [
    "### Data Points which are near"
   ]
  },
  {
   "cell_type": "code",
   "execution_count": 55,
   "metadata": {},
   "outputs": [
    {
     "data": {
      "text/plain": [
       "0.776068376068376"
      ]
     },
     "execution_count": 55,
     "metadata": {},
     "output_type": "execute_result"
    }
   ],
   "source": [
    "cross_val_score(model1,x,dummies2['close'],cv=3).mean()    "
   ]
  },
  {
   "cell_type": "markdown",
   "metadata": {},
   "source": [
    "### Data Points which are in the middle"
   ]
  },
  {
   "cell_type": "code",
   "execution_count": 44,
   "metadata": {},
   "outputs": [
    {
     "data": {
      "text/plain": [
       "0.6666666666666666"
      ]
     },
     "execution_count": 44,
     "metadata": {},
     "output_type": "execute_result"
    }
   ],
   "source": [
    "cross_val_score(model1,x,dummies2['middle'],cv=3).mean()  "
   ]
  },
  {
   "cell_type": "markdown",
   "metadata": {},
   "source": [
    "### Data Points which are far"
   ]
  },
  {
   "cell_type": "code",
   "execution_count": 45,
   "metadata": {},
   "outputs": [
    {
     "data": {
      "text/plain": [
       "0.7162393162393164"
      ]
     },
     "execution_count": 45,
     "metadata": {},
     "output_type": "execute_result"
    }
   ],
   "source": [
    "cross_val_score(model1,x,dummies2['far'],cv=3).mean()  "
   ]
  },
  {
   "cell_type": "markdown",
   "metadata": {},
   "source": [
    "## KNN"
   ]
  },
  {
   "cell_type": "markdown",
   "metadata": {},
   "source": [
    "### Data Points which are near"
   ]
  },
  {
   "cell_type": "code",
   "execution_count": 46,
   "metadata": {},
   "outputs": [
    {
     "data": {
      "text/plain": [
       "0.7504273504273504"
      ]
     },
     "execution_count": 46,
     "metadata": {},
     "output_type": "execute_result"
    }
   ],
   "source": [
    "cross_val_score(model2,x,dummies2['close'],cv=3).mean()    "
   ]
  },
  {
   "cell_type": "markdown",
   "metadata": {},
   "source": [
    "### Data Points which are in the middle"
   ]
  },
  {
   "cell_type": "code",
   "execution_count": 47,
   "metadata": {},
   "outputs": [
    {
     "data": {
      "text/plain": [
       "0.5504273504273505"
      ]
     },
     "execution_count": 47,
     "metadata": {},
     "output_type": "execute_result"
    }
   ],
   "source": [
    "cross_val_score(model2,x,dummies2['middle'],cv=3).mean()    "
   ]
  },
  {
   "cell_type": "markdown",
   "metadata": {},
   "source": [
    "### Data Points which are far"
   ]
  },
  {
   "cell_type": "code",
   "execution_count": 48,
   "metadata": {},
   "outputs": [
    {
     "data": {
      "text/plain": [
       "0.7025641025641026"
      ]
     },
     "execution_count": 48,
     "metadata": {},
     "output_type": "execute_result"
    }
   ],
   "source": [
    "cross_val_score(model2,x,dummies2['far'],cv=3).mean()    "
   ]
  },
  {
   "cell_type": "markdown",
   "metadata": {},
   "source": [
    "## SVM"
   ]
  },
  {
   "cell_type": "markdown",
   "metadata": {},
   "source": [
    "### Data Points which are near"
   ]
  },
  {
   "cell_type": "code",
   "execution_count": 49,
   "metadata": {},
   "outputs": [
    {
     "data": {
      "text/plain": [
       "0.8148148148148149"
      ]
     },
     "execution_count": 49,
     "metadata": {},
     "output_type": "execute_result"
    }
   ],
   "source": [
    "cross_val_score(model3,x,dummies2['close'],cv=5).mean()  "
   ]
  },
  {
   "cell_type": "markdown",
   "metadata": {},
   "source": [
    "### Data Points which are in the middle"
   ]
  },
  {
   "cell_type": "code",
   "execution_count": 50,
   "metadata": {},
   "outputs": [
    {
     "data": {
      "text/plain": [
       "0.6666666666666666"
      ]
     },
     "execution_count": 50,
     "metadata": {},
     "output_type": "execute_result"
    }
   ],
   "source": [
    "cross_val_score(model3,x,dummies2['middle'],cv=5).mean()  "
   ]
  },
  {
   "cell_type": "markdown",
   "metadata": {},
   "source": [
    "### Data Points which are far"
   ]
  },
  {
   "cell_type": "code",
   "execution_count": 51,
   "metadata": {},
   "outputs": [
    {
     "data": {
      "text/plain": [
       "0.7407407407407407"
      ]
     },
     "execution_count": 51,
     "metadata": {},
     "output_type": "execute_result"
    }
   ],
   "source": [
    "cross_val_score(model3,x,dummies2['far'],cv=5).mean()  "
   ]
  },
  {
   "cell_type": "markdown",
   "metadata": {},
   "source": [
    "## Random Forest"
   ]
  },
  {
   "cell_type": "markdown",
   "metadata": {},
   "source": [
    "### Data Points which are near"
   ]
  },
  {
   "cell_type": "code",
   "execution_count": 52,
   "metadata": {},
   "outputs": [
    {
     "data": {
      "text/plain": [
       "0.8005698005698006"
      ]
     },
     "execution_count": 52,
     "metadata": {},
     "output_type": "execute_result"
    }
   ],
   "source": [
    "cross_val_score(model4,x,dummies2['close'],cv=5).mean()  "
   ]
  },
  {
   "cell_type": "markdown",
   "metadata": {},
   "source": [
    "### Data Points which are in the middle"
   ]
  },
  {
   "cell_type": "code",
   "execution_count": 53,
   "metadata": {},
   "outputs": [
    {
     "data": {
      "text/plain": [
       "0.6005698005698006"
      ]
     },
     "execution_count": 53,
     "metadata": {},
     "output_type": "execute_result"
    }
   ],
   "source": [
    "cross_val_score(model4,x,dummies2['middle'],cv=5).mean()  "
   ]
  },
  {
   "cell_type": "markdown",
   "metadata": {},
   "source": [
    "### Data Points which are far"
   ]
  },
  {
   "cell_type": "code",
   "execution_count": 54,
   "metadata": {},
   "outputs": [
    {
     "data": {
      "text/plain": [
       "0.7076923076923076"
      ]
     },
     "execution_count": 54,
     "metadata": {},
     "output_type": "execute_result"
    }
   ],
   "source": [
    "cross_val_score(model4,x,dummies2['far'],cv=5).mean()  "
   ]
  },
  {
   "cell_type": "markdown",
   "metadata": {},
   "source": [
    "## Inference"
   ]
  },
  {
   "cell_type": "markdown",
   "metadata": {},
   "source": [
    "So as we can see through the above results, the accuracy is highest when the data point in closer, it is lowest when in the middle and also low as compared to the closer ones when it is far away"
   ]
  }
 ],
 "metadata": {
  "kernelspec": {
   "display_name": "Python 3",
   "language": "python",
   "name": "python3"
  },
  "language_info": {
   "codemirror_mode": {
    "name": "ipython",
    "version": 3
   },
   "file_extension": ".py",
   "mimetype": "text/x-python",
   "name": "python",
   "nbconvert_exporter": "python",
   "pygments_lexer": "ipython3",
   "version": "3.8.3"
  }
 },
 "nbformat": 4,
 "nbformat_minor": 4
}
